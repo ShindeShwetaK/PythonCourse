{
 "cells": [
  {
   "cell_type": "markdown",
   "id": "52adda11",
   "metadata": {},
   "source": [
    "# Variables "
   ]
  },
  {
   "cell_type": "code",
   "execution_count": 1,
   "id": "76b233ad",
   "metadata": {},
   "outputs": [],
   "source": [
    "x=3"
   ]
  },
  {
   "cell_type": "code",
   "execution_count": 209,
   "id": "d2b753e4",
   "metadata": {},
   "outputs": [
    {
     "name": "stdout",
     "output_type": "stream",
     "text": [
      "Variable                      Type        Data/Info\n",
      "---------------------------------------------------\n",
      "L                             list        n=5\n",
      "L2                            list        n=5\n",
      "L3                            list        n=4\n",
      "NL                            list        n=5\n",
      "OL                            list        n=5\n",
      "UniFun                        module      <module 'MyModule' from '<...>honModules\\\\MyModule.py'>\n",
      "UniFuns                       module      <module 'MyModules' from <...>onModules\\\\MyModules.py'>\n",
      "add                           function    <function add at 0x000001CDD27A85E0>\n",
      "c                             int         5\n",
      "catchsum                      int         6\n",
      "checkarg                      function    <function checkarg at 0x000001CDD5313F60>\n",
      "demo                          function    <function demo at 0x000001CDD5EC2340>\n",
      "demo2                         function    <function demo2 at 0x000001CDD5EC0680>\n",
      "description                   function    <function description at 0x000001CDD51AC180>\n",
      "ff                            function    <function ff at 0x000001CDD5EC3560>\n",
      "findmin                       function    <function findmin at 0x000001CDD5F52E80>\n",
      "fun                           function    <function fun at 0x000001CDD5311080>\n",
      "function1                     function    <function function1 at 0x000001CDD5313240>\n",
      "gg                            function    <function gg at 0x000001CDD5EC39C0>\n",
      "h                             function    <function h at 0x000001CDD5EC19E0>\n",
      "i                             int         4\n",
      "idx                           int         4\n",
      "j                             int         4\n",
      "minno                         int         5\n",
      "myadd                         function    <function myadd at 0x000001CDD51ACB80>\n",
      "mypow                         function    <function mypow at 0x000001CDD5312D40>\n",
      "numFuns                       function    <function checkifnotnum at 0x000001CDD5EC11C0>\n",
      "printmessage                  function    <function printmessage at 0x000001CDD5310C20>\n",
      "printsuccess                  function    <function printsuccess at 0x000001CDD510EF20>\n",
      "printvariablenamesandvalues   function    <function printvariablena<...>es at 0x000001CDD5310E00>\n",
      "return1                       function    <function return1 at 0x000001CDD5EC2480>\n",
      "return2                       function    <function return2 at 0x000001CDD5313E20>\n",
      "sortLL                        function    <function sortLL at 0x000001CDD607B9C0>\n",
      "sortList                      function    <function sortList at 0x000001CDD613F880>\n",
      "swapvalues                    function    <function swapvalues at 0x000001CDD607BBA0>\n",
      "sys                           module      <module 'sys' (built-in)>\n",
      "temp                          int         5\n",
      "variableoutsidefunction       int         100\n",
      "x                             float       7.99\n",
      "y                             int         1\n",
      "z                             str         happy\n"
     ]
    }
   ],
   "source": [
    "%whos"
   ]
  },
  {
   "cell_type": "code",
   "execution_count": 3,
   "id": "6f2f7f51",
   "metadata": {},
   "outputs": [
    {
     "name": "stdout",
     "output_type": "stream",
     "text": [
      "<class 'int'>\n"
     ]
    }
   ],
   "source": [
    "print(type(x))"
   ]
  },
  {
   "cell_type": "code",
   "execution_count": 4,
   "id": "fc341a34",
   "metadata": {},
   "outputs": [],
   "source": [
    "x=5.7"
   ]
  },
  {
   "cell_type": "code",
   "execution_count": 5,
   "id": "f749a044",
   "metadata": {},
   "outputs": [
    {
     "name": "stdout",
     "output_type": "stream",
     "text": [
      "Variable   Type     Data/Info\n",
      "-----------------------------\n",
      "x          float    5.7\n"
     ]
    }
   ],
   "source": [
    "%whos"
   ]
  },
  {
   "cell_type": "code",
   "execution_count": 6,
   "id": "e95bb555",
   "metadata": {},
   "outputs": [
    {
     "name": "stdout",
     "output_type": "stream",
     "text": [
      "<class 'float'>\n"
     ]
    }
   ],
   "source": [
    "print(type(x))"
   ]
  },
  {
   "cell_type": "code",
   "execution_count": 7,
   "id": "6b9508b6",
   "metadata": {},
   "outputs": [],
   "source": [
    "abcd = 555.36"
   ]
  },
  {
   "cell_type": "code",
   "execution_count": 9,
   "id": "e9f37e85",
   "metadata": {},
   "outputs": [
    {
     "name": "stdout",
     "output_type": "stream",
     "text": [
      "Variable   Type     Data/Info\n",
      "-----------------------------\n",
      "abcd       float    555.36\n",
      "x          float    5.7\n"
     ]
    }
   ],
   "source": [
    "%whos"
   ]
  },
  {
   "cell_type": "code",
   "execution_count": 11,
   "id": "ceabd9c3",
   "metadata": {},
   "outputs": [],
   "source": [
    "a,b,c,d,f=3,5,6,-7,0.9"
   ]
  },
  {
   "cell_type": "code",
   "execution_count": 12,
   "id": "6643f891",
   "metadata": {},
   "outputs": [
    {
     "name": "stdout",
     "output_type": "stream",
     "text": [
      "Variable   Type     Data/Info\n",
      "-----------------------------\n",
      "a          int      3\n",
      "abcd       float    555.36\n",
      "b          int      5\n",
      "c          int      6\n",
      "d          int      -7\n",
      "f          float    0.9\n",
      "x          float    5.7\n"
     ]
    }
   ],
   "source": [
    "%whos"
   ]
  },
  {
   "cell_type": "code",
   "execution_count": 13,
   "id": "289c81fd",
   "metadata": {},
   "outputs": [],
   "source": [
    "del abcd"
   ]
  },
  {
   "cell_type": "code",
   "execution_count": 15,
   "id": "77cd1da7",
   "metadata": {},
   "outputs": [
    {
     "ename": "NameError",
     "evalue": "name 'abcd' is not defined",
     "output_type": "error",
     "traceback": [
      "\u001b[1;31m---------------------------------------------------------------------------\u001b[0m",
      "\u001b[1;31mNameError\u001b[0m                                 Traceback (most recent call last)",
      "Cell \u001b[1;32mIn[15], line 1\u001b[0m\n\u001b[1;32m----> 1\u001b[0m \u001b[38;5;28mprint\u001b[39m(abcd)\n",
      "\u001b[1;31mNameError\u001b[0m: name 'abcd' is not defined"
     ]
    }
   ],
   "source": [
    "print(abcd)"
   ]
  },
  {
   "cell_type": "code",
   "execution_count": 18,
   "id": "9572cf9d",
   "metadata": {},
   "outputs": [],
   "source": [
    "c=5+6j"
   ]
  },
  {
   "cell_type": "code",
   "execution_count": 19,
   "id": "4a66f142",
   "metadata": {},
   "outputs": [
    {
     "name": "stdout",
     "output_type": "stream",
     "text": [
      "<class 'complex'>\n"
     ]
    }
   ],
   "source": [
    "print(type(c))"
   ]
  },
  {
   "cell_type": "code",
   "execution_count": 20,
   "id": "8e6796d6",
   "metadata": {},
   "outputs": [],
   "source": [
    "s='hello'"
   ]
  },
  {
   "cell_type": "code",
   "execution_count": 21,
   "id": "eef1c163",
   "metadata": {},
   "outputs": [
    {
     "name": "stdout",
     "output_type": "stream",
     "text": [
      "<class 'str'>\n"
     ]
    }
   ],
   "source": [
    "print(type(s))"
   ]
  },
  {
   "cell_type": "code",
   "execution_count": 22,
   "id": "a0c89896",
   "metadata": {},
   "outputs": [],
   "source": [
    "a=-5\n"
   ]
  },
  {
   "cell_type": "code",
   "execution_count": 23,
   "id": "626243ad",
   "metadata": {},
   "outputs": [
    {
     "name": "stdout",
     "output_type": "stream",
     "text": [
      "-5\n"
     ]
    }
   ],
   "source": [
    "print(a)"
   ]
  },
  {
   "cell_type": "code",
   "execution_count": 25,
   "id": "cb77bd19",
   "metadata": {},
   "outputs": [
    {
     "name": "stdout",
     "output_type": "stream",
     "text": [
      "0\n"
     ]
    }
   ],
   "source": [
    "print(b%a)"
   ]
  },
  {
   "cell_type": "code",
   "execution_count": 26,
   "id": "2aff9c3b",
   "metadata": {},
   "outputs": [
    {
     "name": "stdout",
     "output_type": "stream",
     "text": [
      "5\n"
     ]
    }
   ],
   "source": [
    "print(b)"
   ]
  },
  {
   "cell_type": "code",
   "execution_count": 27,
   "id": "dbd96362",
   "metadata": {},
   "outputs": [],
   "source": [
    "s='hello'"
   ]
  },
  {
   "cell_type": "code",
   "execution_count": 28,
   "id": "6bec9308",
   "metadata": {},
   "outputs": [],
   "source": [
    "u='world'"
   ]
  },
  {
   "cell_type": "code",
   "execution_count": 29,
   "id": "fb9341a6",
   "metadata": {},
   "outputs": [
    {
     "name": "stdout",
     "output_type": "stream",
     "text": [
      "helloworld\n"
     ]
    }
   ],
   "source": [
    "print(s+u)"
   ]
  },
  {
   "cell_type": "markdown",
   "id": "0a0d77be",
   "metadata": {},
   "source": [
    "# Operators"
   ]
  },
  {
   "cell_type": "code",
   "execution_count": 30,
   "id": "f69c8f0b",
   "metadata": {},
   "outputs": [
    {
     "name": "stdout",
     "output_type": "stream",
     "text": [
      "Variable   Type       Data/Info\n",
      "-------------------------------\n",
      "a          int        -5\n",
      "b          int        5\n",
      "c          complex    (5+6j)\n",
      "d          int        -7\n",
      "f          float      0.9\n",
      "s          str        hello\n",
      "u          str        world\n",
      "x          float      5.7\n"
     ]
    }
   ],
   "source": [
    "%whos"
   ]
  },
  {
   "cell_type": "code",
   "execution_count": 31,
   "id": "a39f88ad",
   "metadata": {},
   "outputs": [
    {
     "data": {
      "text/plain": [
       "-5"
      ]
     },
     "execution_count": 31,
     "metadata": {},
     "output_type": "execute_result"
    }
   ],
   "source": [
    "a"
   ]
  },
  {
   "cell_type": "code",
   "execution_count": 32,
   "id": "6edba62b",
   "metadata": {},
   "outputs": [
    {
     "ename": "SyntaxError",
     "evalue": "invalid decimal literal (2695640289.py, line 1)",
     "output_type": "error",
     "traceback": [
      "\u001b[1;36m  Cell \u001b[1;32mIn[32], line 1\u001b[1;36m\u001b[0m\n\u001b[1;33m    3x=5\u001b[0m\n\u001b[1;37m    ^\u001b[0m\n\u001b[1;31mSyntaxError\u001b[0m\u001b[1;31m:\u001b[0m invalid decimal literal\n"
     ]
    }
   ],
   "source": [
    "3x=5"
   ]
  },
  {
   "cell_type": "code",
   "execution_count": 33,
   "id": "8eb67a63",
   "metadata": {},
   "outputs": [
    {
     "ename": "SyntaxError",
     "evalue": "invalid syntax (4210102358.py, line 1)",
     "output_type": "error",
     "traceback": [
      "\u001b[1;36m  Cell \u001b[1;32mIn[33], line 1\u001b[1;36m\u001b[0m\n\u001b[1;33m    @=0\u001b[0m\n\u001b[1;37m    ^\u001b[0m\n\u001b[1;31mSyntaxError\u001b[0m\u001b[1;31m:\u001b[0m invalid syntax\n"
     ]
    }
   ],
   "source": [
    "@=0"
   ]
  },
  {
   "cell_type": "code",
   "execution_count": 34,
   "id": "572b2e3e",
   "metadata": {},
   "outputs": [
    {
     "name": "stderr",
     "output_type": "stream",
     "text": [
      "'c' is not recognized as an internal or external command,\n",
      "operable program or batch file.\n"
     ]
    }
   ],
   "source": [
    "!c=9"
   ]
  },
  {
   "cell_type": "code",
   "execution_count": 35,
   "id": "dfefba1b",
   "metadata": {},
   "outputs": [
    {
     "name": "stderr",
     "output_type": "stream",
     "text": [
      "'v' is not recognized as an internal or external command,\n",
      "operable program or batch file.\n"
     ]
    }
   ],
   "source": [
    "!v=9"
   ]
  },
  {
   "cell_type": "code",
   "execution_count": 36,
   "id": "5fde74fb",
   "metadata": {},
   "outputs": [
    {
     "name": "stderr",
     "output_type": "stream",
     "text": [
      "'2x' is not recognized as an internal or external command,\n",
      "operable program or batch file.\n"
     ]
    }
   ],
   "source": [
    "!2x=9"
   ]
  },
  {
   "cell_type": "code",
   "execution_count": 1,
   "id": "c7e4ea72",
   "metadata": {},
   "outputs": [
    {
     "data": {
      "text/plain": [
       "3.7777777777777777"
      ]
     },
     "execution_count": 1,
     "metadata": {},
     "output_type": "execute_result"
    }
   ],
   "source": [
    "34/9"
   ]
  },
  {
   "cell_type": "code",
   "execution_count": 2,
   "id": "fb61e01b",
   "metadata": {},
   "outputs": [
    {
     "data": {
      "text/plain": [
       "3"
      ]
     },
     "execution_count": 2,
     "metadata": {},
     "output_type": "execute_result"
    }
   ],
   "source": [
    "34//9"
   ]
  },
  {
   "cell_type": "code",
   "execution_count": 3,
   "id": "d181b34d",
   "metadata": {},
   "outputs": [
    {
     "data": {
      "text/plain": [
       "1.1111111111111112"
      ]
     },
     "execution_count": 3,
     "metadata": {},
     "output_type": "execute_result"
    }
   ],
   "source": [
    "10/9"
   ]
  },
  {
   "cell_type": "code",
   "execution_count": 4,
   "id": "5505ffde",
   "metadata": {},
   "outputs": [
    {
     "data": {
      "text/plain": [
       "1"
      ]
     },
     "execution_count": 4,
     "metadata": {},
     "output_type": "execute_result"
    }
   ],
   "source": [
    "10//9"
   ]
  },
  {
   "cell_type": "code",
   "execution_count": 5,
   "id": "d69f7dff",
   "metadata": {},
   "outputs": [
    {
     "data": {
      "text/plain": [
       "0"
      ]
     },
     "execution_count": 5,
     "metadata": {},
     "output_type": "execute_result"
    }
   ],
   "source": [
    "2^2"
   ]
  },
  {
   "cell_type": "code",
   "execution_count": 6,
   "id": "f3f7d3f4",
   "metadata": {},
   "outputs": [
    {
     "data": {
      "text/plain": [
       "4"
      ]
     },
     "execution_count": 6,
     "metadata": {},
     "output_type": "execute_result"
    }
   ],
   "source": [
    "2**2"
   ]
  },
  {
   "cell_type": "code",
   "execution_count": 7,
   "id": "af4e5ba2",
   "metadata": {},
   "outputs": [
    {
     "name": "stdout",
     "output_type": "stream",
     "text": [
      "enter a number:56\n"
     ]
    }
   ],
   "source": [
    "x=input(\"enter a number:\")"
   ]
  },
  {
   "cell_type": "code",
   "execution_count": 8,
   "id": "4c4d635a",
   "metadata": {},
   "outputs": [
    {
     "data": {
      "text/plain": [
       "str"
      ]
     },
     "execution_count": 8,
     "metadata": {},
     "output_type": "execute_result"
    }
   ],
   "source": [
    "type(x)"
   ]
  },
  {
   "cell_type": "code",
   "execution_count": 9,
   "id": "2943ce58",
   "metadata": {},
   "outputs": [
    {
     "name": "stdout",
     "output_type": "stream",
     "text": [
      "56\n"
     ]
    }
   ],
   "source": [
    "print(x)"
   ]
  },
  {
   "cell_type": "code",
   "execution_count": 10,
   "id": "bd303234",
   "metadata": {},
   "outputs": [],
   "source": [
    "x=int(x)"
   ]
  },
  {
   "cell_type": "code",
   "execution_count": 11,
   "id": "ab7e4067",
   "metadata": {},
   "outputs": [
    {
     "data": {
      "text/plain": [
       "int"
      ]
     },
     "execution_count": 11,
     "metadata": {},
     "output_type": "execute_result"
    }
   ],
   "source": [
    "type(x)"
   ]
  },
  {
   "cell_type": "code",
   "execution_count": 12,
   "id": "6841bdbb",
   "metadata": {},
   "outputs": [],
   "source": [
    "pow?"
   ]
  },
  {
   "cell_type": "code",
   "execution_count": 13,
   "id": "e97d997a",
   "metadata": {},
   "outputs": [
    {
     "ename": "SyntaxError",
     "evalue": "Missing parentheses in call to 'print'. Did you mean print(...)? (3001022743.py, line 4)",
     "output_type": "error",
     "traceback": [
      "\u001b[1;36m  Cell \u001b[1;32mIn[13], line 4\u001b[1;36m\u001b[0m\n\u001b[1;33m    print a\u001b[0m\n\u001b[1;37m    ^\u001b[0m\n\u001b[1;31mSyntaxError\u001b[0m\u001b[1;31m:\u001b[0m Missing parentheses in call to 'print'. Did you mean print(...)?\n"
     ]
    }
   ],
   "source": [
    "a= int(input(\"Enter number 1:\"))\n",
    "b= int(input(\"Enter number 2:\"))\n",
    "if b>a:\n",
    "    print a\n",
    "    print \"I m inside if\""
   ]
  },
  {
   "cell_type": "code",
   "execution_count": 14,
   "id": "52840ec2",
   "metadata": {},
   "outputs": [
    {
     "name": "stdout",
     "output_type": "stream",
     "text": [
      "Enter number 1:12\n",
      "Enter number 2:20\n",
      "12\n",
      "I m inside if\n",
      "I m outside If\n"
     ]
    }
   ],
   "source": [
    "a= int(input(\"Enter number 1:\"))\n",
    "b= int(input(\"Enter number 2:\"))\n",
    "if b>a:\n",
    "    print (a)\n",
    "    print (\"I m inside if\")\n",
    "print(\"I m outside If\")"
   ]
  },
  {
   "cell_type": "code",
   "execution_count": 15,
   "id": "6e851a8f",
   "metadata": {},
   "outputs": [
    {
     "name": "stdout",
     "output_type": "stream",
     "text": [
      "Enter number 1:20\n",
      "Enter number 2:12\n",
      "I m outside If\n"
     ]
    }
   ],
   "source": [
    "a= int(input(\"Enter number 1:\"))\n",
    "b= int(input(\"Enter number 2:\"))\n",
    "if b>a:\n",
    "    print (a)\n",
    "    print (\"I m inside if\")\n",
    "print(\"I m outside If\")"
   ]
  },
  {
   "cell_type": "code",
   "execution_count": 17,
   "id": "1f91767c",
   "metadata": {},
   "outputs": [
    {
     "name": "stdout",
     "output_type": "stream",
     "text": [
      "Enter number 1:12\n",
      "Enter number 2:9\n",
      "12\n",
      "A is greater I m inside if1\n",
      "I m outside\n"
     ]
    }
   ],
   "source": [
    "a= int(input(\"Enter number 1:\"))\n",
    "b= int(input(\"Enter number 2:\"))\n",
    "if a>b:\n",
    "    print (a)\n",
    "    print (\"A is greater I m inside if1\")\n",
    "if b>a:\n",
    "    print (b)\n",
    "    print (\"B is greater I m inside if2\")\n",
    "print(\"I m outside\")"
   ]
  },
  {
   "cell_type": "code",
   "execution_count": 19,
   "id": "30c4d0fe",
   "metadata": {},
   "outputs": [
    {
     "name": "stdout",
     "output_type": "stream",
     "text": [
      "Enter number 1:8\n",
      "Enter number 2:100\n",
      "100\n",
      "B is greater I m inside if2\n",
      "I m outside\n"
     ]
    }
   ],
   "source": [
    "a= int(input(\"Enter number 1:\"))\n",
    "b= int(input(\"Enter number 2:\"))\n",
    "if a>b:\n",
    "    print (a)\n",
    "    print (\"A is greater I m inside if1\")\n",
    "if b>a:\n",
    "    print (b)\n",
    "    print (\"B is greater I m inside if2\")\n",
    "print(\"I m outside\")"
   ]
  },
  {
   "cell_type": "code",
   "execution_count": 20,
   "id": "adeeae5c",
   "metadata": {},
   "outputs": [
    {
     "name": "stdout",
     "output_type": "stream",
     "text": [
      "Enter number 1:11\n",
      "Enter number 2:11\n",
      "I m outside\n"
     ]
    }
   ],
   "source": [
    "a= int(input(\"Enter number 1:\"))\n",
    "b= int(input(\"Enter number 2:\"))\n",
    "if a>b:\n",
    "    print (a)\n",
    "    print (\"A is greater I m inside if1\")\n",
    "if b>a:\n",
    "    print (b)\n",
    "    print (\"B is greater I m inside if2\")\n",
    "print(\"I m outside\")"
   ]
  },
  {
   "cell_type": "code",
   "execution_count": 25,
   "id": "e6192d53",
   "metadata": {},
   "outputs": [
    {
     "name": "stdout",
     "output_type": "stream",
     "text": [
      "Enter number 1:45\n",
      "Enter number 2:44\n",
      "45\n",
      "A is greater I m inside if1\n",
      "I m outside\n"
     ]
    }
   ],
   "source": [
    "a= int(input(\"Enter number 1:\"))\n",
    "b= int(input(\"Enter number 2:\"))\n",
    "if a>b:\n",
    "    print (a)\n",
    "    print (\"A is greater I m inside if1\")\n",
    "else:\n",
    "    print (b)\n",
    "    print (\"B is greater I m inside else\")\n",
    "print(\"I m outside\")"
   ]
  },
  {
   "cell_type": "code",
   "execution_count": 26,
   "id": "11e0f6f5",
   "metadata": {},
   "outputs": [
    {
     "name": "stdout",
     "output_type": "stream",
     "text": [
      "Enter number 1:60\n",
      "Enter number 2:70\n",
      "70\n",
      "B is greater I m inside else\n",
      "I m outside\n"
     ]
    }
   ],
   "source": [
    "a= int(input(\"Enter number 1:\"))\n",
    "b= int(input(\"Enter number 2:\"))\n",
    "if a>b:\n",
    "    print (a)\n",
    "    print (\"A is greater I m inside if1\")\n",
    "else:\n",
    "    print (b)\n",
    "    print (\"B is greater I m inside else\")\n",
    "print(\"I m outside\")"
   ]
  },
  {
   "cell_type": "code",
   "execution_count": 27,
   "id": "7f771017",
   "metadata": {},
   "outputs": [
    {
     "name": "stdout",
     "output_type": "stream",
     "text": [
      "Enter number 1:100\n",
      "Enter number 2:100\n",
      "100\n",
      "B is greater I m inside else\n",
      "I m outside\n"
     ]
    }
   ],
   "source": [
    "a= int(input(\"Enter number 1:\"))\n",
    "b= int(input(\"Enter number 2:\"))\n",
    "if a>b:\n",
    "    print (a)\n",
    "    print (\"A is greater I m inside if1\")\n",
    "else:\n",
    "    print (b)\n",
    "    print (\"B is greater I m inside else\")\n",
    "print(\"I m outside\")"
   ]
  },
  {
   "cell_type": "code",
   "execution_count": 29,
   "id": "5353d2c7",
   "metadata": {},
   "outputs": [
    {
     "name": "stdout",
     "output_type": "stream",
     "text": [
      "Enter number 1:10\n",
      "Enter number 2:1\n",
      "10\n",
      "A is greater I m inside if1\n",
      "I m outside\n"
     ]
    }
   ],
   "source": [
    "a= int(input(\"Enter number 1:\"))\n",
    "b= int(input(\"Enter number 2:\"))\n",
    "if a>b:\n",
    "    print (a)\n",
    "    print (\"A is greater I m inside if1\")\n",
    "elif a == b:\n",
    "    print(\"Both the numbers are equal i m inside elif\")\n",
    "else:\n",
    "    print (b)\n",
    "    print (\"B is greater I m inside else\")\n",
    "print(\"I m outside\")"
   ]
  },
  {
   "cell_type": "code",
   "execution_count": 30,
   "id": "ab8a7b1b",
   "metadata": {},
   "outputs": [
    {
     "name": "stdout",
     "output_type": "stream",
     "text": [
      "Enter number 1:30\n",
      "Enter number 2:55\n",
      "55\n",
      "B is greater I m inside else\n",
      "I m outside\n"
     ]
    }
   ],
   "source": [
    "a= int(input(\"Enter number 1:\"))\n",
    "b= int(input(\"Enter number 2:\"))\n",
    "if a>b:\n",
    "    print (a)\n",
    "    print (\"A is greater I m inside if1\")\n",
    "elif a == b:\n",
    "    print(\"Both the numbers are equal i m inside elif\")\n",
    "else:\n",
    "    print (b)\n",
    "    print (\"B is greater I m inside else\")\n",
    "print(\"I m outside\")"
   ]
  },
  {
   "cell_type": "code",
   "execution_count": 31,
   "id": "cfced6c6",
   "metadata": {},
   "outputs": [
    {
     "name": "stdout",
     "output_type": "stream",
     "text": [
      "Enter number 1:200\n",
      "Enter number 2:200\n",
      "Both the numbers are equal i m inside elif\n",
      "I m outside\n"
     ]
    }
   ],
   "source": [
    "a= int(input(\"Enter number 1:\"))\n",
    "b= int(input(\"Enter number 2:\"))\n",
    "if a>b:\n",
    "    print (a)\n",
    "    print (\"A is greater I m inside if1\")\n",
    "elif a == b:\n",
    "    print(\"Both the numbers are equal i m inside elif\")\n",
    "else:\n",
    "    print (b)\n",
    "    print (\"B is greater I m inside else\")\n",
    "print(\"I m outside\")"
   ]
  },
  {
   "cell_type": "code",
   "execution_count": 32,
   "id": "267228fe",
   "metadata": {},
   "outputs": [
    {
     "name": "stdout",
     "output_type": "stream",
     "text": [
      "Enter number 1:1.2\n"
     ]
    },
    {
     "ename": "ValueError",
     "evalue": "invalid literal for int() with base 10: '1.2'",
     "output_type": "error",
     "traceback": [
      "\u001b[1;31m---------------------------------------------------------------------------\u001b[0m",
      "\u001b[1;31mValueError\u001b[0m                                Traceback (most recent call last)",
      "Cell \u001b[1;32mIn[32], line 1\u001b[0m\n\u001b[1;32m----> 1\u001b[0m a\u001b[38;5;241m=\u001b[39m \u001b[38;5;28mint\u001b[39m(\u001b[38;5;28minput\u001b[39m(\u001b[38;5;124m\"\u001b[39m\u001b[38;5;124mEnter number 1:\u001b[39m\u001b[38;5;124m\"\u001b[39m))\n\u001b[0;32m      2\u001b[0m b\u001b[38;5;241m=\u001b[39m \u001b[38;5;28mint\u001b[39m(\u001b[38;5;28minput\u001b[39m(\u001b[38;5;124m\"\u001b[39m\u001b[38;5;124mEnter number 2:\u001b[39m\u001b[38;5;124m\"\u001b[39m))\n\u001b[0;32m      3\u001b[0m \u001b[38;5;28;01mif\u001b[39;00m a\u001b[38;5;241m>\u001b[39mb:\n",
      "\u001b[1;31mValueError\u001b[0m: invalid literal for int() with base 10: '1.2'"
     ]
    }
   ],
   "source": [
    "a= int(input(\"Enter number 1:\"))\n",
    "b= int(input(\"Enter number 2:\"))\n",
    "if a>b:\n",
    "    print (a)\n",
    "    print (\"A is greater I m inside if1\")\n",
    "elif a == b:\n",
    "    print(\"Both the numbers are equal i m inside elif\")\n",
    "else:\n",
    "    print (b)\n",
    "    print (\"B is greater I m inside else\")\n",
    "print(\"I m outside\")"
   ]
  },
  {
   "cell_type": "code",
   "execution_count": 33,
   "id": "2053d063",
   "metadata": {},
   "outputs": [
    {
     "name": "stdout",
     "output_type": "stream",
     "text": [
      "B\n"
     ]
    }
   ],
   "source": [
    "a= 9\n",
    "b=10\n",
    "print(\"A\") if a>b else print(\"=\") if a==b else print(\"B\")"
   ]
  },
  {
   "cell_type": "code",
   "execution_count": 34,
   "id": "f6894d6f",
   "metadata": {},
   "outputs": [
    {
     "name": "stdout",
     "output_type": "stream",
     "text": [
      "A\n"
     ]
    }
   ],
   "source": [
    "a= 100\n",
    "b=50\n",
    "print(\"A\") if a>b else print(\"=\") if a==b else print(\"B\")"
   ]
  },
  {
   "cell_type": "code",
   "execution_count": 35,
   "id": "6e48dcb6",
   "metadata": {},
   "outputs": [
    {
     "name": "stdout",
     "output_type": "stream",
     "text": [
      "=\n"
     ]
    }
   ],
   "source": [
    "a= 100\n",
    "b=100\n",
    "print(\"A\") if a>b else print(\"=\") if a==b else print(\"B\")"
   ]
  },
  {
   "cell_type": "code",
   "execution_count": 36,
   "id": "bb5ab686",
   "metadata": {},
   "outputs": [
    {
     "name": "stdout",
     "output_type": "stream",
     "text": [
      "Enter Your Marks:85\n",
      "You have A+ Grade\n"
     ]
    }
   ],
   "source": [
    "a=int(input(\"Enter Your Marks:\"))\n",
    "if a>=85:\n",
    "    print(\"You have A+ Grade\")\n",
    "elif (a<85) and (a>=80):\n",
    "    print(\"You have A Grade\")\n",
    "elif a<80 and a>=75:\n",
    "     print(\"You have B+ Grade\")\n",
    "elif a<75 and a>=70:\n",
    "    print(\"You have B Grade\")\n",
    "else:\n",
    "    print(\"Below Avg\")\n"
   ]
  },
  {
   "cell_type": "code",
   "execution_count": 37,
   "id": "6b489eac",
   "metadata": {},
   "outputs": [
    {
     "name": "stdout",
     "output_type": "stream",
     "text": [
      "Enter Your Marks:65\n",
      "Below Avg\n"
     ]
    }
   ],
   "source": [
    "a=int(input(\"Enter Your Marks:\"))\n",
    "if a>=85:\n",
    "    print(\"You have A+ Grade\")\n",
    "elif (a<85) and (a>=80):\n",
    "    print(\"You have A Grade\")\n",
    "elif a<80 and a>=75:\n",
    "     print(\"You have B+ Grade\")\n",
    "elif a<75 and a>=70:\n",
    "    print(\"You have B Grade\")\n",
    "else:\n",
    "    print(\"Below Avg\")"
   ]
  },
  {
   "cell_type": "code",
   "execution_count": 38,
   "id": "f8aa8fc5",
   "metadata": {},
   "outputs": [
    {
     "name": "stdout",
     "output_type": "stream",
     "text": [
      "Enter Your Marks:83\n",
      "You have A Grade\n"
     ]
    }
   ],
   "source": [
    "a=int(input(\"Enter Your Marks:\"))\n",
    "if a>=85:\n",
    "    print(\"You have A+ Grade\")\n",
    "elif (a<85) and (a>=80):\n",
    "    print(\"You have A Grade\")\n",
    "elif a<80 and a>=75:\n",
    "     print(\"You have B+ Grade\")\n",
    "elif a<75 and a>=70:\n",
    "    print(\"You have B Grade\")\n",
    "else:\n",
    "    print(\"Below Avg\")"
   ]
  },
  {
   "cell_type": "code",
   "execution_count": 39,
   "id": "eaf6eb00",
   "metadata": {},
   "outputs": [
    {
     "name": "stdout",
     "output_type": "stream",
     "text": [
      "Enter Your Marks:74\n",
      "You have B Grade\n"
     ]
    }
   ],
   "source": [
    "a=int(input(\"Enter Your Marks:\"))\n",
    "if a>=85:\n",
    "    print(\"You have A+ Grade\")\n",
    "elif (a<85) and (a>=80):\n",
    "    print(\"You have A Grade\")\n",
    "elif a<80 and a>=75:\n",
    "     print(\"You have B+ Grade\")\n",
    "elif a<75 and a>=70:\n",
    "    print(\"You have B Grade\")\n",
    "else:\n",
    "    print(\"Below Avg\")"
   ]
  },
  {
   "cell_type": "code",
   "execution_count": 40,
   "id": "fb7b38b3",
   "metadata": {},
   "outputs": [
    {
     "name": "stdout",
     "output_type": "stream",
     "text": [
      "Enter Your Marks:76\n",
      "You have B+ Grade\n"
     ]
    }
   ],
   "source": [
    "a=int(input(\"Enter Your Marks:\"))\n",
    "if a>=85:\n",
    "    print(\"You have A+ Grade\")\n",
    "elif (a<85) and (a>=80):\n",
    "    print(\"You have A Grade\")\n",
    "elif a<80 and a>=75:\n",
    "     print(\"You have B+ Grade\")\n",
    "elif a<75 and a>=70:\n",
    "    print(\"You have B Grade\")\n",
    "else:\n",
    "    print(\"Below Avg\")"
   ]
  },
  {
   "cell_type": "code",
   "execution_count": 41,
   "id": "2f02789d",
   "metadata": {},
   "outputs": [
    {
     "name": "stdout",
     "output_type": "stream",
     "text": [
      "Enter Your Marks:70\n",
      "You have B Grade\n"
     ]
    }
   ],
   "source": [
    "a=int(input(\"Enter Your Marks:\"))\n",
    "if a>=85:\n",
    "    print(\"You have A+ Grade\")\n",
    "elif (a<85) and (a>=80):\n",
    "    print(\"You have A Grade\")\n",
    "elif a<80 and a>=75:\n",
    "     print(\"You have B+ Grade\")\n",
    "elif a<75 and a>=70:\n",
    "    print(\"You have B Grade\")\n",
    "else:\n",
    "    print(\"Below Avg\")"
   ]
  },
  {
   "cell_type": "code",
   "execution_count": 43,
   "id": "8f0da6db",
   "metadata": {},
   "outputs": [
    {
     "name": "stdout",
     "output_type": "stream",
     "text": [
      "a<10 else part\n"
     ]
    }
   ],
   "source": [
    "a=3\n",
    "if a>10:\n",
    "    print(\"a>10\")\n",
    "elif not(a>10):\n",
    "    print(\"a<10 else part\")"
   ]
  },
  {
   "cell_type": "code",
   "execution_count": 44,
   "id": "be77d2a8",
   "metadata": {},
   "outputs": [
    {
     "name": "stdout",
     "output_type": "stream",
     "text": [
      "a<10 else part\n"
     ]
    }
   ],
   "source": [
    "a=10\n",
    "if a>10:\n",
    "    print(\"a>10\")\n",
    "elif not(a>10):\n",
    "    print(\"a<10 else part\")"
   ]
  },
  {
   "cell_type": "code",
   "execution_count": 45,
   "id": "de877042",
   "metadata": {},
   "outputs": [
    {
     "name": "stdout",
     "output_type": "stream",
     "text": [
      "a>10\n"
     ]
    }
   ],
   "source": [
    "a=100\n",
    "if a>10:\n",
    "    print(\"a>10\")\n",
    "elif not(a>10):\n",
    "    print(\"a<10 else part\")"
   ]
  },
  {
   "cell_type": "code",
   "execution_count": 46,
   "id": "3520077f",
   "metadata": {},
   "outputs": [
    {
     "name": "stdout",
     "output_type": "stream",
     "text": [
      "Enter Number:-12\n",
      "Number >10,\n",
      "but not greater then 20.\n"
     ]
    }
   ],
   "source": [
    "x=int(input(\"Enter Number:-\"))\n",
    "if x>10:\n",
    "    print(\"Number >10,\")\n",
    "    if x>20:\n",
    "        print(\"and also greater then 20.\")\n",
    "    else:\n",
    "        print(\"but not greater then 20.\")\n",
    "else:\n",
    "    print(\"Number less then 10 \")"
   ]
  },
  {
   "cell_type": "code",
   "execution_count": 47,
   "id": "aa7470cf",
   "metadata": {},
   "outputs": [
    {
     "name": "stdout",
     "output_type": "stream",
     "text": [
      "Enter Number:-22\n",
      "Number >10,\n",
      "and also greater then 20.\n"
     ]
    }
   ],
   "source": [
    "x=int(input(\"Enter Number:-\"))\n",
    "if x>10:\n",
    "    print(\"Number >10,\")\n",
    "    if x>20:\n",
    "        print(\"and also greater then 20.\")\n",
    "    else:\n",
    "        print(\"but not greater then 20.\")\n",
    "else:\n",
    "    print(\"Number less then 10 \")"
   ]
  },
  {
   "cell_type": "code",
   "execution_count": 48,
   "id": "275ab48c",
   "metadata": {},
   "outputs": [
    {
     "name": "stdout",
     "output_type": "stream",
     "text": [
      "Enter Number:-2\n",
      "Number less then 10 \n"
     ]
    }
   ],
   "source": [
    "x=int(input(\"Enter Number:-\"))\n",
    "if x>10:\n",
    "    print(\"Number >10,\")\n",
    "    if x>20:\n",
    "        print(\"and also greater then 20.\")\n",
    "    else:\n",
    "        print(\"but not greater then 20.\")\n",
    "else:\n",
    "    print(\"Number less then 10 \")"
   ]
  },
  {
   "cell_type": "code",
   "execution_count": 49,
   "id": "0654f0db",
   "metadata": {},
   "outputs": [
    {
     "name": "stdout",
     "output_type": "stream",
     "text": [
      "Enter Number:-10\n",
      "Number is equal to 10\n"
     ]
    }
   ],
   "source": [
    "x=int(input(\"Enter Number:-\"))\n",
    "if x>10:\n",
    "    print(\"Number >10,\")\n",
    "    if x>20:\n",
    "        print(\"and also greater then 20.\")\n",
    "    elif x==20:\n",
    "        print(\"and also equal to 20.\")        \n",
    "    else:\n",
    "        print(\"but not greater then 20.\")\n",
    "elif x==10:\n",
    "    print(\"Number is equal to 10\")\n",
    "else:\n",
    "    print(\"Number less then 10 \")"
   ]
  },
  {
   "cell_type": "code",
   "execution_count": 50,
   "id": "010c9edf",
   "metadata": {},
   "outputs": [
    {
     "name": "stdout",
     "output_type": "stream",
     "text": [
      "Enter Number:-20\n",
      "Number >10,\n",
      "and also equal to 20.\n"
     ]
    }
   ],
   "source": [
    "x=int(input(\"Enter Number:-\"))\n",
    "if x>10:\n",
    "    print(\"Number >10,\")\n",
    "    if x>20:\n",
    "        print(\"and also greater then 20.\")\n",
    "    elif x==20:\n",
    "        print(\"and also equal to 20.\")        \n",
    "    else:\n",
    "        print(\"but not greater then 20.\")\n",
    "elif x==10:\n",
    "    print(\"Number is equal to 10\")\n",
    "else:\n",
    "    print(\"Number less then 10 \")"
   ]
  },
  {
   "cell_type": "code",
   "execution_count": 51,
   "id": "019bf0f1",
   "metadata": {},
   "outputs": [
    {
     "name": "stdout",
     "output_type": "stream",
     "text": [
      "Enter Number:--9\n",
      "Number less then 10 \n"
     ]
    }
   ],
   "source": [
    "x=int(input(\"Enter Number:-\"))\n",
    "if x>10:\n",
    "    print(\"Number >10,\")\n",
    "    if x>20:\n",
    "        print(\"and also greater then 20.\")\n",
    "    elif x==20:\n",
    "        print(\"and also equal to 20.\")        \n",
    "    else:\n",
    "        print(\"but not greater then 20.\")\n",
    "elif x==10:\n",
    "    print(\"Number is equal to 10\")\n",
    "else:\n",
    "    print(\"Number less then 10 \")"
   ]
  },
  {
   "cell_type": "code",
   "execution_count": 52,
   "id": "1d1f938c",
   "metadata": {},
   "outputs": [
    {
     "name": "stdout",
     "output_type": "stream",
     "text": [
      "Enter Number:-21\n",
      "Number >10,\n",
      "also greater then 20.\n",
      "but less the 30\n"
     ]
    }
   ],
   "source": [
    "x=int(input(\"Enter Number:-\"))\n",
    "if x>10:\n",
    "    print(\"Number >10,\")\n",
    "    if x>20:\n",
    "        print(\"also greater then 20.\")\n",
    "        if x>30:\n",
    "            print(\"and 30\")\n",
    "        elif x==30:\n",
    "             print(\"and equal 30\")\n",
    "        else:\n",
    "            print(\"but less the 30\")      \n",
    "    elif x==20:\n",
    "        print(\"and also equal to 20.\")        \n",
    "    else:\n",
    "        print(\"but not greater then 20.\")\n",
    "elif x==10:\n",
    "    print(\"Number is equal to 10\")\n",
    "else:\n",
    "    print(\"Number less then 10 \")"
   ]
  },
  {
   "cell_type": "code",
   "execution_count": 53,
   "id": "0d421dda",
   "metadata": {},
   "outputs": [
    {
     "name": "stdout",
     "output_type": "stream",
     "text": [
      "Enter Number:-30\n",
      "Number >10,\n",
      "also greater then 20.\n",
      "and equal 30\n"
     ]
    }
   ],
   "source": [
    "x=int(input(\"Enter Number:-\"))\n",
    "if x>10:\n",
    "    print(\"Number >10,\")\n",
    "    if x>20:\n",
    "        print(\"also greater then 20.\")\n",
    "        if x>30:\n",
    "            print(\"and 30\")\n",
    "        elif x==30:\n",
    "             print(\"and equal 30\")\n",
    "        else:\n",
    "            print(\"but less the 30\")      \n",
    "    elif x==20:\n",
    "        print(\"and also equal to 20.\")        \n",
    "    else:\n",
    "        print(\"but not greater then 20.\")\n",
    "elif x==10:\n",
    "    print(\"Number is equal to 10\")\n",
    "else:\n",
    "    print(\"Number less then 10 \")"
   ]
  },
  {
   "cell_type": "code",
   "execution_count": 54,
   "id": "33718127",
   "metadata": {},
   "outputs": [
    {
     "name": "stdout",
     "output_type": "stream",
     "text": [
      "Enter Number:-35\n",
      "Number >10,\n",
      "also greater then 20.\n",
      "and 30\n"
     ]
    }
   ],
   "source": [
    "x=int(input(\"Enter Number:-\"))\n",
    "if x>10:\n",
    "    print(\"Number >10,\")\n",
    "    if x>20:\n",
    "        print(\"also greater then 20.\")\n",
    "        if x>30:\n",
    "            print(\"and 30\")\n",
    "        elif x==30:\n",
    "             print(\"and equal 30\")\n",
    "        else:\n",
    "            print(\"but less the 30\")      \n",
    "    elif x==20:\n",
    "        print(\"and also equal to 20.\")        \n",
    "    else:\n",
    "        print(\"but not greater then 20.\")\n",
    "elif x==10:\n",
    "    print(\"Number is equal to 10\")\n",
    "else:\n",
    "    print(\"Number less then 10 \")"
   ]
  },
  {
   "cell_type": "code",
   "execution_count": 60,
   "id": "4841a831",
   "metadata": {},
   "outputs": [
    {
     "name": "stdout",
     "output_type": "stream",
     "text": [
      "Enter Number:-10\n",
      "Number is equal to 10\n",
      "Bye\n"
     ]
    }
   ],
   "source": [
    "x=int(input(\"Enter Number:-\"))\n",
    "if x>10:\n",
    "    print(\"Number >10,\")\n",
    "    if x>20:\n",
    "        print(\"also greater then 20.\")\n",
    "        if x>30:\n",
    "            print(\"and 30\")\n",
    "        elif x==30:\n",
    "             print(\"and equal 30\")\n",
    "        else:\n",
    "            print(\"but less the 30\")      \n",
    "    elif x==20:\n",
    "        print(\"and also equal to 20.\")        \n",
    "    else:\n",
    "        print(\"but not greater then 20.\")\n",
    "elif x==10:\n",
    "    print(\"Number is equal to 10\")\n",
    "else:\n",
    "    print(\"Number less then 10 \")\n",
    "print(\"Bye\")"
   ]
  },
  {
   "cell_type": "code",
   "execution_count": 1,
   "id": "047762a0",
   "metadata": {},
   "outputs": [
    {
     "data": {
      "text/plain": [
       "'\\nMultiline \\ncomment\\n'"
      ]
     },
     "execution_count": 1,
     "metadata": {},
     "output_type": "execute_result"
    }
   ],
   "source": [
    "#single line comment\n",
    "\"\"\"\n",
    "Multiline \n",
    "comment\n",
    "\"\"\""
   ]
  },
  {
   "cell_type": "code",
   "execution_count": 4,
   "id": "964f256f",
   "metadata": {},
   "outputs": [
    {
     "name": "stdout",
     "output_type": "stream",
     "text": [
      "Enter a floating point number:-63.7\n",
      "64\n",
      "The number you entered:- 63.7\n",
      "The integer portion:- 63\n",
      "bye\n"
     ]
    }
   ],
   "source": [
    "\"\"\"\n",
    "User will enter a floating point number \n",
    "lets say 238.915 your task is to find out the \n",
    "interger portion before the decimal in this case 238\n",
    "and then chcek weather if that interger potion is odd or even?\n",
    "\"\"\"\n",
    "x=float(input('Enter a floating point number:-'))\n",
    "roundx= round(x)\n",
    "print(roundx)\n",
    "if roundx>x:\n",
    "    intportion=roundx-1\n",
    "    print(\"The number you entered:-\",x)\n",
    "    print('The integer portion:-',intportion)\n",
    "elif x==y:\n",
    "     print(\"The number you entered:-\",x)\n",
    "     print('The integer portion:-',intportion)\n",
    "    \n",
    "print('bye')\n",
    "    \n",
    "    \n",
    "    \n",
    "    "
   ]
  },
  {
   "cell_type": "code",
   "execution_count": 7,
   "id": "aa6c529a",
   "metadata": {},
   "outputs": [
    {
     "name": "stdout",
     "output_type": "stream",
     "text": [
      "Enter a floating point number:-45.1\n",
      "45\n",
      "The number you entered:- 45\n",
      "bye\n"
     ]
    }
   ],
   "source": [
    "x=float(input('Enter a floating point number:-'))\n",
    "roundx= round(x)\n",
    "print(roundx)\n",
    "if roundx>x:\n",
    "    intportion=roundx-1\n",
    "    print(\"The number you entered:-\",x)\n",
    "    print('The integer portion:-',intportion)\n",
    "else:\n",
    "     print(\"The integer portion:-\",roundx)\n",
    "    \n",
    "print('bye')"
   ]
  },
  {
   "cell_type": "code",
   "execution_count": 8,
   "id": "a6a82be2",
   "metadata": {},
   "outputs": [
    {
     "name": "stdout",
     "output_type": "stream",
     "text": [
      "Enter a floating point number:-10\n",
      "10\n",
      "The integer portion:- 10\n",
      "bye\n"
     ]
    }
   ],
   "source": [
    "x=float(input('Enter a floating point number:-'))\n",
    "roundx= round(x)\n",
    "print(roundx)\n",
    "if roundx>x:\n",
    "    intportion=roundx-1\n",
    "    print(\"The number you entered:-\",x)\n",
    "    print('The integer portion:-',intportion)\n",
    "else:\n",
    "     print(\"The integer portion:-\",roundx)\n",
    "    \n",
    "print('bye')"
   ]
  },
  {
   "cell_type": "code",
   "execution_count": 31,
   "id": "ca865340",
   "metadata": {},
   "outputs": [
    {
     "name": "stdout",
     "output_type": "stream",
     "text": [
      "Enter a floating point number:-0.2\n",
      "0\n",
      "The number you entered is positive:- 0.2\n",
      "The integer portion:- 0\n",
      "The number given is even\n",
      "bye\n"
     ]
    }
   ],
   "source": [
    "x=float(input('Enter a floating point number:-'))\n",
    "roundx= round(x)\n",
    "print(roundx)\n",
    "if x>0:\n",
    "    if roundx>x:\n",
    "        intportion=roundx-1\n",
    "        print(\"The number you entered is positive:-\",x)\n",
    "        print('The integer portion:-',intportion)\n",
    "    else:\n",
    "        intportion=roundx\n",
    "        print(\"The number you entered is positive:-\",x)\n",
    "        print(\"The integer portion:-\",roundx)\n",
    "else:\n",
    "    if roundx<x:\n",
    "        intportion=roundx+1\n",
    "        print(\"The number you entered is negative:-\",x)\n",
    "        print('The integer portion:-',intportion)\n",
    "    else:\n",
    "        intportion=roundx\n",
    "        print(\"The number you entered is negative:-\",x)\n",
    "        print(\"The integer portion:-\",roundx)\n",
    "        \n",
    "if(intportion%2==0):\n",
    "    print(\"The number given is even\")\n",
    "else:\n",
    "    print(\"The number given is odd\")\n",
    "        \n",
    "print('bye')"
   ]
  },
  {
   "cell_type": "code",
   "execution_count": 32,
   "id": "60b3e520",
   "metadata": {},
   "outputs": [
    {
     "name": "stdout",
     "output_type": "stream",
     "text": [
      "Variable     Type     Data/Info\n",
      "-------------------------------\n",
      "intportion   int      0\n",
      "roundx       int      0\n",
      "x            float    0.2\n",
      "y            int      67\n"
     ]
    }
   ],
   "source": [
    "%whos"
   ]
  },
  {
   "cell_type": "code",
   "execution_count": 35,
   "id": "000cd28f",
   "metadata": {},
   "outputs": [
    {
     "name": "stdout",
     "output_type": "stream",
     "text": [
      "Enter max iteration:7\n",
      "1\n",
      "2\n",
      "3\n",
      "4\n",
      "5\n",
      "6\n",
      "Done\n"
     ]
    }
   ],
   "source": [
    "a= int(input(\"Enter max iteration:\"))\n",
    "i=1\n",
    "while i<a:\n",
    "    print(i)\n",
    "    i+=1\n",
    "print(\"Done\")\n"
   ]
  },
  {
   "cell_type": "code",
   "execution_count": 36,
   "id": "81c1b9b8",
   "metadata": {},
   "outputs": [
    {
     "name": "stdout",
     "output_type": "stream",
     "text": [
      "Enter max iteration for square of the number:9\n",
      "1\n",
      "4\n",
      "9\n",
      "16\n",
      "25\n",
      "36\n",
      "49\n",
      "64\n",
      "Done\n"
     ]
    }
   ],
   "source": [
    "a= int(input(\"Enter max iteration for square of the number:\"))\n",
    "i=1\n",
    "while i<a:\n",
    "    print(i**2)\n",
    "    i+=1\n",
    "print(\"Done\")"
   ]
  },
  {
   "cell_type": "code",
   "execution_count": 39,
   "id": "c035f6d2",
   "metadata": {},
   "outputs": [
    {
     "name": "stdout",
     "output_type": "stream",
     "text": [
      "Enter max iteration for even numbers:30\n",
      "2\n",
      "4\n",
      "6\n",
      "8\n",
      "10\n",
      "12\n",
      "14\n",
      "16\n",
      "18\n",
      "20\n",
      "22\n",
      "24\n",
      "26\n",
      "28\n",
      "Done\n"
     ]
    }
   ],
   "source": [
    "a= int(input(\"Enter max iteration for even numbers:\"))\n",
    "i=1\n",
    "while i<a:\n",
    "    if i%2==0:\n",
    "        print(i)\n",
    "    i+=1\n",
    "print(\"Done\")"
   ]
  },
  {
   "cell_type": "code",
   "execution_count": null,
   "id": "4a004560",
   "metadata": {},
   "outputs": [],
   "source": [
    "n=10\n",
    "i=1\n",
    "while True:\n",
    "    if i%5==0:\n",
    "        print(i,\"Divisible by 5\")\n",
    "        break\n",
    "    else:\n",
    "        print(i,\"Not Divisible by 5\")\n",
    "        i+=1\n",
    "print(\"done\")\n",
    "        \n",
    "    "
   ]
  },
  {
   "cell_type": "code",
   "execution_count": 1,
   "id": "5ccb174f",
   "metadata": {},
   "outputs": [
    {
     "name": "stdout",
     "output_type": "stream",
     "text": [
      "1\n",
      "2\n",
      "3\n",
      "4\n",
      "5\n",
      "6\n",
      "7\n",
      "8\n",
      "Will print after the if is false\n",
      "done\n"
     ]
    }
   ],
   "source": [
    "n=10\n",
    "i=1\n",
    "while True:\n",
    "    if i % 9 != 0:\n",
    "        print(i)\n",
    "        i+=1\n",
    "        continue\n",
    "        print(\"Continue skipped\")# will never get printed as it is in continue indendation\n",
    "        print(\"Continue skipped again\")# will never get printed as it is in continue indendation\n",
    "    print(\"Will print after the if is false\")\n",
    "    break\n",
    "        \n",
    "           \n",
    "print(\"done\")\n",
    "        "
   ]
  },
  {
   "cell_type": "code",
   "execution_count": 4,
   "id": "14eee6be",
   "metadata": {},
   "outputs": [
    {
     "name": "stdout",
     "output_type": "stream",
     "text": [
      "0\n",
      "[0]\n",
      "1\n",
      "[0, 1]\n",
      "2\n",
      "[0, 1, 4]\n",
      "3\n",
      "[0, 1, 4, 9]\n",
      "4\n",
      "[0, 1, 4, 9, 16]\n",
      "5\n",
      "[0, 1, 4, 9, 16, 25]\n",
      "6\n",
      "[0, 1, 4, 9, 16, 25, 36]\n",
      "7\n",
      "[0, 1, 4, 9, 16, 25, 36, 49]\n",
      "8\n",
      "[0, 1, 4, 9, 16, 25, 36, 49, 64]\n",
      "9\n",
      "[0, 1, 4, 9, 16, 25, 36, 49, 64, 81]\n"
     ]
    }
   ],
   "source": [
    "l=[]\n",
    "for i in range(10):\n",
    "    print(i);\n",
    "    l.append(i**2)\n",
    "    print(l)"
   ]
  },
  {
   "cell_type": "code",
   "execution_count": 6,
   "id": "f59490b3",
   "metadata": {},
   "outputs": [
    {
     "name": "stdout",
     "output_type": "stream",
     "text": [
      "0\n",
      "[0]\n",
      "2\n",
      "[0, 4]\n",
      "4\n",
      "[0, 4, 16]\n",
      "6\n",
      "[0, 4, 16, 36]\n",
      "8\n",
      "[0, 4, 16, 36, 64]\n"
     ]
    }
   ],
   "source": [
    "l=[]\n",
    "for i in range(0,10,2): # start from(0):smaller then(10):jump(2 ie 2 4)\n",
    "    print(i);\n",
    "    l.append(i**2)\n",
    "    print(l)"
   ]
  },
  {
   "cell_type": "code",
   "execution_count": 8,
   "id": "82bb8133",
   "metadata": {},
   "outputs": [
    {
     "name": "stdout",
     "output_type": "stream",
     "text": [
      "1\n",
      "[1]\n",
      "4\n",
      "[1, 16]\n",
      "7\n",
      "[1, 16, 49]\n",
      "10\n",
      "[1, 16, 49, 100]\n",
      "13\n",
      "[1, 16, 49, 100, 169]\n",
      "16\n",
      "[1, 16, 49, 100, 169, 256]\n",
      "19\n",
      "[1, 16, 49, 100, 169, 256, 361]\n"
     ]
    }
   ],
   "source": [
    "l=[]\n",
    "for i in range(1,20,3): # start from(0):smaller then(10):jump(2 ie 2 4)\n",
    "    print(i);\n",
    "    l.append(i**2)\n",
    "    print(l)"
   ]
  },
  {
   "cell_type": "code",
   "execution_count": 11,
   "id": "29780292",
   "metadata": {},
   "outputs": [
    {
     "name": "stdout",
     "output_type": "stream",
     "text": [
      "apple\n",
      "4.9\n",
      "cherry\n",
      "loop completes its iteration\n",
      "everything inside S is printed\n"
     ]
    }
   ],
   "source": [
    "S={\"apple\",4.9,\"cherry\"}\n",
    "for x in S:\n",
    "    print(x)\n",
    "else:\n",
    "    print(\"loop completes its iteration\")\n",
    "print(\"everything inside S is printed\")"
   ]
  },
  {
   "cell_type": "code",
   "execution_count": 13,
   "id": "4a9af0ef",
   "metadata": {},
   "outputs": [
    {
     "name": "stdout",
     "output_type": "stream",
     "text": [
      "apple\n",
      "4.9\n",
      "everything inside S is printed\n"
     ]
    }
   ],
   "source": [
    "S={\"apple\",4.9,\"cherry\"}\n",
    "i=1\n",
    "for x in S:\n",
    "    print(x)\n",
    "    i+=1\n",
    "    if i==3:\n",
    "        break ##will break everything for and its respective else\n",
    "    else:\n",
    "        pass\n",
    "else:\n",
    "    print(\"loop completes its iteration\")\n",
    "print(\"everything inside S is printed\")"
   ]
  },
  {
   "cell_type": "code",
   "execution_count": 15,
   "id": "90cd3437",
   "metadata": {},
   "outputs": [
    {
     "name": "stdout",
     "output_type": "stream",
     "text": [
      "apple 44\n",
      "cherry game\n"
     ]
    }
   ],
   "source": [
    "D={\"apple\":44, \"cherry\":\"game\"} #here apple stores value 44 D[apple]\n",
    "for x in D:\n",
    "    print(x,D[x])"
   ]
  },
  {
   "cell_type": "code",
   "execution_count": 16,
   "id": "30a2ab72",
   "metadata": {},
   "outputs": [
    {
     "name": "stdout",
     "output_type": "stream",
     "text": [
      "A 10\n",
      "B -5\n",
      "C 8\n"
     ]
    }
   ],
   "source": [
    "F={\"A\":\"10\",\"B\":\"-5\",\"C\":\"8\"}\n",
    "for x in F:\n",
    "    print(x,F[x])"
   ]
  },
  {
   "cell_type": "code",
   "execution_count": 32,
   "id": "721e48ae",
   "metadata": {},
   "outputs": [
    {
     "name": "stdout",
     "output_type": "stream",
     "text": [
      "[-800, -6, -5, 0, 2, 5, 6, 6, 9, 10, 34, 56, 78, 100, 543, 600]\n"
     ]
    }
   ],
   "source": [
    "## Given  a list of numbers sort it in ascending order\n",
    "L =[100,6,56,78,2,5,9,10,600,543,6,0,-800,-5,-6,34]\n",
    "for j in range(len(L)):\n",
    "        minno=L[j]\n",
    "        idx=j\n",
    "        c=j\n",
    "        for i in range(j,len(L)):\n",
    "                if L[i]<minno:\n",
    "                    minno=L[i]\n",
    "                    idx=c\n",
    "                c+=1\n",
    "        temp=L[j]\n",
    "        L[j]=minno\n",
    "        L[idx]=temp\n",
    "print(L)\n",
    "        \n",
    "\n",
    "        \n",
    "\n",
    "\n"
   ]
  },
  {
   "cell_type": "markdown",
   "id": "d6955475",
   "metadata": {},
   "source": [
    "# Functions"
   ]
  },
  {
   "cell_type": "code",
   "execution_count": 1,
   "id": "c5a7e79e",
   "metadata": {},
   "outputs": [],
   "source": [
    "def printsuccess():\n",
    "    print(\"I am done\")\n",
    "    print(\"Please send next task\")"
   ]
  },
  {
   "cell_type": "code",
   "execution_count": 2,
   "id": "bd1d65bc",
   "metadata": {},
   "outputs": [
    {
     "name": "stdout",
     "output_type": "stream",
     "text": [
      "I am done\n",
      "Please send next task\n"
     ]
    }
   ],
   "source": [
    "printsuccess()"
   ]
  },
  {
   "cell_type": "code",
   "execution_count": 15,
   "id": "08e93605",
   "metadata": {},
   "outputs": [],
   "source": [
    "def description():\n",
    "    \"\"\" This Function is an example on how to get the description written in any function.\n",
    "        It is a good practice to always describe any function\n",
    "        This function is just printin \"hello\"\n",
    "    \"\"\"\n",
    "    print(\"hello\")"
   ]
  },
  {
   "cell_type": "code",
   "execution_count": 4,
   "id": "b1ba928e",
   "metadata": {},
   "outputs": [
    {
     "name": "stdout",
     "output_type": "stream",
     "text": [
      "hello\n"
     ]
    }
   ],
   "source": [
    "description()"
   ]
  },
  {
   "cell_type": "code",
   "execution_count": 5,
   "id": "546b5d26",
   "metadata": {},
   "outputs": [
    {
     "ename": "SyntaxError",
     "evalue": "invalid syntax (1290376990.py, line 1)",
     "output_type": "error",
     "traceback": [
      "\u001b[1;36m  Cell \u001b[1;32mIn[5], line 1\u001b[1;36m\u001b[0m\n\u001b[1;33m    description()?\u001b[0m\n\u001b[1;37m                 ^\u001b[0m\n\u001b[1;31mSyntaxError\u001b[0m\u001b[1;31m:\u001b[0m invalid syntax\n"
     ]
    }
   ],
   "source": [
    "description()?"
   ]
  },
  {
   "cell_type": "code",
   "execution_count": 11,
   "id": "15352d50",
   "metadata": {},
   "outputs": [],
   "source": [
    "description?\n",
    "##will only show us the desciption written in comments not the code"
   ]
  },
  {
   "cell_type": "code",
   "execution_count": 12,
   "id": "740fbe43",
   "metadata": {},
   "outputs": [],
   "source": [
    "description??\n",
    "##will show us the desciption written in comments along with the code"
   ]
  },
  {
   "cell_type": "code",
   "execution_count": 13,
   "id": "34d49f51",
   "metadata": {},
   "outputs": [
    {
     "name": "stdout",
     "output_type": "stream",
     "text": [
      "Help on function description in module __main__:\n",
      "\n",
      "description()\n",
      "    This Function is an example on how to get the description written in any function.\n",
      "    This function is just printin \"hello\"\n",
      "\n"
     ]
    }
   ],
   "source": [
    "help(description)\n",
    "##will only show us the desciption written in comments not the code"
   ]
  },
  {
   "cell_type": "code",
   "execution_count": 14,
   "id": "e986a569",
   "metadata": {},
   "outputs": [
    {
     "name": "stdout",
     "output_type": "stream",
     "text": [
      "hello\n"
     ]
    }
   ],
   "source": [
    "description()"
   ]
  },
  {
   "cell_type": "code",
   "execution_count": 16,
   "id": "1ca19750",
   "metadata": {},
   "outputs": [],
   "source": [
    "def printmessage(msg):\n",
    "    \"\"\"Will simply type the user msg and tell if it is string or not\"\"\"\n",
    "    if isinstance(msg,'str'):\n",
    "        print(msg)\n",
    "    else:\n",
    "        print(\"Your input argument is not a string\")\n",
    "        print(\"Here is what you have supplied\",msg)"
   ]
  },
  {
   "cell_type": "code",
   "execution_count": 17,
   "id": "beb76248",
   "metadata": {},
   "outputs": [
    {
     "ename": "NameError",
     "evalue": "name 'HelloWorld' is not defined",
     "output_type": "error",
     "traceback": [
      "\u001b[1;31m---------------------------------------------------------------------------\u001b[0m",
      "\u001b[1;31mNameError\u001b[0m                                 Traceback (most recent call last)",
      "Cell \u001b[1;32mIn[17], line 1\u001b[0m\n\u001b[1;32m----> 1\u001b[0m printmessage(HelloWorld)\n",
      "\u001b[1;31mNameError\u001b[0m: name 'HelloWorld' is not defined"
     ]
    }
   ],
   "source": [
    "printmessage(HelloWorld)"
   ]
  },
  {
   "cell_type": "code",
   "execution_count": 18,
   "id": "b5f0570a",
   "metadata": {},
   "outputs": [
    {
     "ename": "TypeError",
     "evalue": "isinstance() arg 2 must be a type, a tuple of types, or a union",
     "output_type": "error",
     "traceback": [
      "\u001b[1;31m---------------------------------------------------------------------------\u001b[0m",
      "\u001b[1;31mTypeError\u001b[0m                                 Traceback (most recent call last)",
      "Cell \u001b[1;32mIn[18], line 1\u001b[0m\n\u001b[1;32m----> 1\u001b[0m printmessage(\u001b[38;5;124m\"\u001b[39m\u001b[38;5;124mHelloWorld\u001b[39m\u001b[38;5;124m\"\u001b[39m)\n",
      "Cell \u001b[1;32mIn[16], line 3\u001b[0m, in \u001b[0;36mprintmessage\u001b[1;34m(msg)\u001b[0m\n\u001b[0;32m      1\u001b[0m \u001b[38;5;28;01mdef\u001b[39;00m \u001b[38;5;21mprintmessage\u001b[39m(msg):\n\u001b[0;32m      2\u001b[0m \u001b[38;5;250m    \u001b[39m\u001b[38;5;124;03m\"\"\"Will simply type the user msg and tell if it is string or not\"\"\"\u001b[39;00m\n\u001b[1;32m----> 3\u001b[0m     \u001b[38;5;28;01mif\u001b[39;00m \u001b[38;5;28misinstance\u001b[39m(msg,\u001b[38;5;124m'\u001b[39m\u001b[38;5;124mstr\u001b[39m\u001b[38;5;124m'\u001b[39m):\n\u001b[0;32m      4\u001b[0m         \u001b[38;5;28mprint\u001b[39m(msg)\n\u001b[0;32m      5\u001b[0m     \u001b[38;5;28;01melse\u001b[39;00m:\n",
      "\u001b[1;31mTypeError\u001b[0m: isinstance() arg 2 must be a type, a tuple of types, or a union"
     ]
    }
   ],
   "source": [
    "printmessage(\"HelloWorld\")"
   ]
  },
  {
   "cell_type": "code",
   "execution_count": 29,
   "id": "7e3f161d",
   "metadata": {},
   "outputs": [],
   "source": [
    "def printmessage(msg):\n",
    "    \"\"\"Will simply type the user msg and tell if it is string or not\"\"\"\n",
    "    if isinstance(msg,str):\n",
    "        print(msg)\n",
    "    else:\n",
    "        print(\"Your input argument is not a string\")\n",
    "        print(\"Here is what you have supplied:\",msg,\"of type:\",type(msg))"
   ]
  },
  {
   "cell_type": "code",
   "execution_count": 26,
   "id": "ebd1740f",
   "metadata": {},
   "outputs": [
    {
     "name": "stdout",
     "output_type": "stream",
     "text": [
      "HelloWorld\n"
     ]
    }
   ],
   "source": [
    "printmessage(\"HelloWorld\")"
   ]
  },
  {
   "cell_type": "code",
   "execution_count": 21,
   "id": "1bac5c17",
   "metadata": {},
   "outputs": [
    {
     "name": "stdout",
     "output_type": "stream",
     "text": [
      "6756Hello\n"
     ]
    }
   ],
   "source": [
    "printmessage(\"6756Hello\")"
   ]
  },
  {
   "cell_type": "code",
   "execution_count": 30,
   "id": "b283431d",
   "metadata": {},
   "outputs": [
    {
     "name": "stdout",
     "output_type": "stream",
     "text": [
      "Your input argument is not a string\n",
      "Here is what you have supplied: 6756 of type: <class 'int'>\n"
     ]
    }
   ],
   "source": [
    "printmessage(6756)"
   ]
  },
  {
   "cell_type": "code",
   "execution_count": 24,
   "id": "e7b730a3",
   "metadata": {},
   "outputs": [
    {
     "ename": "SyntaxError",
     "evalue": "invalid decimal literal (1702095494.py, line 1)",
     "output_type": "error",
     "traceback": [
      "\u001b[1;36m  Cell \u001b[1;32mIn[24], line 1\u001b[1;36m\u001b[0m\n\u001b[1;33m    printmessage(6756Hello)\u001b[0m\n\u001b[1;37m                    ^\u001b[0m\n\u001b[1;31mSyntaxError\u001b[0m\u001b[1;31m:\u001b[0m invalid decimal literal\n"
     ]
    }
   ],
   "source": [
    "printmessage(6756Hello)"
   ]
  },
  {
   "cell_type": "code",
   "execution_count": 31,
   "id": "cac2af9c",
   "metadata": {},
   "outputs": [
    {
     "name": "stdout",
     "output_type": "stream",
     "text": [
      "Your input argument is not a string\n",
      "Here is what you have supplied: 1234567 of type: <class 'int'>\n"
     ]
    }
   ],
   "source": [
    "y=1234567\n",
    "printmessage(y)"
   ]
  },
  {
   "cell_type": "code",
   "execution_count": 32,
   "id": "a07f1c7f",
   "metadata": {},
   "outputs": [
    {
     "ename": "NameError",
     "evalue": "name 'PythonCoding' is not defined",
     "output_type": "error",
     "traceback": [
      "\u001b[1;31m---------------------------------------------------------------------------\u001b[0m",
      "\u001b[1;31mNameError\u001b[0m                                 Traceback (most recent call last)",
      "Cell \u001b[1;32mIn[32], line 1\u001b[0m\n\u001b[1;32m----> 1\u001b[0m y\u001b[38;5;241m=\u001b[39mPythonCoding\n\u001b[0;32m      2\u001b[0m printmessage(y)\n",
      "\u001b[1;31mNameError\u001b[0m: name 'PythonCoding' is not defined"
     ]
    }
   ],
   "source": [
    "y=PythonCoding\n",
    "printmessage(y)"
   ]
  },
  {
   "cell_type": "code",
   "execution_count": 33,
   "id": "3fb75e04",
   "metadata": {},
   "outputs": [
    {
     "name": "stdout",
     "output_type": "stream",
     "text": [
      "PythonCoding\n"
     ]
    }
   ],
   "source": [
    "y=\"PythonCoding\"\n",
    "printmessage(y)"
   ]
  },
  {
   "cell_type": "code",
   "execution_count": 34,
   "id": "98749663",
   "metadata": {},
   "outputs": [],
   "source": [
    "def mypow(a,b):\n",
    "    \"\"\"This fun is like inbuilt pow function\"\"\"\n",
    "    c=a**b\n",
    "    print(c)"
   ]
  },
  {
   "cell_type": "code",
   "execution_count": 35,
   "id": "9513ee30",
   "metadata": {},
   "outputs": [
    {
     "name": "stdout",
     "output_type": "stream",
     "text": [
      "16\n"
     ]
    }
   ],
   "source": [
    "mypow(2,4)"
   ]
  },
  {
   "cell_type": "code",
   "execution_count": 78,
   "id": "bc2424dd",
   "metadata": {},
   "outputs": [],
   "source": [
    "def checkarg(a,b,c):\n",
    "    \"\"\"this function will chcek if the given argument is of type int or float and perform some calculation\n",
    "      or will throw an error\"\"\"\n",
    "    if isinstance(a,(int,float)) and isinstance(b,(int,float)) and isinstance(c,(int,float)):\n",
    "        d=a*b+c\n",
    "        print(\"All the arguments are int or float.\", a,\"*\",b,\"+\",c,\"=\",d)\n",
    "    else:\n",
    "        if not(isinstance(a,(int,float))):\n",
    "            print(\"Error:1st argument is not int or float\",a, \"is\",type(a),\"so no proceeding ahead\")\n",
    "        elif not(isinstance(b,(int,float))):\n",
    "            print(\"Error:2nd argument is not int or float\",b ,\"is\",type(b),\"so no proceeding ahead\")\n",
    "        else: \n",
    "            print(\"Error:3rd argument is not int or float\",c, \"is\",type(c),\"so no proceeding ahead\")               "
   ]
  },
  {
   "cell_type": "code",
   "execution_count": 67,
   "id": "17f25e11",
   "metadata": {},
   "outputs": [
    {
     "name": "stdout",
     "output_type": "stream",
     "text": [
      "All the arguments are int or float. 1 * 2 + 4 = 6\n"
     ]
    }
   ],
   "source": [
    "checkarg(1,2,4)"
   ]
  },
  {
   "cell_type": "code",
   "execution_count": 79,
   "id": "0f3ef04a",
   "metadata": {},
   "outputs": [
    {
     "name": "stdout",
     "output_type": "stream",
     "text": [
      "Error:1st argument is not int or float a is <class 'str'> so no proceeding ahead\n"
     ]
    }
   ],
   "source": [
    "checkarg(\"a\",2,4)"
   ]
  },
  {
   "cell_type": "code",
   "execution_count": 80,
   "id": "de7a283d",
   "metadata": {},
   "outputs": [
    {
     "name": "stdout",
     "output_type": "stream",
     "text": [
      "Error:2nd argument is not int or float b is <class 'str'> so no proceeding ahead\n"
     ]
    }
   ],
   "source": [
    "checkarg(1,\"b\",4)"
   ]
  },
  {
   "cell_type": "code",
   "execution_count": 81,
   "id": "e458d5cd",
   "metadata": {},
   "outputs": [
    {
     "name": "stdout",
     "output_type": "stream",
     "text": [
      "Error:3rd argument is not int or float c is <class 'str'> so no proceeding ahead\n"
     ]
    }
   ],
   "source": [
    "checkarg(1,2,\"c\")"
   ]
  },
  {
   "cell_type": "code",
   "execution_count": 84,
   "id": "922ae98f",
   "metadata": {},
   "outputs": [],
   "source": [
    "def function1(a,b,c,d,e):\n",
    "    print(a,b,c,d,e)"
   ]
  },
  {
   "cell_type": "code",
   "execution_count": 85,
   "id": "a07b9db3",
   "metadata": {},
   "outputs": [
    {
     "name": "stdout",
     "output_type": "stream",
     "text": [
      "1 4 5 3 2\n"
     ]
    }
   ],
   "source": [
    "function1(1,4,5,3,2)"
   ]
  },
  {
   "cell_type": "code",
   "execution_count": 88,
   "id": "ac28d8b6",
   "metadata": {},
   "outputs": [
    {
     "name": "stdout",
     "output_type": "stream",
     "text": [
      "1 2 3 4 5\n"
     ]
    }
   ],
   "source": [
    "#here we want 1 to go in a, 2 to go in b, 3 in c, 4 in d, 5 in e here we can use assigmnet while calling function.\n",
    "##1st check the argument name defined for the function by using function? once you get the names then use below\n",
    "function1?\n",
    "function1(a=1,b=2,c=3,d=4,e=5)"
   ]
  },
  {
   "cell_type": "code",
   "execution_count": 92,
   "id": "2d31b422",
   "metadata": {},
   "outputs": [
    {
     "name": "stdout",
     "output_type": "stream",
     "text": [
      "morning good awesome Hellow everyone\n"
     ]
    }
   ],
   "source": [
    "function1(\"morning\",\"good\",\"awesome\",\"Hellow\",\"everyone\")"
   ]
  },
  {
   "cell_type": "code",
   "execution_count": 93,
   "id": "0554c135",
   "metadata": {},
   "outputs": [
    {
     "name": "stdout",
     "output_type": "stream",
     "text": [
      "Hellow good morning everyone awesome\n"
     ]
    }
   ],
   "source": [
    "function1(a=\"Hellow\",b=\"good\",c=\"morning\",d=\"everyone\",e=\"awesome\")"
   ]
  },
  {
   "cell_type": "code",
   "execution_count": 94,
   "id": "e2963691",
   "metadata": {},
   "outputs": [
    {
     "name": "stdout",
     "output_type": "stream",
     "text": [
      "6 7 8 9 10\n"
     ]
    }
   ],
   "source": [
    "function1(e=10,b=7,d=9,a=6,c=8)# assigned variable can be called in any order"
   ]
  },
  {
   "cell_type": "code",
   "execution_count": 95,
   "id": "09204964",
   "metadata": {},
   "outputs": [],
   "source": [
    "def myadd(a,b):\n",
    "    sum=a+b\n",
    "    return sum"
   ]
  },
  {
   "cell_type": "code",
   "execution_count": 96,
   "id": "1498ff7c",
   "metadata": {},
   "outputs": [
    {
     "name": "stdout",
     "output_type": "stream",
     "text": [
      "6\n"
     ]
    }
   ],
   "source": [
    "catchsum=myadd(2,4)\n",
    "print(catchsum)"
   ]
  },
  {
   "cell_type": "code",
   "execution_count": 102,
   "id": "f69cf7fa",
   "metadata": {},
   "outputs": [
    {
     "name": "stdout",
     "output_type": "stream",
     "text": [
      "6\n"
     ]
    },
    {
     "data": {
      "text/plain": [
       "int"
      ]
     },
     "execution_count": 102,
     "metadata": {},
     "output_type": "execute_result"
    }
   ],
   "source": [
    "print(myadd(2,4))\n",
    "type(myadd(2,4)) #Type of the return"
   ]
  },
  {
   "cell_type": "code",
   "execution_count": 98,
   "id": "af26f2eb",
   "metadata": {},
   "outputs": [],
   "source": [
    "def fun():\n",
    "    a=1"
   ]
  },
  {
   "cell_type": "code",
   "execution_count": 99,
   "id": "2640d936",
   "metadata": {},
   "outputs": [
    {
     "name": "stdout",
     "output_type": "stream",
     "text": [
      "None\n"
     ]
    }
   ],
   "source": [
    "print(fun()) #any function will always return none"
   ]
  },
  {
   "cell_type": "code",
   "execution_count": 101,
   "id": "7bcae071",
   "metadata": {},
   "outputs": [
    {
     "name": "stdout",
     "output_type": "stream",
     "text": [
      "<class 'NoneType'>\n"
     ]
    }
   ],
   "source": [
    "print(type(fun())) #type of the none return"
   ]
  },
  {
   "cell_type": "code",
   "execution_count": 103,
   "id": "82182192",
   "metadata": {},
   "outputs": [],
   "source": [
    "variableoutsidefunction=100"
   ]
  },
  {
   "cell_type": "code",
   "execution_count": 104,
   "id": "996db11d",
   "metadata": {},
   "outputs": [],
   "source": [
    "def demo():\n",
    "    print(variableoutsidefunction);"
   ]
  },
  {
   "cell_type": "code",
   "execution_count": 105,
   "id": "b4f35687",
   "metadata": {},
   "outputs": [
    {
     "name": "stdout",
     "output_type": "stream",
     "text": [
      "100\n"
     ]
    }
   ],
   "source": [
    "demo()"
   ]
  },
  {
   "cell_type": "code",
   "execution_count": 106,
   "id": "0777a703",
   "metadata": {},
   "outputs": [],
   "source": [
    "def demo2():\n",
    "    variableoutsidefunction=200\n",
    "    print(variableoutsidef unction);"
   ]
  },
  {
   "cell_type": "code",
   "execution_count": 107,
   "id": "06f1ffbe",
   "metadata": {},
   "outputs": [
    {
     "name": "stdout",
     "output_type": "stream",
     "text": [
      "100\n"
     ]
    }
   ],
   "source": [
    "demo()"
   ]
  },
  {
   "cell_type": "code",
   "execution_count": 108,
   "id": "c959fee1",
   "metadata": {},
   "outputs": [
    {
     "name": "stdout",
     "output_type": "stream",
     "text": [
      "200\n"
     ]
    }
   ],
   "source": [
    "demo2()"
   ]
  },
  {
   "cell_type": "code",
   "execution_count": 109,
   "id": "94684a38",
   "metadata": {},
   "outputs": [
    {
     "name": "stdout",
     "output_type": "stream",
     "text": [
      "100\n"
     ]
    }
   ],
   "source": [
    "demo()"
   ]
  },
  {
   "cell_type": "code",
   "execution_count": 110,
   "id": "aa6b4202",
   "metadata": {},
   "outputs": [],
   "source": [
    "def h():\n",
    "    print(1)\n",
    "    print(2)\n",
    "    return\n",
    "    print(\"a\")\n",
    "    print(\"ccc\")"
   ]
  },
  {
   "cell_type": "code",
   "execution_count": 111,
   "id": "5c2ed4b5",
   "metadata": {},
   "outputs": [
    {
     "name": "stdout",
     "output_type": "stream",
     "text": [
      "1\n",
      "2\n"
     ]
    }
   ],
   "source": [
    "h()"
   ]
  },
  {
   "cell_type": "code",
   "execution_count": 112,
   "id": "182fe639",
   "metadata": {},
   "outputs": [
    {
     "name": "stdout",
     "output_type": "stream",
     "text": [
      "1\n",
      "2\n",
      "None\n"
     ]
    }
   ],
   "source": [
    "print(h())"
   ]
  },
  {
   "cell_type": "code",
   "execution_count": 113,
   "id": "f9de85cf",
   "metadata": {},
   "outputs": [
    {
     "name": "stdout",
     "output_type": "stream",
     "text": [
      "1\n",
      "2\n",
      "<class 'NoneType'>\n"
     ]
    }
   ],
   "source": [
    "print(type(h()))"
   ]
  },
  {
   "cell_type": "code",
   "execution_count": 114,
   "id": "ca5c44f3",
   "metadata": {},
   "outputs": [],
   "source": [
    "def return1():\n",
    "    a=1\n",
    "    b=\"happy\"\n",
    "    c=7.99\n",
    "    return a,b,c"
   ]
  },
  {
   "cell_type": "code",
   "execution_count": 116,
   "id": "370221c5",
   "metadata": {},
   "outputs": [
    {
     "name": "stdout",
     "output_type": "stream",
     "text": [
      "1 happy 7.99\n"
     ]
    }
   ],
   "source": [
    "x,y,z=return1()\n",
    "print(x,y,z) #will catch in the order it is returned"
   ]
  },
  {
   "cell_type": "code",
   "execution_count": 119,
   "id": "21306db6",
   "metadata": {},
   "outputs": [],
   "source": [
    "def return2():\n",
    "    a=1\n",
    "    b=\"happy\"\n",
    "    c=7.99\n",
    "    return c,a,b"
   ]
  },
  {
   "cell_type": "code",
   "execution_count": 121,
   "id": "b83c5380",
   "metadata": {},
   "outputs": [
    {
     "name": "stdout",
     "output_type": "stream",
     "text": [
      "7.99 1 happy\n"
     ]
    }
   ],
   "source": [
    "x,y,z=return2()\n",
    "print(x,y,z) "
   ]
  },
  {
   "cell_type": "markdown",
   "id": "2a16ef20",
   "metadata": {},
   "source": [
    "# arbritery number of arguments function"
   ]
  },
  {
   "cell_type": "code",
   "execution_count": 126,
   "id": "cec2e140",
   "metadata": {},
   "outputs": [],
   "source": [
    "def add(*args):\n",
    "    sum=0\n",
    "    for i in range(len(args)):\n",
    "        sum+=args[i]\n",
    "    return sum"
   ]
  },
  {
   "cell_type": "code",
   "execution_count": 127,
   "id": "fb004608",
   "metadata": {},
   "outputs": [
    {
     "name": "stdout",
     "output_type": "stream",
     "text": [
      "21\n"
     ]
    }
   ],
   "source": [
    "print(add(1,2,3,4,5,6))"
   ]
  },
  {
   "cell_type": "code",
   "execution_count": 129,
   "id": "bcc30648",
   "metadata": {},
   "outputs": [
    {
     "ename": "TypeError",
     "evalue": "unsupported operand type(s) for +=: 'int' and 'str'",
     "output_type": "error",
     "traceback": [
      "\u001b[1;31m---------------------------------------------------------------------------\u001b[0m",
      "\u001b[1;31mTypeError\u001b[0m                                 Traceback (most recent call last)",
      "Cell \u001b[1;32mIn[129], line 1\u001b[0m\n\u001b[1;32m----> 1\u001b[0m \u001b[38;5;28mprint\u001b[39m(add(\u001b[38;5;241m1\u001b[39m,\u001b[38;5;124m'\u001b[39m\u001b[38;5;124ma\u001b[39m\u001b[38;5;124m'\u001b[39m,\u001b[38;5;241m3\u001b[39m,\u001b[38;5;241m4\u001b[39m,\u001b[38;5;241m5\u001b[39m,\u001b[38;5;241m6\u001b[39m))\n",
      "Cell \u001b[1;32mIn[126], line 4\u001b[0m, in \u001b[0;36madd\u001b[1;34m(*args)\u001b[0m\n\u001b[0;32m      2\u001b[0m \u001b[38;5;28msum\u001b[39m\u001b[38;5;241m=\u001b[39m\u001b[38;5;241m0\u001b[39m\n\u001b[0;32m      3\u001b[0m \u001b[38;5;28;01mfor\u001b[39;00m i \u001b[38;5;129;01min\u001b[39;00m \u001b[38;5;28mrange\u001b[39m(\u001b[38;5;28mlen\u001b[39m(args)):\n\u001b[1;32m----> 4\u001b[0m     \u001b[38;5;28msum\u001b[39m\u001b[38;5;241m+\u001b[39m\u001b[38;5;241m=\u001b[39margs[i]\n\u001b[0;32m      5\u001b[0m \u001b[38;5;28;01mreturn\u001b[39;00m \u001b[38;5;28msum\u001b[39m\n",
      "\u001b[1;31mTypeError\u001b[0m: unsupported operand type(s) for +=: 'int' and 'str'"
     ]
    }
   ],
   "source": [
    "print(add(1,'a',3,4,5,6))"
   ]
  },
  {
   "cell_type": "code",
   "execution_count": 130,
   "id": "bf1070e1",
   "metadata": {},
   "outputs": [
    {
     "name": "stdout",
     "output_type": "stream",
     "text": [
      "210\n"
     ]
    }
   ],
   "source": [
    "print(add(20,19,18,17,16,15,14,13,12,11,10,9,8,7,6,5,4,3,2,1))"
   ]
  },
  {
   "cell_type": "code",
   "execution_count": 131,
   "id": "12e4865e",
   "metadata": {},
   "outputs": [],
   "source": [
    "def printvariablenamesandvalues(**args):\n",
    "    for x in args:\n",
    "        print(\"variable name is :\",x,\"and the value is:\",args[x])"
   ]
  },
  {
   "cell_type": "code",
   "execution_count": 132,
   "id": "2956484b",
   "metadata": {},
   "outputs": [
    {
     "name": "stdout",
     "output_type": "stream",
     "text": [
      "variable name is : a and the value is: qwe\n",
      "variable name is : b and the value is: 9.8\n",
      "variable name is : c and the value is: hello\n",
      "variable name is : d and the value is: 6\n"
     ]
    }
   ],
   "source": [
    "printvariablenamesandvalues(a='qwe',b=9.8,c='hello',d=6)"
   ]
  },
  {
   "cell_type": "code",
   "execution_count": 133,
   "id": "f4238bba",
   "metadata": {},
   "outputs": [
    {
     "ename": "SyntaxError",
     "evalue": "expression cannot contain assignment, perhaps you meant \"==\"? (741539618.py, line 1)",
     "output_type": "error",
     "traceback": [
      "\u001b[1;36m  Cell \u001b[1;32mIn[133], line 1\u001b[1;36m\u001b[0m\n\u001b[1;33m    printvariablenamesandvalues(1='qwe',b=9.8,c='hello',d=6)\u001b[0m\n\u001b[1;37m                                ^\u001b[0m\n\u001b[1;31mSyntaxError\u001b[0m\u001b[1;31m:\u001b[0m expression cannot contain assignment, perhaps you meant \"==\"?\n"
     ]
    }
   ],
   "source": [
    "printvariablenamesandvalues(1='qwe',b=9.8,c='hello',d=6)"
   ]
  },
  {
   "cell_type": "markdown",
   "id": "5bdcb6cd",
   "metadata": {},
   "source": [
    "# Default values in function"
   ]
  },
  {
   "cell_type": "code",
   "execution_count": 134,
   "id": "8a06b625",
   "metadata": {},
   "outputs": [],
   "source": [
    "def gg(value=6):\n",
    "    print(value)# if no value is given during call the by default it wil print 6 if giv then the given value"
   ]
  },
  {
   "cell_type": "code",
   "execution_count": 135,
   "id": "cb9fbb5c",
   "metadata": {},
   "outputs": [
    {
     "name": "stdout",
     "output_type": "stream",
     "text": [
      "6\n"
     ]
    }
   ],
   "source": [
    "gg()"
   ]
  },
  {
   "cell_type": "code",
   "execution_count": 136,
   "id": "512925db",
   "metadata": {},
   "outputs": [
    {
     "name": "stdout",
     "output_type": "stream",
     "text": [
      "88\n"
     ]
    }
   ],
   "source": [
    "gg(88)"
   ]
  },
  {
   "cell_type": "code",
   "execution_count": 138,
   "id": "7580e08d",
   "metadata": {},
   "outputs": [
    {
     "name": "stdout",
     "output_type": "stream",
     "text": [
      "[-9, 2, 3, 4, 5]\n"
     ]
    }
   ],
   "source": [
    "L=[1,2,3,4,5]\n",
    "L2=L\n",
    "L[0]=-9 #both share same memory location so change made in any is reflected in both\n",
    "print(L)"
   ]
  },
  {
   "cell_type": "code",
   "execution_count": 141,
   "id": "789bac66",
   "metadata": {},
   "outputs": [],
   "source": [
    "def ff(L=[1,2,3]):\n",
    "    for i in L:\n",
    "        print(i)"
   ]
  },
  {
   "cell_type": "code",
   "execution_count": 142,
   "id": "2b571a4f",
   "metadata": {},
   "outputs": [
    {
     "name": "stdout",
     "output_type": "stream",
     "text": [
      "1\n",
      "2\n",
      "3\n"
     ]
    }
   ],
   "source": [
    "ff()"
   ]
  },
  {
   "cell_type": "code",
   "execution_count": 143,
   "id": "135fda82",
   "metadata": {},
   "outputs": [
    {
     "name": "stdout",
     "output_type": "stream",
     "text": [
      "56\n",
      "78\n",
      "90\n",
      "a\n"
     ]
    }
   ],
   "source": [
    "L3=[56,78,90,'a']\n",
    "ff(L3)"
   ]
  },
  {
   "cell_type": "code",
   "execution_count": 144,
   "id": "4065dfdf",
   "metadata": {},
   "outputs": [
    {
     "name": "stdout",
     "output_type": "stream",
     "text": [
      "1\n",
      "2\n",
      "3\n"
     ]
    }
   ],
   "source": [
    "ff() #L will not take L3 values forever it will again pick the default value once the function scope is over"
   ]
  },
  {
   "cell_type": "code",
   "execution_count": 145,
   "id": "066e958e",
   "metadata": {},
   "outputs": [
    {
     "name": "stdout",
     "output_type": "stream",
     "text": [
      "[56, 78, 90, 'a']\n"
     ]
    }
   ],
   "source": [
    "gg(L3)"
   ]
  },
  {
   "cell_type": "code",
   "execution_count": 146,
   "id": "68a4427c",
   "metadata": {},
   "outputs": [
    {
     "name": "stdout",
     "output_type": "stream",
     "text": [
      "6\n"
     ]
    }
   ],
   "source": [
    "gg()"
   ]
  },
  {
   "cell_type": "code",
   "execution_count": 171,
   "id": "22b67de9",
   "metadata": {},
   "outputs": [],
   "source": [
    "#import any function file from a location\n",
    "import sys\n",
    "sys.path.append('F:/MyPythonModules/')\n",
    "import MyModules as UniFuns"
   ]
  },
  {
   "cell_type": "code",
   "execution_count": 160,
   "id": "84159163",
   "metadata": {},
   "outputs": [],
   "source": [
    "UniFuns.checkifnotnum??"
   ]
  },
  {
   "cell_type": "code",
   "execution_count": 172,
   "id": "a80794a0",
   "metadata": {},
   "outputs": [
    {
     "name": "stdout",
     "output_type": "stream",
     "text": [
      "205\n"
     ]
    }
   ],
   "source": [
    "print(UniFuns.universaladdallnums(6,9,90,100))"
   ]
  },
  {
   "cell_type": "code",
   "execution_count": 173,
   "id": "9145151f",
   "metadata": {},
   "outputs": [],
   "source": [
    "#import only 1 function from the function file\n",
    "from  MyModules_Functions import checkifnotnum as numFuns"
   ]
  },
  {
   "cell_type": "code",
   "execution_count": 174,
   "id": "e244bcfe",
   "metadata": {},
   "outputs": [
    {
     "data": {
      "text/plain": [
       "True"
      ]
     },
     "execution_count": 174,
     "metadata": {},
     "output_type": "execute_result"
    }
   ],
   "source": [
    "numFuns(1,2,3)"
   ]
  },
  {
   "cell_type": "code",
   "execution_count": 175,
   "id": "54eec72e",
   "metadata": {},
   "outputs": [
    {
     "data": {
      "text/plain": [
       "False"
      ]
     },
     "execution_count": 175,
     "metadata": {},
     "output_type": "execute_result"
    }
   ],
   "source": [
    "numFuns(1,2,'ggg')"
   ]
  },
  {
   "cell_type": "code",
   "execution_count": 208,
   "id": "4bcbd4cd",
   "metadata": {},
   "outputs": [
    {
     "data": {
      "text/plain": [
       "'Python'"
      ]
     },
     "execution_count": 208,
     "metadata": {},
     "output_type": "execute_result"
    }
   ],
   "source": [
    "UniFuns.myname\n",
    "#sortLL([9,8,56,85,0,-1])"
   ]
  },
  {
   "cell_type": "markdown",
   "id": "ec1cfbec",
   "metadata": {},
   "source": [
    "# Practice Function"
   ]
  },
  {
   "cell_type": "code",
   "execution_count": 211,
   "id": "0877f9d4",
   "metadata": {},
   "outputs": [],
   "source": [
    "## Given  a list of numbers find Min\n",
    "def findmin(L):\n",
    "    min=L[0]\n",
    "    idx=0\n",
    "    i=0\n",
    "    for x in L:\n",
    "        if x<min:\n",
    "            min=x\n",
    "            idx=i\n",
    "        else:\n",
    "            pass\n",
    "        i+=1\n",
    "    #print(\"The min value is:-\",min,\"at index:-\",idx)\n",
    "    return min,idx"
   ]
  },
  {
   "cell_type": "code",
   "execution_count": 184,
   "id": "08d24695",
   "metadata": {},
   "outputs": [
    {
     "name": "stdout",
     "output_type": "stream",
     "text": [
      "The min value is:- -45 at index:- 9\n"
     ]
    }
   ],
   "source": [
    "findmin([100,200,-5,8,1002362,6,2,4,50,-45])"
   ]
  },
  {
   "cell_type": "code",
   "execution_count": 189,
   "id": "6583c174",
   "metadata": {},
   "outputs": [],
   "source": [
    "def swapvalues(L,idx1,idx2):\n",
    "    \"\"\"Swap 2 given index values in a List\"\"\"\n",
    "    temp=L[idx1]\n",
    "    L[idx1]=L[idx2]\n",
    "    L[idx2]=temp\n",
    "    return L"
   ]
  },
  {
   "cell_type": "code",
   "execution_count": 191,
   "id": "8b40d165",
   "metadata": {},
   "outputs": [
    {
     "name": "stdout",
     "output_type": "stream",
     "text": [
      "Old List:- [2, 3, 5, 8, 9]\n",
      "New List:- [2, 3, 5, 9, 8]\n"
     ]
    }
   ],
   "source": [
    "OL=[2,3,5,8,9]\n",
    "NL=swapvalues([2,3,5,8,9],3,4)\n",
    "print(\"Old List:-\",OL)\n",
    "print(\"New List:-\",NL)"
   ]
  },
  {
   "cell_type": "code",
   "execution_count": 226,
   "id": "d40ec1a2",
   "metadata": {},
   "outputs": [],
   "source": [
    "#from  MyModules_Functions import checkifnotnum as numFuns\n",
    "def sortList(LL):\n",
    "    if not(numFuns(LL)):\n",
    "        print(\"All values enterted are not numeric\")\n",
    "        return\n",
    "    else:\n",
    "        c=0\n",
    "        for x in LL:\n",
    "            min,ind=findminFun(LL,c)\n",
    "            LL=swapvalues(LL,c,ind)\n",
    "            c+=1\n",
    "    return LL "
   ]
  },
  {
   "cell_type": "code",
   "execution_count": 203,
   "id": "d4311cc6",
   "metadata": {},
   "outputs": [],
   "source": [
    "def sortLL(L):\n",
    "    \"\"\"This function will sort any list given in ascending order\"\"\"\n",
    "    for j in range(len(L)):\n",
    "        minno=L[j]\n",
    "        idx=j\n",
    "        c=j\n",
    "        for i in range(j,len(L)):\n",
    "                if L[i]<minno:\n",
    "                    minno=L[i]\n",
    "                    idx=c\n",
    "                c+=1\n",
    "        temp=L[j]\n",
    "        L[j]=minno\n",
    "        L[idx]=temp\n",
    "    return(L)\n",
    "        "
   ]
  },
  {
   "cell_type": "code",
   "execution_count": 224,
   "id": "68fa0ef7",
   "metadata": {},
   "outputs": [
    {
     "name": "stdout",
     "output_type": "stream",
     "text": [
      "[-1, 0, 8, 9, 56, 85]\n"
     ]
    }
   ],
   "source": [
    "sortLL([9,8,56,85,0,-1])"
   ]
  },
  {
   "cell_type": "code",
   "execution_count": 213,
   "id": "2e601fd0",
   "metadata": {},
   "outputs": [],
   "source": [
    "def numFuns(L):\n",
    "    for x in L:\n",
    "        if not(isinstance(x,(int,float))):\n",
    "            return False\n",
    "    return True"
   ]
  },
  {
   "cell_type": "code",
   "execution_count": 228,
   "id": "dfe64b6e",
   "metadata": {},
   "outputs": [
    {
     "name": "stdout",
     "output_type": "stream",
     "text": [
      "[-1, 0, 8, 9, 56, 85]\n"
     ]
    }
   ],
   "source": [
    "print(sortList([9,8,56,85,0,-1]))"
   ]
  },
  {
   "cell_type": "code",
   "execution_count": 222,
   "id": "9d37a819",
   "metadata": {},
   "outputs": [],
   "source": [
    "## Given  a list of numbers find Min\n",
    "def findminFun(L,stridx):\n",
    "    min=L[stridx]\n",
    "    idx=stridx\n",
    "    for i in range(stridx,len(L)):\n",
    "        x=L[i]\n",
    "        if x<min:\n",
    "            min=x\n",
    "            idx=i\n",
    "        else:\n",
    "            pass\n",
    "        i+=1\n",
    "    #print(\"The min value is:-\",min,\"at index:-\",idx)\n",
    "    return min,idx"
   ]
  },
  {
   "cell_type": "code",
   "execution_count": 229,
   "id": "636be397",
   "metadata": {},
   "outputs": [
    {
     "name": "stdout",
     "output_type": "stream",
     "text": [
      "[-99, -67, -8, 9, 10, 45, 67, 10000, 54647]\n"
     ]
    }
   ],
   "source": [
    "print(sortList([10,9,67,45,10000,54647,-8,-99,-67]))"
   ]
  },
  {
   "cell_type": "code",
   "execution_count": 230,
   "id": "ece6028b",
   "metadata": {},
   "outputs": [
    {
     "name": "stdout",
     "output_type": "stream",
     "text": [
      "hello world\n",
      "['h', 'e', 'l', 'l', 'o', ' ', 'w', 'o', 'r', 'l', 'd']\n"
     ]
    }
   ],
   "source": [
    "word=input()\n",
    "listofinput=[]\n",
    "\n",
    "for letter in word:\n",
    "    listofinput.append(letter)\n",
    "    \n",
    "print(listofinput)"
   ]
  },
  {
   "cell_type": "code",
   "execution_count": 231,
   "id": "0d6b545a",
   "metadata": {},
   "outputs": [
    {
     "name": "stdout",
     "output_type": "stream",
     "text": [
      "range(0, 20)\n"
     ]
    }
   ],
   "source": [
    "print(range(20))"
   ]
  },
  {
   "cell_type": "code",
   "execution_count": 232,
   "id": "ef4b9e88",
   "metadata": {},
   "outputs": [
    {
     "name": "stdout",
     "output_type": "stream",
     "text": [
      "0 1 2 3 4 5 6 7 8 9 10 11 12 13 14 15 16 17 18 19\n"
     ]
    }
   ],
   "source": [
    "print(*range(20))"
   ]
  },
  {
   "cell_type": "markdown",
   "id": "75b79f04",
   "metadata": {},
   "source": [
    "# \"Python\" and 'Python' is the same do not mix \"Python' or 'Python\""
   ]
  },
  {
   "cell_type": "code",
   "execution_count": 249,
   "id": "9e7cb474",
   "metadata": {},
   "outputs": [
    {
     "data": {
      "text/plain": [
       "str"
      ]
     },
     "execution_count": 249,
     "metadata": {},
     "output_type": "execute_result"
    }
   ],
   "source": [
    "s=\"Pythn is a good language\"\n",
    "p='It is good for data science'\n",
    "type(s)"
   ]
  },
  {
   "cell_type": "code",
   "execution_count": 236,
   "id": "5c1148ed",
   "metadata": {},
   "outputs": [
    {
     "name": "stdout",
     "output_type": "stream",
     "text": [
      "Pythn is a good language\n"
     ]
    }
   ],
   "source": [
    "print(s)"
   ]
  },
  {
   "cell_type": "code",
   "execution_count": 245,
   "id": "5d0773a3",
   "metadata": {},
   "outputs": [
    {
     "name": "stdout",
     "output_type": "stream",
     "text": [
      "True\n"
     ]
    }
   ],
   "source": [
    "if  2==2.0:\n",
    "    print (True)\n",
    "else:\n",
    "    print (False)"
   ]
  },
  {
   "cell_type": "code",
   "execution_count": 253,
   "id": "bbe33eb6",
   "metadata": {},
   "outputs": [
    {
     "name": "stdout",
     "output_type": "stream",
     "text": [
      "Pythn is a good languageIt is good for data science\n",
      "Pythn is a good language It is good for data science\n"
     ]
    }
   ],
   "source": [
    "v = s+p\n",
    "print(v)\n",
    "\n",
    "v1=s+\" \"+p\n",
    "print(v1)"
   ]
  },
  {
   "cell_type": "code",
   "execution_count": 261,
   "id": "36448a38",
   "metadata": {},
   "outputs": [
    {
     "name": "stdout",
     "output_type": "stream",
     "text": [
      "The price of the book is: 12\n",
      "The price of the book is: 12\n"
     ]
    }
   ],
   "source": [
    "price = 12\n",
    "f=\"The price of the book\"\n",
    "#g1= f+\" is :\" + price  #here we canno concat int only string can be done using +\n",
    "g2= f+\" is: \" + str(price) #convert it to string\n",
    "\n",
    "print(g2)\n",
    "print(f,\"is:\",price) #Without converting we c=can achive the same by using print also proce adds spaces by itself"
   ]
  },
  {
   "cell_type": "code",
   "execution_count": 262,
   "id": "fcd99fa1",
   "metadata": {},
   "outputs": [
    {
     "name": "stdout",
     "output_type": "stream",
     "text": [
      "This is Line 1\n",
      "This is line 2\n",
      "This is last line 3\n"
     ]
    }
   ],
   "source": [
    "multi =\"\"\"This is Line 1\n",
    "This is line 2\n",
    "This is last line 3\"\"\" ##for multiline we use \"\"\"\"\"\"\n",
    "print(multi)"
   ]
  },
  {
   "cell_type": "code",
   "execution_count": 264,
   "id": "9b2bb8f8",
   "metadata": {},
   "outputs": [
    {
     "name": "stdout",
     "output_type": "stream",
     "text": [
      "the following options are availabe:\n",
      "            -a    : does nothing\n",
      "            -b    : does anything\n",
      "            -c    : doeseverting \n"
     ]
    }
   ],
   "source": [
    "print(\"\"\"the following options are availabe:\n",
    "            -a    : does nothing\n",
    "            -b    : does anything\n",
    "            -c    : doeseverting \"\"\")"
   ]
  },
  {
   "cell_type": "code",
   "execution_count": 273,
   "id": "89acfde1",
   "metadata": {},
   "outputs": [
    {
     "name": "stdout",
     "output_type": "stream",
     "text": [
      "o\n"
     ]
    },
    {
     "data": {
      "text/plain": [
       "str"
      ]
     },
     "execution_count": 273,
     "metadata": {},
     "output_type": "execute_result"
    }
   ],
   "source": [
    "indexing=\"Game of programming\"\n",
    "print(indexing[5])\n",
    "type(indexing[5]) "
   ]
  },
  {
   "cell_type": "code",
   "execution_count": 271,
   "id": "1c5381af",
   "metadata": {},
   "outputs": [
    {
     "data": {
      "text/plain": [
       "str"
      ]
     },
     "execution_count": 271,
     "metadata": {},
     "output_type": "execute_result"
    }
   ],
   "source": [
    "type(indexing[4])"
   ]
  },
  {
   "cell_type": "code",
   "execution_count": 274,
   "id": "a57d1135",
   "metadata": {},
   "outputs": [
    {
     "data": {
      "text/plain": [
       "'o'"
      ]
     },
     "execution_count": 274,
     "metadata": {},
     "output_type": "execute_result"
    }
   ],
   "source": [
    "indexing[5]"
   ]
  },
  {
   "cell_type": "code",
   "execution_count": 277,
   "id": "e5144e83",
   "metadata": {},
   "outputs": [
    {
     "data": {
      "text/plain": [
       "'Game of programming'"
      ]
     },
     "execution_count": 277,
     "metadata": {},
     "output_type": "execute_result"
    }
   ],
   "source": [
    "indexing"
   ]
  },
  {
   "cell_type": "code",
   "execution_count": 278,
   "id": "df08eebb",
   "metadata": {},
   "outputs": [
    {
     "name": "stdout",
     "output_type": "stream",
     "text": [
      "Game of programming\n"
     ]
    }
   ],
   "source": [
    "print(indexing)"
   ]
  },
  {
   "cell_type": "code",
   "execution_count": 282,
   "id": "5bd70b50",
   "metadata": {},
   "outputs": [
    {
     "name": "stdout",
     "output_type": "stream",
     "text": [
      "Game of programming\n"
     ]
    },
    {
     "data": {
      "text/plain": [
       "'g'"
      ]
     },
     "execution_count": 282,
     "metadata": {},
     "output_type": "execute_result"
    }
   ],
   "source": [
    "print(indexing)\n",
    "indexing[-1]"
   ]
  },
  {
   "cell_type": "code",
   "execution_count": 283,
   "id": "1aa8bc9c",
   "metadata": {},
   "outputs": [
    {
     "name": "stdout",
     "output_type": "stream",
     "text": [
      "Game of programming\n"
     ]
    },
    {
     "data": {
      "text/plain": [
       "'r'"
      ]
     },
     "execution_count": 283,
     "metadata": {},
     "output_type": "execute_result"
    }
   ],
   "source": [
    "print(indexing)\n",
    "indexing[-7]"
   ]
  },
  {
   "cell_type": "code",
   "execution_count": 285,
   "id": "5ccc6d9d",
   "metadata": {},
   "outputs": [
    {
     "name": "stdout",
     "output_type": "stream",
     "text": [
      "Game of programming\n"
     ]
    },
    {
     "data": {
      "text/plain": [
       "'rammin'"
      ]
     },
     "execution_count": 285,
     "metadata": {},
     "output_type": "execute_result"
    }
   ],
   "source": [
    "print(indexing)\n",
    "indexing[-7:-1]"
   ]
  },
  {
   "cell_type": "code",
   "execution_count": 286,
   "id": "9ec3671f",
   "metadata": {},
   "outputs": [
    {
     "name": "stdout",
     "output_type": "stream",
     "text": [
      "Game of programming\n"
     ]
    },
    {
     "data": {
      "text/plain": [
       "'f programmin'"
      ]
     },
     "execution_count": 286,
     "metadata": {},
     "output_type": "execute_result"
    }
   ],
   "source": [
    "print(indexing)\n",
    "indexing[-13:-1]"
   ]
  },
  {
   "cell_type": "code",
   "execution_count": 287,
   "id": "557f6606",
   "metadata": {},
   "outputs": [
    {
     "name": "stdout",
     "output_type": "stream",
     "text": [
      "Game of programming\n"
     ]
    },
    {
     "data": {
      "text/plain": [
       "''"
      ]
     },
     "execution_count": 287,
     "metadata": {},
     "output_type": "execute_result"
    }
   ],
   "source": [
    "print(indexing)\n",
    "indexing[-13:0]"
   ]
  },
  {
   "cell_type": "code",
   "execution_count": 306,
   "id": "79def402",
   "metadata": {},
   "outputs": [
    {
     "name": "stdout",
     "output_type": "stream",
     "text": [
      "Game of programming\n",
      "fo em\n",
      "gim\n"
     ]
    }
   ],
   "source": [
    "print(indexing)\n",
    "print(indexing[-13:1:-1]) #need to specify -ve jump if we use any -ve start or end\n",
    "print(indexing[-1:13:-2])#-1 to 13(12) with 2 jumps"
   ]
  },
  {
   "cell_type": "code",
   "execution_count": 289,
   "id": "f4856f1f",
   "metadata": {},
   "outputs": [
    {
     "name": "stdout",
     "output_type": "stream",
     "text": [
      "Game of programming\n"
     ]
    },
    {
     "data": {
      "text/plain": [
       "''"
      ]
     },
     "execution_count": 289,
     "metadata": {},
     "output_type": "execute_result"
    }
   ],
   "source": [
    "print(indexing)\n",
    "indexing[-1:13]"
   ]
  },
  {
   "cell_type": "code",
   "execution_count": 302,
   "id": "d24724c7",
   "metadata": {},
   "outputs": [
    {
     "name": "stdout",
     "output_type": "stream",
     "text": [
      "Game of programming\n",
      "\n"
     ]
    },
    {
     "data": {
      "text/plain": [
       "''"
      ]
     },
     "execution_count": 302,
     "metadata": {},
     "output_type": "execute_result"
    }
   ],
   "source": [
    "print(indexing)\n",
    "print(indexing[-1:-13]) # will not print reverse\n",
    "indexing[-1:-13:-2] # if jum is specified then it will"
   ]
  },
  {
   "cell_type": "code",
   "execution_count": 291,
   "id": "56b46554",
   "metadata": {},
   "outputs": [
    {
     "ename": "TypeError",
     "evalue": "'str' object does not support item assignment",
     "output_type": "error",
     "traceback": [
      "\u001b[1;31m---------------------------------------------------------------------------\u001b[0m",
      "\u001b[1;31mTypeError\u001b[0m                                 Traceback (most recent call last)",
      "Cell \u001b[1;32mIn[291], line 1\u001b[0m\n\u001b[1;32m----> 1\u001b[0m indexing[\u001b[38;5;241m2\u001b[39m]\u001b[38;5;241m=\u001b[39m\u001b[38;5;124m'\u001b[39m\u001b[38;5;124mX\u001b[39m\u001b[38;5;124m'\u001b[39m\n",
      "\u001b[1;31mTypeError\u001b[0m: 'str' object does not support item assignment"
     ]
    }
   ],
   "source": [
    "indexing[2]='X' #once a string is created it is not changeable we need to created another changed string(immutable string)"
   ]
  },
  {
   "cell_type": "code",
   "execution_count": 293,
   "id": "6f83efb9",
   "metadata": {},
   "outputs": [
    {
     "name": "stdout",
     "output_type": "stream",
     "text": [
      "Game of programming\n"
     ]
    },
    {
     "data": {
      "text/plain": [
       "'Gm fpo'"
      ]
     },
     "execution_count": 293,
     "metadata": {},
     "output_type": "execute_result"
    }
   ],
   "source": [
    "print(indexing)\n",
    "indexing[0:12:2] # 0 to 12(till 11) jump of 2"
   ]
  },
  {
   "cell_type": "code",
   "execution_count": 294,
   "id": "d5d60375",
   "metadata": {},
   "outputs": [
    {
     "data": {
      "text/plain": [
       "'Game of prog'"
      ]
     },
     "execution_count": 294,
     "metadata": {},
     "output_type": "execute_result"
    }
   ],
   "source": [
    "indexing[:12]# 0 is by default"
   ]
  },
  {
   "cell_type": "code",
   "execution_count": 295,
   "id": "b00c4e01",
   "metadata": {},
   "outputs": [
    {
     "data": {
      "text/plain": [
       "'e of programming'"
      ]
     },
     "execution_count": 295,
     "metadata": {},
     "output_type": "execute_result"
    }
   ],
   "source": [
    "indexing[3:]# here till the end is by default it will include the end str as well"
   ]
  },
  {
   "cell_type": "code",
   "execution_count": 296,
   "id": "9e9c4672",
   "metadata": {},
   "outputs": [
    {
     "data": {
      "text/plain": [
       "'gnimmargorp fo emaG'"
      ]
     },
     "execution_count": 296,
     "metadata": {},
     "output_type": "execute_result"
    }
   ],
   "source": [
    "indexing[::-1] # will reverse the string"
   ]
  },
  {
   "cell_type": "code",
   "execution_count": 307,
   "id": "166dceed",
   "metadata": {},
   "outputs": [
    {
     "name": "stdout",
     "output_type": "stream",
     "text": [
      "19\n"
     ]
    }
   ],
   "source": [
    "print(len(indexing))"
   ]
  },
  {
   "cell_type": "code",
   "execution_count": 312,
   "id": "c307179b",
   "metadata": {},
   "outputs": [
    {
     "name": "stdout",
     "output_type": "stream",
     "text": [
      "Game of programming\n",
      "e of \n",
      "5\n"
     ]
    }
   ],
   "source": [
    "print(indexing)\n",
    "print(indexing[3:8])\n",
    "print(len(indexing[3:8]))"
   ]
  },
  {
   "cell_type": "code",
   "execution_count": 319,
   "id": "d2b1e31c",
   "metadata": {},
   "outputs": [
    {
     "name": "stdout",
     "output_type": "stream",
     "text": [
      "       abcdes        hdgjagfjag      lasjlalknv       \n",
      "54\n",
      "abcdes        hdgjagfjag      lasjlalknv\n",
      "40\n"
     ]
    }
   ],
   "source": [
    "spaces=\"       abcdes        hdgjagfjag      lasjlalknv       \"\n",
    "print(spaces)\n",
    "print(len(spaces))\n",
    "b=spaces.strip() #will remove spaves form front and back but will not remove in middle spaces\n",
    "print(b)\n",
    "print(len(b))"
   ]
  },
  {
   "cell_type": "code",
   "execution_count": 323,
   "id": "25912b64",
   "metadata": {},
   "outputs": [
    {
     "name": "stdout",
     "output_type": "stream",
     "text": [
      "Given:    ABC 90909 :::     kajshkjasgfjasfb GHFRCDSCDJNFHUJFVN\n",
      "Lower:    abc 90909 :::     kajshkjasgfjasfb ghfrcdscdjnfhujfvn\n",
      "Upper:    ABC 90909 :::     KAJSHKJASGFJASFB GHFRCDSCDJNFHUJFVN\n"
     ]
    }
   ],
   "source": [
    "zz='   ABC 90909 :::     kajshkjasgfjasfb GHFRCDSCDJNFHUJFVN'\n",
    "print(\"Given:\",zz)\n",
    "Low=zz.lower()\n",
    "Up=zz.upper()\n",
    "print(\"Lower:\",Low)\n",
    "print(\"Upper:\",Up)"
   ]
  },
  {
   "cell_type": "code",
   "execution_count": 338,
   "id": "3be8343f",
   "metadata": {},
   "outputs": [
    {
     "name": "stdout",
     "output_type": "stream",
     "text": [
      "Given: HGFVHFYF ::: -0098776556##$%%^ lasjkashfkjfbxcjbvjb ;;;                  ;;;;\n",
      "HGFVHFYF *** -0098776556##$%%^ lasjkashfkjfbxcjbvjb ;;;                  ;;;;\n",
      "HGFVHFYF^%^:::^%^-0098776556##$%%^^%^lasjkashfkjfbxcjbvjb^%^;;;^%^^%^^%^^%^^%^^%^^%^^%^^%^^%^^%^^%^^%^^%^^%^^%^^%^^%^;;;;\n",
      "+H+G+F+V+H+F+Y+F+ +:+:+:+ +-+0+0+9+8+7+7+6+5+5+6+#+#+$+%+%+^+ +l+a+s+j+k+a+s+h+f+k+j+f+b+x+c+j+b+v+j+b+ +;+;+;+ + + + + + + + + + + + + + + + + + +;+;+;+;+\n"
     ]
    }
   ],
   "source": [
    "bb='HGFVHFYF ::: -0098776556##$%%^ lasjkashfkjfbxcjbvjb ;;;                  ;;;;'\n",
    "print(\"Given:\",bb)\n",
    "Rep1=bb.replace(':','*')\n",
    "Rep2=bb.replace(' ','^%^')#Space\n",
    "Rep3=bb.replace('','+')#blank so it will add in between ever char\n",
    "\n",
    "print(Rep1)\n",
    "print(Rep2)\n",
    "print(Rep3)\n",
    "\n"
   ]
  },
  {
   "cell_type": "code",
   "execution_count": 341,
   "id": "e5b1883f",
   "metadata": {},
   "outputs": [
    {
     "name": "stdout",
     "output_type": "stream",
     "text": [
      "['bgbf', 'uygdvf', '1234', 'ijhgbfvdcrscdfv', '8987654']\n",
      "uygdvf\n"
     ]
    }
   ],
   "source": [
    "SP=\"bgbf%uygdvf%1234%ijhgbfvdcrscdfv%8987654\"\n",
    "NewSP=SP.split(\"%\")#will make a list on the bases of % as delimiter\n",
    "print(NewSP)\n",
    "print(NewSP[1])"
   ]
  },
  {
   "cell_type": "code",
   "execution_count": 342,
   "id": "c29429ef",
   "metadata": {},
   "outputs": [
    {
     "name": "stdout",
     "output_type": "stream",
     "text": [
      "Tkshfksfhgfvdjdsbdjsbf\n"
     ]
    }
   ],
   "source": [
    "tt=\"tkshfksfhGFVdjdsbdjsbf\"\n",
    "dd=tt.capitalize()\n",
    "print(dd)"
   ]
  },
  {
   "cell_type": "code",
   "execution_count": 344,
   "id": "95020b38",
   "metadata": {},
   "outputs": [],
   "source": [
    "tt.a #here we can type an alphabet and tab to chcek if there is anyother function "
   ]
  },
  {
   "cell_type": "code",
   "execution_count": 345,
   "id": "e1b52836",
   "metadata": {},
   "outputs": [
    {
     "data": {
      "text/plain": [
       "'Dagfacytggrdvbnjhgcasasas'"
      ]
     },
     "execution_count": 345,
     "metadata": {},
     "output_type": "execute_result"
    }
   ],
   "source": [
    "\"dagfacYTGGRDVBNJHGCasasas\".capitalize()"
   ]
  },
  {
   "cell_type": "code",
   "execution_count": 346,
   "id": "08e9b1e6",
   "metadata": {},
   "outputs": [
    {
     "name": "stdout",
     "output_type": "stream",
     "text": [
      "Help on built-in function count:\n",
      "\n",
      "count(...) method of builtins.str instance\n",
      "    S.count(sub[, start[, end]]) -> int\n",
      "    \n",
      "    Return the number of non-overlapping occurrences of substring sub in\n",
      "    string S[start:end].  Optional arguments start and end are\n",
      "    interpreted as in slice notation.\n",
      "\n"
     ]
    }
   ],
   "source": [
    "help(tt.count)"
   ]
  },
  {
   "cell_type": "code",
   "execution_count": 1,
   "id": "ee533297",
   "metadata": {},
   "outputs": [
    {
     "data": {
      "text/plain": [
       "True"
      ]
     },
     "execution_count": 1,
     "metadata": {},
     "output_type": "execute_result"
    }
   ],
   "source": [
    "\"abc\" in \"hkajfjfhjabc68875sjbcb\""
   ]
  },
  {
   "cell_type": "code",
   "execution_count": 2,
   "id": "d09735c4",
   "metadata": {},
   "outputs": [
    {
     "data": {
      "text/plain": [
       "False"
      ]
     },
     "execution_count": 2,
     "metadata": {},
     "output_type": "execute_result"
    }
   ],
   "source": [
    "\"1234\" in \"hkajfjfhjabc68875sjbcb\""
   ]
  },
  {
   "cell_type": "code",
   "execution_count": 4,
   "id": "35a4e46c",
   "metadata": {},
   "outputs": [
    {
     "data": {
      "text/plain": [
       "True"
      ]
     },
     "execution_count": 4,
     "metadata": {},
     "output_type": "execute_result"
    }
   ],
   "source": [
    "\"67676767\" not in \"454322434243\""
   ]
  },
  {
   "cell_type": "code",
   "execution_count": 5,
   "id": "a53c22da",
   "metadata": {},
   "outputs": [
    {
     "data": {
      "text/plain": [
       "False"
      ]
     },
     "execution_count": 5,
     "metadata": {},
     "output_type": "execute_result"
    }
   ],
   "source": [
    "\"@@@@\" not in \"@@@@&^&%&()\""
   ]
  },
  {
   "cell_type": "code",
   "execution_count": 6,
   "id": "49b30a1d",
   "metadata": {},
   "outputs": [
    {
     "data": {
      "text/plain": [
       "True"
      ]
     },
     "execution_count": 6,
     "metadata": {},
     "output_type": "execute_result"
    }
   ],
   "source": [
    "\"abc\"<\"def\""
   ]
  },
  {
   "cell_type": "code",
   "execution_count": 7,
   "id": "0d502521",
   "metadata": {},
   "outputs": [
    {
     "data": {
      "text/plain": [
       "False"
      ]
     },
     "execution_count": 7,
     "metadata": {},
     "output_type": "execute_result"
    }
   ],
   "source": [
    "\"abc\">\"def\""
   ]
  },
  {
   "cell_type": "code",
   "execution_count": 9,
   "id": "9fd0849a",
   "metadata": {},
   "outputs": [
    {
     "name": "stdout",
     "output_type": "stream",
     "text": [
      "We are learning \"Strings\" today\n"
     ]
    }
   ],
   "source": [
    "print(\"We are learning \\\"Strings\\\" today\")"
   ]
  },
  {
   "cell_type": "code",
   "execution_count": 10,
   "id": "a905fc38",
   "metadata": {},
   "outputs": [
    {
     "name": "stdout",
     "output_type": "stream",
     "text": [
      "We are learning 'Strings' today\n"
     ]
    }
   ],
   "source": [
    "print(\"We are learning 'Strings' today\")"
   ]
  },
  {
   "cell_type": "code",
   "execution_count": 11,
   "id": "a7290dd7",
   "metadata": {},
   "outputs": [
    {
     "name": "stdout",
     "output_type": "stream",
     "text": [
      "We are learning \"Strings\" today\n"
     ]
    }
   ],
   "source": [
    "print('We are learning \"Strings\" today')"
   ]
  },
  {
   "cell_type": "code",
   "execution_count": 14,
   "id": "37b743b1",
   "metadata": {},
   "outputs": [
    {
     "name": "stdout",
     "output_type": "stream",
     "text": [
      "We are \n",
      "now on new line\n",
      "We are \n",
      " now on new line\n"
     ]
    }
   ],
   "source": [
    "print(\"We are \\nnow on new line\")\n",
    "print(\"We are \\n now on new line\")"
   ]
  },
  {
   "cell_type": "code",
   "execution_count": 15,
   "id": "74e43b4d",
   "metadata": {},
   "outputs": [
    {
     "name": "stdout",
     "output_type": "stream",
     "text": [
      "We are \t now on new Tab\n"
     ]
    }
   ],
   "source": [
    "print(\"We are \\t now on new Tab\")"
   ]
  },
  {
   "cell_type": "code",
   "execution_count": 16,
   "id": "668099fd",
   "metadata": {},
   "outputs": [
    {
     "name": "stdout",
     "output_type": "stream",
     "text": [
      "c:\n",
      "ame:\\drive\tablet\n"
     ]
    }
   ],
   "source": [
    "print(\"c:\\name:\\drive\\tablet\") #we want to print as it is no need of new line and tab"
   ]
  },
  {
   "cell_type": "code",
   "execution_count": 17,
   "id": "677d28e8",
   "metadata": {},
   "outputs": [
    {
     "name": "stdout",
     "output_type": "stream",
     "text": [
      "c:\\name:\\drive\\tablet\n"
     ]
    }
   ],
   "source": [
    "print(r\"c:\\name:\\drive\\tablet\") # r here means raw keep everything as it is dnt consider \\ char"
   ]
  },
  {
   "cell_type": "code",
   "execution_count": 60,
   "id": "f2a39da8",
   "metadata": {},
   "outputs": [],
   "source": [
    "def getDataFromUser():\n",
    "    D={}\n",
    "    while True:\n",
    "        studentID= input(\"Enter Student ID:\")\n",
    "        Marks=input(\"Enter student marks by comma seperated values:\")\n",
    "        Morestud=input(\"Do you want to enter more students type y or n:\")\n",
    "        if studentID in D:\n",
    "            Reenter=input(\"\"\"You have already entered the student details.\n",
    "               Do you want to delete old entries and enter new type y or n:\"\"\")\n",
    "            if Reenter.lower() == \"y\":\n",
    "                del D[studentID]\n",
    "                D[studentID]=Marks.split(\",\")\n",
    "        else:\n",
    "            D[studentID]=Marks.split(\",\")\n",
    "            \n",
    "        if Morestud.lower() == \"n\":\n",
    "            return D\n",
    "        \n",
    "                \n",
    "                  "
   ]
  },
  {
   "cell_type": "code",
   "execution_count": 62,
   "id": "800c47d6",
   "metadata": {},
   "outputs": [
    {
     "name": "stdout",
     "output_type": "stream",
     "text": [
      "Enter Student ID:12\n",
      "Enter student marks by comma seperated values:45,87,65,40\n",
      "Do you want to enter more students type y or n:y\n",
      "Enter Student ID:12\n",
      "Enter student marks by comma seperated values:56,98,90,87,23\n",
      "Do you want to enter more students type y or n:y\n",
      "You have already entered the student details.\n",
      "               Do you want to delete old entries and enter new type y or n:y\n",
      "Enter Student ID:23\n",
      "Enter student marks by comma seperated values:67,76,45,12\n",
      "Do you want to enter more students type y or n:y\n",
      "Enter Student ID:34\n",
      "Enter student marks by comma seperated values:77,88,99,100\n",
      "Do you want to enter more students type y or n:y\n",
      "Enter Student ID:78\n",
      "Enter student marks by comma seperated values:99,99,99,99\n",
      "Do you want to enter more students type y or n:n\n"
     ]
    }
   ],
   "source": [
    "studdata=getDataFromUser()"
   ]
  },
  {
   "cell_type": "code",
   "execution_count": 63,
   "id": "81e0fdcb",
   "metadata": {},
   "outputs": [
    {
     "data": {
      "text/plain": [
       "{'12': ['56', '98', '90', '87', '23'],\n",
       " '23': ['67', '76', '45', '12'],\n",
       " '34': ['77', '88', '99', '100'],\n",
       " '78': ['99', '99', '99', '99']}"
      ]
     },
     "execution_count": 63,
     "metadata": {},
     "output_type": "execute_result"
    }
   ],
   "source": [
    "studdata"
   ]
  },
  {
   "cell_type": "code",
   "execution_count": 64,
   "id": "ba5190d1",
   "metadata": {},
   "outputs": [
    {
     "name": "stdout",
     "output_type": "stream",
     "text": [
      "Enter Student ID:78\n",
      "Enter student marks by comma seperated values:88,76,56,44\n",
      "Do you want to enter more students type y or n:n\n"
     ]
    }
   ],
   "source": [
    "studdata=getDataFromUser()"
   ]
  },
  {
   "cell_type": "code",
   "execution_count": 65,
   "id": "7678efd0",
   "metadata": {},
   "outputs": [
    {
     "data": {
      "text/plain": [
       "{'78': ['88', '76', '56', '44']}"
      ]
     },
     "execution_count": 65,
     "metadata": {},
     "output_type": "execute_result"
    }
   ],
   "source": [
    "studdata\n"
   ]
  },
  {
   "cell_type": "code",
   "execution_count": 66,
   "id": "5b59a711",
   "metadata": {},
   "outputs": [
    {
     "name": "stdout",
     "output_type": "stream",
     "text": [
      "Enter Student ID:12\n",
      "Enter student marks by comma seperated values:56,45,23,11\n",
      "Do you want to enter more students type y or n:y\n",
      "Enter Student ID:13\n",
      "Enter student marks by comma seperated values:78,90,67,45\n",
      "Do you want to enter more students type y or n:y\n",
      "Enter Student ID:14\n",
      "Enter student marks by comma seperated values:88,99,10,101\n",
      "Do you want to enter more students type y or n:15\n",
      "Enter Student ID:15\n",
      "Enter student marks by comma seperated values:23,34,45,56,67\n",
      "Do you want to enter more students type y or n:y\n",
      "Enter Student ID:15\n",
      "Enter student marks by comma seperated values:99,99,99,99\n",
      "Do you want to enter more students type y or n:y\n",
      "You have already entered the student details.\n",
      "               Do you want to delete old entries and enter new type y or n:n\n",
      "Enter Student ID:16\n",
      "Enter student marks by comma seperated values:99,99,99,99\n",
      "Do you want to enter more students type y or n:n\n"
     ]
    }
   ],
   "source": [
    "studdata2=getDataFromUser()"
   ]
  },
  {
   "cell_type": "code",
   "execution_count": 67,
   "id": "b95dd05a",
   "metadata": {},
   "outputs": [
    {
     "data": {
      "text/plain": [
       "{'12': ['56', '45', '23', '11'],\n",
       " '13': ['78', '90', '67', '45'],\n",
       " '14': ['88', '99', '10', '101'],\n",
       " '15': ['23', '34', '45', '56', '67'],\n",
       " '16': ['99', '99', '99', '99']}"
      ]
     },
     "execution_count": 67,
     "metadata": {},
     "output_type": "execute_result"
    }
   ],
   "source": [
    "\n",
    "studdata2\n",
    "\n",
    "\n"
   ]
  },
  {
   "cell_type": "code",
   "execution_count": 79,
   "id": "66789db7",
   "metadata": {},
   "outputs": [],
   "source": [
    "def getavgmrks(D):\n",
    "    avgmarks={}\n",
    "    for x in D:\n",
    "        L=D[x]\n",
    "        print(L)\n",
    "        s=0\n",
    "        for marks in L:\n",
    "            s +=int(marks)\n",
    "            print(int(marks))\n",
    "            avgmarks[x]=s/len(L)\n",
    "            print(\"x:\",x)\n",
    "    return avgmarks"
   ]
  },
  {
   "cell_type": "code",
   "execution_count": 80,
   "id": "e22a7279",
   "metadata": {},
   "outputs": [
    {
     "name": "stdout",
     "output_type": "stream",
     "text": [
      "['56', '45', '23', '11']\n",
      "56\n",
      "x: 12\n",
      "45\n",
      "x: 12\n",
      "23\n",
      "x: 12\n",
      "11\n",
      "x: 12\n",
      "['78', '90', '67', '45']\n",
      "78\n",
      "x: 13\n",
      "90\n",
      "x: 13\n",
      "67\n",
      "x: 13\n",
      "45\n",
      "x: 13\n",
      "['88', '99', '10', '101']\n",
      "88\n",
      "x: 14\n",
      "99\n",
      "x: 14\n",
      "10\n",
      "x: 14\n",
      "101\n",
      "x: 14\n",
      "['23', '34', '45', '56', '67']\n",
      "23\n",
      "x: 15\n",
      "34\n",
      "x: 15\n",
      "45\n",
      "x: 15\n",
      "56\n",
      "x: 15\n",
      "67\n",
      "x: 15\n",
      "['99', '99', '99', '99']\n",
      "99\n",
      "x: 16\n",
      "99\n",
      "x: 16\n",
      "99\n",
      "x: 16\n",
      "99\n",
      "x: 16\n"
     ]
    }
   ],
   "source": [
    "avgM=getavgmrks(studdata2)"
   ]
  },
  {
   "cell_type": "code",
   "execution_count": 74,
   "id": "dad6e218",
   "metadata": {},
   "outputs": [
    {
     "data": {
      "text/plain": [
       "{'12': 33.75, '13': 70.0, '14': 74.5, '15': 45.0, '16': 99.0}"
      ]
     },
     "execution_count": 74,
     "metadata": {},
     "output_type": "execute_result"
    }
   ],
   "source": [
    "avgM"
   ]
  },
  {
   "cell_type": "code",
   "execution_count": null,
   "id": "4ff64915",
   "metadata": {},
   "outputs": [],
   "source": []
  },
  {
   "cell_type": "code",
   "execution_count": null,
   "id": "fc412c20",
   "metadata": {},
   "outputs": [],
   "source": []
  },
  {
   "cell_type": "code",
   "execution_count": null,
   "id": "16fe9fe1",
   "metadata": {},
   "outputs": [],
   "source": []
  },
  {
   "cell_type": "code",
   "execution_count": null,
   "id": "47c29a35",
   "metadata": {},
   "outputs": [],
   "source": []
  },
  {
   "cell_type": "code",
   "execution_count": 18,
   "id": "3aaf87a8",
   "metadata": {},
   "outputs": [],
   "source": [
    "import numpy as np"
   ]
  },
  {
   "cell_type": "code",
   "execution_count": 19,
   "id": "adf524e0",
   "metadata": {},
   "outputs": [],
   "source": [
    "a1=np.array([1,2,3,4,5,6])"
   ]
  },
  {
   "cell_type": "code",
   "execution_count": 20,
   "id": "efefac8b",
   "metadata": {},
   "outputs": [],
   "source": [
    "b1=np.array((8,9,10))"
   ]
  },
  {
   "cell_type": "code",
   "execution_count": 21,
   "id": "402f2a6c",
   "metadata": {},
   "outputs": [
    {
     "name": "stdout",
     "output_type": "stream",
     "text": [
      "[1 2 3 4 5 6]\n"
     ]
    }
   ],
   "source": [
    "print(a1)"
   ]
  },
  {
   "cell_type": "code",
   "execution_count": 22,
   "id": "e833b312",
   "metadata": {},
   "outputs": [
    {
     "name": "stdout",
     "output_type": "stream",
     "text": [
      "[ 8  9 10]\n"
     ]
    }
   ],
   "source": [
    "print(b1)"
   ]
  },
  {
   "cell_type": "code",
   "execution_count": 23,
   "id": "8eeb2ed0",
   "metadata": {},
   "outputs": [
    {
     "data": {
      "text/plain": [
       "numpy.ndarray"
      ]
     },
     "execution_count": 23,
     "metadata": {},
     "output_type": "execute_result"
    }
   ],
   "source": [
    "type(a1)"
   ]
  },
  {
   "cell_type": "code",
   "execution_count": 24,
   "id": "4031c3df",
   "metadata": {},
   "outputs": [
    {
     "data": {
      "text/plain": [
       "dtype('int32')"
      ]
     },
     "execution_count": 24,
     "metadata": {},
     "output_type": "execute_result"
    }
   ],
   "source": [
    "a1.dtype"
   ]
  },
  {
   "cell_type": "code",
   "execution_count": 28,
   "id": "96a0536a",
   "metadata": {},
   "outputs": [],
   "source": [
    "a1=np.array([1,2,3,4,5,6],dtype='f')"
   ]
  },
  {
   "cell_type": "code",
   "execution_count": 26,
   "id": "9b642298",
   "metadata": {},
   "outputs": [
    {
     "data": {
      "text/plain": [
       "dtype('float32')"
      ]
     },
     "execution_count": 26,
     "metadata": {},
     "output_type": "execute_result"
    }
   ],
   "source": [
    "a1.dtype #64bit avaibale too"
   ]
  },
  {
   "cell_type": "code",
   "execution_count": 29,
   "id": "29daa970",
   "metadata": {},
   "outputs": [],
   "source": [
    "ad2=np.array([[1,2,3],[4,5,6]])"
   ]
  },
  {
   "cell_type": "code",
   "execution_count": 30,
   "id": "aa7c258f",
   "metadata": {},
   "outputs": [
    {
     "data": {
      "text/plain": [
       "2"
      ]
     },
     "execution_count": 30,
     "metadata": {},
     "output_type": "execute_result"
    }
   ],
   "source": [
    "ad2.ndim"
   ]
  },
  {
   "cell_type": "code",
   "execution_count": 31,
   "id": "f60a5804",
   "metadata": {},
   "outputs": [
    {
     "data": {
      "text/plain": [
       "3"
      ]
     },
     "execution_count": 31,
     "metadata": {},
     "output_type": "execute_result"
    }
   ],
   "source": [
    "ad2[0,2]"
   ]
  },
  {
   "cell_type": "code",
   "execution_count": 37,
   "id": "f481293e",
   "metadata": {},
   "outputs": [
    {
     "ename": "ValueError",
     "evalue": "setting an array element with a sequence. The requested array has an inhomogeneous shape after 1 dimensions. The detected shape was (2,) + inhomogeneous part.",
     "output_type": "error",
     "traceback": [
      "\u001b[1;31m---------------------------------------------------------------------------\u001b[0m",
      "\u001b[1;31mValueError\u001b[0m                                Traceback (most recent call last)",
      "Cell \u001b[1;32mIn[37], line 1\u001b[0m\n\u001b[1;32m----> 1\u001b[0m bd1\u001b[38;5;241m=\u001b[39mnp\u001b[38;5;241m.\u001b[39marray([[\u001b[38;5;241m1\u001b[39m,\u001b[38;5;241m2\u001b[39m,\u001b[38;5;241m3\u001b[39m],[\u001b[38;5;241m5\u001b[39m,\u001b[38;5;241m6\u001b[39m,\u001b[38;5;241m7\u001b[39m,\u001b[38;5;241m8\u001b[39m]])\n",
      "\u001b[1;31mValueError\u001b[0m: setting an array element with a sequence. The requested array has an inhomogeneous shape after 1 dimensions. The detected shape was (2,) + inhomogeneous part."
     ]
    }
   ],
   "source": [
    "bd1=np.array([[1,2,3],[5,6,7,8]]) #It shoukd have same no. of elements in each array"
   ]
  },
  {
   "cell_type": "code",
   "execution_count": 36,
   "id": "0753103f",
   "metadata": {},
   "outputs": [
    {
     "data": {
      "text/plain": [
       "2"
      ]
     },
     "execution_count": 36,
     "metadata": {},
     "output_type": "execute_result"
    }
   ],
   "source": [
    "bd1.ndim"
   ]
  },
  {
   "cell_type": "code",
   "execution_count": 38,
   "id": "e544b05b",
   "metadata": {},
   "outputs": [],
   "source": [
    "bd1=np.array([[1,2,3,-1],[5,6,7,8]])"
   ]
  },
  {
   "cell_type": "code",
   "execution_count": 39,
   "id": "fa3fe32e",
   "metadata": {},
   "outputs": [
    {
     "data": {
      "text/plain": [
       "2"
      ]
     },
     "execution_count": 39,
     "metadata": {},
     "output_type": "execute_result"
    }
   ],
   "source": [
    "bd1.ndim"
   ]
  },
  {
   "cell_type": "code",
   "execution_count": 41,
   "id": "05451e46",
   "metadata": {},
   "outputs": [
    {
     "data": {
      "text/plain": [
       "8"
      ]
     },
     "execution_count": 41,
     "metadata": {},
     "output_type": "execute_result"
    }
   ],
   "source": [
    "bd1[1,3]"
   ]
  },
  {
   "cell_type": "code",
   "execution_count": 42,
   "id": "daacd0da",
   "metadata": {},
   "outputs": [],
   "source": [
    "cd3=np.array([[[4,6,7],[0,1,-1],[0,0,0]],[[-1,-2,-3],[9,4,3],[-5,-6,-4]]])"
   ]
  },
  {
   "cell_type": "code",
   "execution_count": 44,
   "id": "b6d29183",
   "metadata": {},
   "outputs": [
    {
     "data": {
      "text/plain": [
       "3"
      ]
     },
     "execution_count": 44,
     "metadata": {},
     "output_type": "execute_result"
    }
   ],
   "source": [
    "cd3.ndim"
   ]
  },
  {
   "cell_type": "code",
   "execution_count": 45,
   "id": "f3a432d6",
   "metadata": {},
   "outputs": [
    {
     "data": {
      "text/plain": [
       "-1"
      ]
     },
     "execution_count": 45,
     "metadata": {},
     "output_type": "execute_result"
    }
   ],
   "source": [
    "cd3[0,1,2]"
   ]
  },
  {
   "cell_type": "code",
   "execution_count": 46,
   "id": "5a5549e1",
   "metadata": {},
   "outputs": [
    {
     "data": {
      "text/plain": [
       "-6"
      ]
     },
     "execution_count": 46,
     "metadata": {},
     "output_type": "execute_result"
    }
   ],
   "source": [
    "cd3[1,2,1]"
   ]
  },
  {
   "cell_type": "code",
   "execution_count": 47,
   "id": "b3e7573a",
   "metadata": {},
   "outputs": [
    {
     "data": {
      "text/plain": [
       "numpy.ndarray"
      ]
     },
     "execution_count": 47,
     "metadata": {},
     "output_type": "execute_result"
    }
   ],
   "source": [
    "type(cd3)"
   ]
  },
  {
   "cell_type": "code",
   "execution_count": 48,
   "id": "6ca71348",
   "metadata": {},
   "outputs": [
    {
     "data": {
      "text/plain": [
       "2"
      ]
     },
     "execution_count": 48,
     "metadata": {},
     "output_type": "execute_result"
    }
   ],
   "source": [
    "cd3.shape[0] #0 will tell you how many anrry list"
   ]
  },
  {
   "cell_type": "code",
   "execution_count": 49,
   "id": "dfc8f8bf",
   "metadata": {},
   "outputs": [
    {
     "data": {
      "text/plain": [
       "3"
      ]
     },
     "execution_count": 49,
     "metadata": {},
     "output_type": "execute_result"
    }
   ],
   "source": [
    "cd3.shape[1] # 1 will tell you each array has how may number of arrays in it"
   ]
  },
  {
   "cell_type": "code",
   "execution_count": 50,
   "id": "993f0bd9",
   "metadata": {},
   "outputs": [
    {
     "data": {
      "text/plain": [
       "3"
      ]
     },
     "execution_count": 50,
     "metadata": {},
     "output_type": "execute_result"
    }
   ],
   "source": [
    "cd3.shape[2]#2 will tell each arry has how many elemets in it"
   ]
  },
  {
   "cell_type": "code",
   "execution_count": 56,
   "id": "e868e2fb",
   "metadata": {},
   "outputs": [
    {
     "ename": "IndexError",
     "evalue": "tuple index out of range",
     "output_type": "error",
     "traceback": [
      "\u001b[1;31m---------------------------------------------------------------------------\u001b[0m",
      "\u001b[1;31mIndexError\u001b[0m                                Traceback (most recent call last)",
      "Cell \u001b[1;32mIn[56], line 1\u001b[0m\n\u001b[1;32m----> 1\u001b[0m cd3\u001b[38;5;241m.\u001b[39mshape[\u001b[38;5;241m4\u001b[39m]\n",
      "\u001b[1;31mIndexError\u001b[0m: tuple index out of range"
     ]
    }
   ],
   "source": [
    "cd3.shape[4]"
   ]
  },
  {
   "cell_type": "code",
   "execution_count": 52,
   "id": "f84e5aaf",
   "metadata": {},
   "outputs": [],
   "source": [
    "AA=np.array([2])"
   ]
  },
  {
   "cell_type": "code",
   "execution_count": 53,
   "id": "32df3045",
   "metadata": {},
   "outputs": [
    {
     "data": {
      "text/plain": [
       "1"
      ]
     },
     "execution_count": 53,
     "metadata": {},
     "output_type": "execute_result"
    }
   ],
   "source": [
    "AA.ndim"
   ]
  },
  {
   "cell_type": "code",
   "execution_count": 54,
   "id": "afd36d63",
   "metadata": {},
   "outputs": [],
   "source": [
    "BB=np.array(2)"
   ]
  },
  {
   "cell_type": "code",
   "execution_count": 55,
   "id": "0c219be7",
   "metadata": {},
   "outputs": [
    {
     "data": {
      "text/plain": [
       "0"
      ]
     },
     "execution_count": 55,
     "metadata": {},
     "output_type": "execute_result"
    }
   ],
   "source": [
    "BB.ndim"
   ]
  },
  {
   "cell_type": "code",
   "execution_count": 57,
   "id": "1a757fa8",
   "metadata": {},
   "outputs": [
    {
     "data": {
      "text/plain": [
       "18"
      ]
     },
     "execution_count": 57,
     "metadata": {},
     "output_type": "execute_result"
    }
   ],
   "source": [
    "cd3.size #total number of elemets in the whole array"
   ]
  },
  {
   "cell_type": "code",
   "execution_count": 59,
   "id": "815a95df",
   "metadata": {},
   "outputs": [
    {
     "data": {
      "text/plain": [
       "72"
      ]
     },
     "execution_count": 59,
     "metadata": {},
     "output_type": "execute_result"
    }
   ],
   "source": [
    "cd3.nbytes"
   ]
  },
  {
   "cell_type": "code",
   "execution_count": 81,
   "id": "e57db5a8",
   "metadata": {},
   "outputs": [],
   "source": [
    "AR=np.arange(100)"
   ]
  },
  {
   "cell_type": "code",
   "execution_count": 82,
   "id": "6e70dca2",
   "metadata": {},
   "outputs": [
    {
     "data": {
      "text/plain": [
       "array([ 0,  1,  2,  3,  4,  5,  6,  7,  8,  9, 10, 11, 12, 13, 14, 15, 16,\n",
       "       17, 18, 19, 20, 21, 22, 23, 24, 25, 26, 27, 28, 29, 30, 31, 32, 33,\n",
       "       34, 35, 36, 37, 38, 39, 40, 41, 42, 43, 44, 45, 46, 47, 48, 49, 50,\n",
       "       51, 52, 53, 54, 55, 56, 57, 58, 59, 60, 61, 62, 63, 64, 65, 66, 67,\n",
       "       68, 69, 70, 71, 72, 73, 74, 75, 76, 77, 78, 79, 80, 81, 82, 83, 84,\n",
       "       85, 86, 87, 88, 89, 90, 91, 92, 93, 94, 95, 96, 97, 98, 99])"
      ]
     },
     "execution_count": 82,
     "metadata": {},
     "output_type": "execute_result"
    }
   ],
   "source": [
    "AR"
   ]
  },
  {
   "cell_type": "code",
   "execution_count": 83,
   "id": "5ed5e442",
   "metadata": {},
   "outputs": [],
   "source": [
    "AR1=np.arange(20,120)"
   ]
  },
  {
   "cell_type": "code",
   "execution_count": 84,
   "id": "9d2e7f88",
   "metadata": {},
   "outputs": [
    {
     "data": {
      "text/plain": [
       "array([ 20,  21,  22,  23,  24,  25,  26,  27,  28,  29,  30,  31,  32,\n",
       "        33,  34,  35,  36,  37,  38,  39,  40,  41,  42,  43,  44,  45,\n",
       "        46,  47,  48,  49,  50,  51,  52,  53,  54,  55,  56,  57,  58,\n",
       "        59,  60,  61,  62,  63,  64,  65,  66,  67,  68,  69,  70,  71,\n",
       "        72,  73,  74,  75,  76,  77,  78,  79,  80,  81,  82,  83,  84,\n",
       "        85,  86,  87,  88,  89,  90,  91,  92,  93,  94,  95,  96,  97,\n",
       "        98,  99, 100, 101, 102, 103, 104, 105, 106, 107, 108, 109, 110,\n",
       "       111, 112, 113, 114, 115, 116, 117, 118, 119])"
      ]
     },
     "execution_count": 84,
     "metadata": {},
     "output_type": "execute_result"
    }
   ],
   "source": [
    "AR1"
   ]
  },
  {
   "cell_type": "code",
   "execution_count": 85,
   "id": "422e0e00",
   "metadata": {},
   "outputs": [],
   "source": [
    "AR2=np.arange(10,50,3) #for in in range(10,50,3)"
   ]
  },
  {
   "cell_type": "code",
   "execution_count": 86,
   "id": "bf91bdd1",
   "metadata": {},
   "outputs": [
    {
     "data": {
      "text/plain": [
       "array([10, 13, 16, 19, 22, 25, 28, 31, 34, 37, 40, 43, 46, 49])"
      ]
     },
     "execution_count": 86,
     "metadata": {},
     "output_type": "execute_result"
    }
   ],
   "source": [
    "AR2"
   ]
  },
  {
   "cell_type": "code",
   "execution_count": 87,
   "id": "07c87166",
   "metadata": {},
   "outputs": [
    {
     "name": "stdout",
     "output_type": "stream",
     "text": [
      "range(0, 10)\n"
     ]
    }
   ],
   "source": [
    "print(range(10))"
   ]
  },
  {
   "cell_type": "code",
   "execution_count": 89,
   "id": "425ca88f",
   "metadata": {},
   "outputs": [
    {
     "name": "stdout",
     "output_type": "stream",
     "text": [
      "[0, 1, 2, 3, 4, 5, 6, 7, 8, 9]\n"
     ]
    }
   ],
   "source": [
    "print(list(range(10)))"
   ]
  },
  {
   "cell_type": "code",
   "execution_count": 90,
   "id": "611e7972",
   "metadata": {},
   "outputs": [
    {
     "name": "stdout",
     "output_type": "stream",
     "text": [
      "0 1 2 3 4 5 6 7 8 9\n"
     ]
    }
   ],
   "source": [
    "print(*range(10))"
   ]
  },
  {
   "cell_type": "code",
   "execution_count": 91,
   "id": "61184474",
   "metadata": {},
   "outputs": [
    {
     "name": "stdout",
     "output_type": "stream",
     "text": [
      "[9 0 8 1 4 6 7 3 5 2]\n"
     ]
    }
   ],
   "source": [
    "E=np.random.permutation(np.arange(10)) # arranges the number 0-9 in random order\n",
    "print(E)"
   ]
  },
  {
   "cell_type": "code",
   "execution_count": 93,
   "id": "45420d39",
   "metadata": {},
   "outputs": [
    {
     "data": {
      "text/plain": [
       "21"
      ]
     },
     "execution_count": 93,
     "metadata": {},
     "output_type": "execute_result"
    }
   ],
   "source": [
    "np.random.randint(20,30) #will return any random int between 20 to 30"
   ]
  },
  {
   "cell_type": "code",
   "execution_count": 102,
   "id": "2e5d6d01",
   "metadata": {},
   "outputs": [],
   "source": [
    "R=np.random.rand(1000) #random no. between 0 and 1"
   ]
  },
  {
   "cell_type": "code",
   "execution_count": 97,
   "id": "c6f08c50",
   "metadata": {},
   "outputs": [
    {
     "data": {
      "text/plain": [
       "array([0.8013283 , 0.33253835, 0.5391986 , 0.75898946, 0.90623577,\n",
       "       0.84461994, 0.4855081 , 0.65153716, 0.7939825 , 0.99062188])"
      ]
     },
     "execution_count": 97,
     "metadata": {},
     "output_type": "execute_result"
    }
   ],
   "source": [
    "R"
   ]
  },
  {
   "cell_type": "code",
   "execution_count": 98,
   "id": "95d06e91",
   "metadata": {},
   "outputs": [],
   "source": [
    "import matplotlib.pyplot as plt"
   ]
  },
  {
   "cell_type": "code",
   "execution_count": 103,
   "id": "7e171929",
   "metadata": {},
   "outputs": [
    {
     "data": {
      "text/plain": [
       "(array([ 91., 115.,  98.,  91., 116., 118.,  89.,  90., 101.,  91.]),\n",
       " array([2.61202369e-04, 1.00174201e-01, 2.00087200e-01, 3.00000200e-01,\n",
       "        3.99913199e-01, 4.99826198e-01, 5.99739197e-01, 6.99652196e-01,\n",
       "        7.99565195e-01, 8.99478194e-01, 9.99391193e-01]),\n",
       " <BarContainer object of 10 artists>)"
      ]
     },
     "execution_count": 103,
     "metadata": {},
     "output_type": "execute_result"
    },
    {
     "data": {
      "image/png": "[encoded data removed]",
      "text/plain": [
       "<Figure size 640x480 with 1 Axes>"
      ]
     },
     "metadata": {},
     "output_type": "display_data"
    }
   ],
   "source": [
    "plt.hist(R)"
   ]
  },
  {
   "cell_type": "code",
   "execution_count": 104,
   "id": "afd351e5",
   "metadata": {},
   "outputs": [
    {
     "data": {
      "text/plain": [
       "(array([14.,  9.,  9.,  8.,  8.,  6., 10., 10.,  9.,  8., 13.,  8., 12.,\n",
       "        13., 16., 11.,  8.,  9., 16.,  9.,  8.,  5.,  7., 12., 12., 11.,\n",
       "         6., 16., 10., 11.,  9.,  6., 11., 10.,  6., 13.,  9., 14.,  6.,\n",
       "         7., 11.,  7., 13., 13., 13., 11., 11., 12., 13., 12.,  7., 19.,\n",
       "        13.,  9., 17.,  4., 13., 22.,  5.,  9., 10.,  8., 10., 12., 11.,\n",
       "         8.,  7.,  7.,  7.,  9., 10.,  8.,  8., 10., 12., 10., 10.,  6.,\n",
       "         6., 10., 15.,  3.,  8., 10., 11.,  8., 10., 11.,  9., 16., 12.,\n",
       "         6.,  5., 10., 10., 13., 10., 10., 11.,  4.]),\n",
       " array([2.61202369e-04, 1.02525023e-02, 2.02438022e-02, 3.02351021e-02,\n",
       "        4.02264020e-02, 5.02177019e-02, 6.02090018e-02, 7.02003017e-02,\n",
       "        8.01916016e-02, 9.01829015e-02, 1.00174201e-01, 1.10165501e-01,\n",
       "        1.20156801e-01, 1.30148101e-01, 1.40139401e-01, 1.50130701e-01,\n",
       "        1.60122001e-01, 1.70113301e-01, 1.80104601e-01, 1.90095901e-01,\n",
       "        2.00087200e-01, 2.10078500e-01, 2.20069800e-01, 2.30061100e-01,\n",
       "        2.40052400e-01, 2.50043700e-01, 2.60035000e-01, 2.70026300e-01,\n",
       "        2.80017600e-01, 2.90008900e-01, 3.00000200e-01, 3.09991499e-01,\n",
       "        3.19982799e-01, 3.29974099e-01, 3.39965399e-01, 3.49956699e-01,\n",
       "        3.59947999e-01, 3.69939299e-01, 3.79930599e-01, 3.89921899e-01,\n",
       "        3.99913199e-01, 4.09904499e-01, 4.19895798e-01, 4.29887098e-01,\n",
       "        4.39878398e-01, 4.49869698e-01, 4.59860998e-01, 4.69852298e-01,\n",
       "        4.79843598e-01, 4.89834898e-01, 4.99826198e-01, 5.09817498e-01,\n",
       "        5.19808797e-01, 5.29800097e-01, 5.39791397e-01, 5.49782697e-01,\n",
       "        5.59773997e-01, 5.69765297e-01, 5.79756597e-01, 5.89747897e-01,\n",
       "        5.99739197e-01, 6.09730497e-01, 6.19721797e-01, 6.29713096e-01,\n",
       "        6.39704396e-01, 6.49695696e-01, 6.59686996e-01, 6.69678296e-01,\n",
       "        6.79669596e-01, 6.89660896e-01, 6.99652196e-01, 7.09643496e-01,\n",
       "        7.19634796e-01, 7.29626096e-01, 7.39617395e-01, 7.49608695e-01,\n",
       "        7.59599995e-01, 7.69591295e-01, 7.79582595e-01, 7.89573895e-01,\n",
       "        7.99565195e-01, 8.09556495e-01, 8.19547795e-01, 8.29539095e-01,\n",
       "        8.39530394e-01, 8.49521694e-01, 8.59512994e-01, 8.69504294e-01,\n",
       "        8.79495594e-01, 8.89486894e-01, 8.99478194e-01, 9.09469494e-01,\n",
       "        9.19460794e-01, 9.29452094e-01, 9.39443394e-01, 9.49434693e-01,\n",
       "        9.59425993e-01, 9.69417293e-01, 9.79408593e-01, 9.89399893e-01,\n",
       "        9.99391193e-01]),\n",
       " <BarContainer object of 100 artists>)"
      ]
     },
     "execution_count": 104,
     "metadata": {},
     "output_type": "execute_result"
    },
    {
     "data": {
      "image/png": "[encoded data removed]",
      "text/plain": [
       "<Figure size 640x480 with 1 Axes>"
      ]
     },
     "metadata": {},
     "output_type": "display_data"
    }
   ],
   "source": [
    "plt.hist(R,bins=100)"
   ]
  },
  {
   "cell_type": "code",
   "execution_count": 105,
   "id": "335d2352",
   "metadata": {},
   "outputs": [
    {
     "data": {
      "text/plain": [
       "(array([  1.,   0.,   1.,   3.,   2.,   0.,   1.,   1.,   3.,   3.,   1.,\n",
       "          3.,   0.,   2.,   5.,   5.,   6.,   2.,   8.,   3.,   5.,   1.,\n",
       "         12.,   8.,   7.,   5.,  13.,   9.,   7.,  12.,   9.,  14.,  14.,\n",
       "         17.,  12.,  19.,  18.,  21.,  22.,  25.,  20.,  28.,  35.,  39.,\n",
       "         43.,  33.,  35.,  33.,  44.,  49.,  46.,  41.,  57.,  53.,  54.,\n",
       "         61.,  68.,  51.,  59.,  90.,  84.,  74.,  76.,  82.,  79.,  93.,\n",
       "         84.,  94.,  99., 106.,  97., 102., 118., 113., 100., 138., 133.,\n",
       "        113., 106., 124., 122., 134., 149., 134., 134., 148., 118., 144.,\n",
       "        123., 140., 141., 142., 134., 147., 151., 174., 124., 143., 129.,\n",
       "        137., 138., 141., 139., 136., 116., 132., 143., 123., 117., 111.,\n",
       "        108., 114., 120., 109., 114., 100.,  96.,  91., 106.,  85.,  84.,\n",
       "         90.,  74.,  79.,  76.,  69.,  77.,  56.,  74.,  60.,  55.,  42.,\n",
       "         60.,  36.,  41.,  51.,  42.,  42.,  32.,  27.,  39.,  34.,  28.,\n",
       "         35.,  24.,  19.,  22.,  23.,  22.,  23.,  20.,  24.,   8.,   7.,\n",
       "          8.,  13.,  11.,  12.,  14.,   5.,   8.,   6.,   6.,   7.,   7.,\n",
       "          3.,   3.,   5.,   1.,   3.,   5.,   3.,   4.,   2.,   2.,   0.,\n",
       "          4.,   2.,   1.,   0.,   2.,   0.,   0.,   2.,   1.,   1.,   0.,\n",
       "          0.,   0.,   0.,   1.,   0.,   1.,   0.,   0.,   0.,   0.,   0.,\n",
       "          0.,   1.]),\n",
       " array([-3.27587733, -3.24057516, -3.20527299, -3.16997082, -3.13466865,\n",
       "        -3.09936648, -3.0640643 , -3.02876213, -2.99345996, -2.95815779,\n",
       "        -2.92285562, -2.88755345, -2.85225128, -2.81694911, -2.78164694,\n",
       "        -2.74634477, -2.7110426 , -2.67574043, -2.64043825, -2.60513608,\n",
       "        -2.56983391, -2.53453174, -2.49922957, -2.4639274 , -2.42862523,\n",
       "        -2.39332306, -2.35802089, -2.32271872, -2.28741655, -2.25211438,\n",
       "        -2.21681221, -2.18151003, -2.14620786, -2.11090569, -2.07560352,\n",
       "        -2.04030135, -2.00499918, -1.96969701, -1.93439484, -1.89909267,\n",
       "        -1.8637905 , -1.82848833, -1.79318616, -1.75788398, -1.72258181,\n",
       "        -1.68727964, -1.65197747, -1.6166753 , -1.58137313, -1.54607096,\n",
       "        -1.51076879, -1.47546662, -1.44016445, -1.40486228, -1.36956011,\n",
       "        -1.33425794, -1.29895576, -1.26365359, -1.22835142, -1.19304925,\n",
       "        -1.15774708, -1.12244491, -1.08714274, -1.05184057, -1.0165384 ,\n",
       "        -0.98123623, -0.94593406, -0.91063189, -0.87532971, -0.84002754,\n",
       "        -0.80472537, -0.7694232 , -0.73412103, -0.69881886, -0.66351669,\n",
       "        -0.62821452, -0.59291235, -0.55761018, -0.52230801, -0.48700584,\n",
       "        -0.45170367, -0.41640149, -0.38109932, -0.34579715, -0.31049498,\n",
       "        -0.27519281, -0.23989064, -0.20458847, -0.1692863 , -0.13398413,\n",
       "        -0.09868196, -0.06337979, -0.02807762,  0.00722456,  0.04252673,\n",
       "         0.0778289 ,  0.11313107,  0.14843324,  0.18373541,  0.21903758,\n",
       "         0.25433975,  0.28964192,  0.32494409,  0.36024626,  0.39554843,\n",
       "         0.4308506 ,  0.46615278,  0.50145495,  0.53675712,  0.57205929,\n",
       "         0.60736146,  0.64266363,  0.6779658 ,  0.71326797,  0.74857014,\n",
       "         0.78387231,  0.81917448,  0.85447665,  0.88977883,  0.925081  ,\n",
       "         0.96038317,  0.99568534,  1.03098751,  1.06628968,  1.10159185,\n",
       "         1.13689402,  1.17219619,  1.20749836,  1.24280053,  1.2781027 ,\n",
       "         1.31340487,  1.34870705,  1.38400922,  1.41931139,  1.45461356,\n",
       "         1.48991573,  1.5252179 ,  1.56052007,  1.59582224,  1.63112441,\n",
       "         1.66642658,  1.70172875,  1.73703092,  1.7723331 ,  1.80763527,\n",
       "         1.84293744,  1.87823961,  1.91354178,  1.94884395,  1.98414612,\n",
       "         2.01944829,  2.05475046,  2.09005263,  2.1253548 ,  2.16065697,\n",
       "         2.19595914,  2.23126132,  2.26656349,  2.30186566,  2.33716783,\n",
       "         2.37247   ,  2.40777217,  2.44307434,  2.47837651,  2.51367868,\n",
       "         2.54898085,  2.58428302,  2.61958519,  2.65488737,  2.69018954,\n",
       "         2.72549171,  2.76079388,  2.79609605,  2.83139822,  2.86670039,\n",
       "         2.90200256,  2.93730473,  2.9726069 ,  3.00790907,  3.04321124,\n",
       "         3.07851341,  3.11381559,  3.14911776,  3.18441993,  3.2197221 ,\n",
       "         3.25502427,  3.29032644,  3.32562861,  3.36093078,  3.39623295,\n",
       "         3.43153512,  3.46683729,  3.50213946,  3.53744164,  3.57274381,\n",
       "         3.60804598,  3.64334815,  3.67865032,  3.71395249,  3.74925466,\n",
       "         3.78455683]),\n",
       " <BarContainer object of 200 artists>)"
      ]
     },
     "execution_count": 105,
     "metadata": {},
     "output_type": "execute_result"
    },
    {
     "data": {
      "image/png": "[encoded data removed]",
      "text/plain": [
       "<Figure size 640x480 with 1 Axes>"
      ]
     },
     "metadata": {},
     "output_type": "display_data"
    }
   ],
   "source": [
    "RR=np.random.randn(10000)\n",
    "plt.hist(RR,bins=200)"
   ]
  },
  {
   "cell_type": "code",
   "execution_count": 110,
   "id": "6dcc60f0",
   "metadata": {},
   "outputs": [],
   "source": [
    "RRR=np.random.rand(2,3) #created 2D array with 3 elements"
   ]
  },
  {
   "cell_type": "code",
   "execution_count": 111,
   "id": "6cbbe8ad",
   "metadata": {},
   "outputs": [
    {
     "data": {
      "text/plain": [
       "array([[0.42950471, 0.22320016, 0.97802896],\n",
       "       [0.64351834, 0.77136969, 0.51798089]])"
      ]
     },
     "execution_count": 111,
     "metadata": {},
     "output_type": "execute_result"
    }
   ],
   "source": [
    "RRR"
   ]
  },
  {
   "cell_type": "code",
   "execution_count": 112,
   "id": "2008ab87",
   "metadata": {},
   "outputs": [],
   "source": [
    "RRR1=np.random.rand(3,2) #created 3D array with 2 elements"
   ]
  },
  {
   "cell_type": "code",
   "execution_count": 113,
   "id": "3dea15a2",
   "metadata": {},
   "outputs": [
    {
     "data": {
      "text/plain": [
       "array([[0.49392526, 0.77169894],\n",
       "       [0.99719175, 0.93548174],\n",
       "       [0.21526288, 0.32947998]])"
      ]
     },
     "execution_count": 113,
     "metadata": {},
     "output_type": "execute_result"
    }
   ],
   "source": [
    "RRR1"
   ]
  },
  {
   "cell_type": "code",
   "execution_count": 123,
   "id": "4a4363af",
   "metadata": {},
   "outputs": [
    {
     "data": {
      "text/plain": [
       "2"
      ]
     },
     "execution_count": 123,
     "metadata": {},
     "output_type": "execute_result"
    }
   ],
   "source": [
    "RRR1.ndim"
   ]
  },
  {
   "cell_type": "code",
   "execution_count": 115,
   "id": "f0c27722",
   "metadata": {},
   "outputs": [
    {
     "data": {
      "text/plain": [
       "2"
      ]
     },
     "execution_count": 115,
     "metadata": {},
     "output_type": "execute_result"
    }
   ],
   "source": [
    "RRR.ndim"
   ]
  },
  {
   "cell_type": "code",
   "execution_count": 124,
   "id": "2c5ae06a",
   "metadata": {},
   "outputs": [],
   "source": [
    "RRR2=np.random.rand(2,3,4,2)#(2Darrays, 3subarrays in the 2Darray, 4 subarrays in 3arrays, 2elemsnt in each array )"
   ]
  },
  {
   "cell_type": "code",
   "execution_count": 121,
   "id": "bfc989d2",
   "metadata": {},
   "outputs": [
    {
     "data": {
      "text/plain": [
       "array([[[[0.54528706, 0.02522402],\n",
       "         [0.64696913, 0.64824196],\n",
       "         [0.77134662, 0.08021531],\n",
       "         [0.30751969, 0.29659345]],\n",
       "\n",
       "        [[0.15133329, 0.27200021],\n",
       "         [0.71297745, 0.51922851],\n",
       "         [0.60699722, 0.46128301],\n",
       "         [0.39933315, 0.74444786]],\n",
       "\n",
       "        [[0.34579184, 0.30669272],\n",
       "         [0.54498293, 0.23706256],\n",
       "         [0.82239167, 0.16583369],\n",
       "         [0.92480771, 0.79463752]]],\n",
       "\n",
       "\n",
       "       [[[0.57196291, 0.73804749],\n",
       "         [0.2819507 , 0.10298091],\n",
       "         [0.98013016, 0.6406665 ],\n",
       "         [0.83886868, 0.33646315]],\n",
       "\n",
       "        [[0.13079813, 0.82709659],\n",
       "         [0.24305652, 0.30718463],\n",
       "         [0.01715006, 0.65512226],\n",
       "         [0.53909894, 0.35443173]],\n",
       "\n",
       "        [[0.15721087, 0.2483515 ],\n",
       "         [0.15304628, 0.1139157 ],\n",
       "         [0.90725222, 0.32888768],\n",
       "         [0.76164969, 0.89316236]]]])"
      ]
     },
     "execution_count": 121,
     "metadata": {},
     "output_type": "execute_result"
    }
   ],
   "source": [
    "RRR2"
   ]
  },
  {
   "cell_type": "code",
   "execution_count": 122,
   "id": "e2425c86",
   "metadata": {},
   "outputs": [
    {
     "data": {
      "text/plain": [
       "4"
      ]
     },
     "execution_count": 122,
     "metadata": {},
     "output_type": "execute_result"
    }
   ],
   "source": [
    "RRR2.ndim"
   ]
  },
  {
   "cell_type": "code",
   "execution_count": 125,
   "id": "e86abc0b",
   "metadata": {},
   "outputs": [],
   "source": [
    "RRR3=np.random.rand(3,4,5,6) #(3(4(5(6))))"
   ]
  },
  {
   "cell_type": "code",
   "execution_count": 126,
   "id": "9f193675",
   "metadata": {},
   "outputs": [
    {
     "data": {
      "text/plain": [
       "array([[[[5.78508194e-01, 6.90494091e-01, 3.27729370e-01,\n",
       "          2.83837397e-01, 2.58826589e-01, 3.40946886e-01],\n",
       "         [3.58987141e-01, 2.38434861e-01, 1.55479162e-01,\n",
       "          4.90284451e-02, 2.54643042e-01, 2.97261731e-01],\n",
       "         [7.92181090e-01, 1.53422137e-02, 8.72374483e-01,\n",
       "          4.18708511e-01, 1.70981802e-01, 8.03123825e-01],\n",
       "         [9.17461875e-01, 1.65870554e-01, 4.44237602e-01,\n",
       "          4.75900339e-01, 3.40686092e-01, 6.78681849e-01],\n",
       "         [5.44932359e-01, 3.36685127e-01, 4.74774746e-01,\n",
       "          5.86677314e-01, 7.33098489e-01, 3.27125165e-02]],\n",
       "\n",
       "        [[6.57867777e-01, 3.70413452e-01, 1.63599292e-01,\n",
       "          8.82138793e-01, 4.78238282e-01, 8.88314888e-01],\n",
       "         [1.88751673e-01, 2.67273305e-01, 6.82126068e-01,\n",
       "          7.03056440e-01, 9.08330966e-01, 1.76629396e-01],\n",
       "         [9.01066252e-01, 9.78281734e-01, 5.31870760e-01,\n",
       "          2.33753724e-01, 9.74839773e-01, 9.73259228e-01],\n",
       "         [2.92708260e-01, 6.95343492e-01, 3.98401404e-01,\n",
       "          9.35492341e-01, 5.38716573e-03, 6.45977676e-01],\n",
       "         [6.44328029e-05, 7.52113482e-01, 2.68127134e-03,\n",
       "          9.41805795e-01, 4.28128415e-01, 7.67920143e-01]],\n",
       "\n",
       "        [[9.94672240e-02, 9.71106730e-01, 6.53643206e-01,\n",
       "          2.74139373e-01, 9.32039250e-01, 3.49244817e-01],\n",
       "         [5.80435508e-02, 5.73057522e-01, 6.94951784e-01,\n",
       "          7.16687304e-01, 6.38230927e-01, 1.02865245e-01],\n",
       "         [3.59210452e-01, 6.76374089e-01, 7.87290546e-01,\n",
       "          8.96455216e-02, 2.46728328e-02, 7.82709663e-02],\n",
       "         [7.37245963e-01, 1.06003088e-01, 2.57942713e-01,\n",
       "          2.51350581e-02, 4.36147818e-01, 8.62753031e-01],\n",
       "         [9.95196281e-01, 3.36737026e-01, 4.58405345e-01,\n",
       "          8.44336874e-01, 2.64212606e-01, 3.82341602e-01]],\n",
       "\n",
       "        [[5.76832497e-01, 8.35764581e-01, 2.71821978e-01,\n",
       "          7.15462458e-01, 5.39479691e-01, 4.73143827e-01],\n",
       "         [7.46559072e-01, 3.59856559e-01, 5.46401186e-01,\n",
       "          3.85485217e-01, 3.16882287e-01, 4.16981212e-01],\n",
       "         [4.48955117e-01, 2.00309318e-01, 7.42997916e-01,\n",
       "          8.42018958e-01, 4.46360846e-01, 3.65241897e-01],\n",
       "         [9.94977440e-01, 3.11650865e-01, 5.12534100e-01,\n",
       "          2.52591861e-01, 7.48593406e-01, 2.74422093e-01],\n",
       "         [8.98542598e-01, 7.49607976e-01, 8.09026645e-01,\n",
       "          7.76428662e-01, 4.61472378e-01, 1.18902232e-01]]],\n",
       "\n",
       "\n",
       "       [[[3.94073576e-01, 5.92566112e-01, 1.16775812e-01,\n",
       "          8.23285684e-01, 5.52913081e-01, 3.75013686e-01],\n",
       "         [3.43632926e-01, 5.50424103e-01, 6.52375058e-02,\n",
       "          1.32818040e-01, 9.37185397e-01, 9.61895138e-01],\n",
       "         [5.90730625e-01, 9.91222867e-02, 5.69973487e-01,\n",
       "          8.28179494e-01, 3.54311934e-01, 3.73332026e-01],\n",
       "         [5.75852100e-01, 7.65379027e-01, 9.75433138e-01,\n",
       "          6.47021547e-01, 3.14837410e-01, 1.81306867e-02],\n",
       "         [8.77291667e-01, 4.27434135e-01, 7.46048228e-01,\n",
       "          1.94610229e-01, 4.59406431e-01, 8.12808074e-01]],\n",
       "\n",
       "        [[2.97900342e-01, 5.53464561e-01, 6.42592581e-01,\n",
       "          1.70286213e-01, 9.99368213e-02, 4.54509065e-01],\n",
       "         [5.58748329e-01, 3.01578982e-01, 8.43776090e-01,\n",
       "          6.99202290e-01, 6.75780379e-01, 7.75261600e-01],\n",
       "         [3.96458670e-01, 4.59583576e-01, 8.78452613e-01,\n",
       "          2.64594981e-01, 8.32127674e-01, 9.38385889e-01],\n",
       "         [7.86842208e-01, 9.28658226e-01, 8.29390940e-01,\n",
       "          4.91128692e-01, 6.35627656e-01, 6.52099736e-01],\n",
       "         [6.73177140e-01, 9.42455070e-01, 1.54454557e-01,\n",
       "          2.97339696e-01, 7.05331492e-01, 2.90616900e-01]],\n",
       "\n",
       "        [[5.88705622e-01, 6.48732856e-01, 5.36261691e-01,\n",
       "          5.76805716e-01, 2.74613514e-02, 7.03255305e-02],\n",
       "         [7.66109215e-01, 8.58453841e-01, 7.44484968e-02,\n",
       "          1.35628874e-01, 8.75208978e-01, 3.01988586e-01],\n",
       "         [1.91769680e-01, 2.82216547e-01, 1.13235425e-01,\n",
       "          6.23353332e-01, 7.52548734e-01, 2.81089052e-01],\n",
       "         [6.08627037e-01, 6.18588884e-01, 2.58333907e-01,\n",
       "          9.80246350e-01, 6.41979179e-01, 7.11320309e-01],\n",
       "         [4.97047125e-02, 7.88703104e-02, 1.48444475e-01,\n",
       "          7.92776880e-01, 9.23980303e-01, 7.95870033e-01]],\n",
       "\n",
       "        [[7.30974867e-01, 5.27209462e-01, 8.84419643e-01,\n",
       "          1.26499302e-01, 8.46026853e-01, 6.30882935e-01],\n",
       "         [4.46122874e-01, 4.13131120e-01, 1.54583334e-01,\n",
       "          4.72040202e-01, 3.55764701e-01, 7.32835261e-01],\n",
       "         [2.37467701e-01, 4.12899752e-01, 9.80150755e-01,\n",
       "          5.54204902e-01, 7.99782461e-01, 9.32855619e-01],\n",
       "         [3.11598704e-01, 7.32653612e-01, 7.23157957e-01,\n",
       "          2.31364807e-01, 7.45925496e-01, 9.99420095e-01],\n",
       "         [9.19586140e-01, 3.22903326e-01, 2.49335621e-01,\n",
       "          5.19033231e-02, 7.74201894e-01, 9.98186847e-01]]],\n",
       "\n",
       "\n",
       "       [[[6.26497419e-01, 1.21627512e-01, 6.64721486e-01,\n",
       "          5.56314894e-01, 5.50250508e-02, 3.08136191e-01],\n",
       "         [5.53801562e-02, 3.27195687e-01, 3.90834517e-01,\n",
       "          9.48585328e-01, 1.03754115e-01, 4.43336949e-01],\n",
       "         [6.22545224e-01, 2.87461491e-01, 8.87157739e-01,\n",
       "          4.56222148e-02, 7.53868134e-01, 5.54006067e-01],\n",
       "         [5.91674814e-01, 5.02517339e-01, 8.18374620e-01,\n",
       "          1.38621204e-01, 9.02056639e-01, 5.47012017e-01],\n",
       "         [8.73998170e-01, 4.66500368e-01, 6.70693365e-01,\n",
       "          1.28787907e-02, 1.99494781e-01, 1.78227169e-01]],\n",
       "\n",
       "        [[6.84938680e-01, 3.02270066e-01, 2.25621232e-01,\n",
       "          1.17100320e-01, 9.59692129e-01, 7.99703187e-01],\n",
       "         [7.98616273e-01, 8.66774294e-01, 9.92723956e-01,\n",
       "          5.24408638e-02, 3.67124162e-01, 4.51058661e-01],\n",
       "         [8.31066998e-01, 4.67652810e-01, 9.52909276e-01,\n",
       "          4.25437581e-01, 4.52016662e-01, 6.36313889e-01],\n",
       "         [4.77950037e-01, 4.18636373e-02, 9.96297916e-01,\n",
       "          7.51050894e-01, 3.98334131e-01, 8.18965131e-01],\n",
       "         [2.32298346e-01, 9.85213790e-01, 6.25091696e-01,\n",
       "          8.26428634e-02, 2.98037982e-02, 6.15913020e-01]],\n",
       "\n",
       "        [[5.51878976e-01, 5.02052655e-01, 2.16412896e-03,\n",
       "          7.01879016e-01, 6.11445241e-02, 4.95911210e-02],\n",
       "         [3.81487678e-02, 3.73151669e-02, 9.44596742e-01,\n",
       "          5.00553144e-01, 1.82505672e-01, 5.70968771e-01],\n",
       "         [3.36851694e-01, 3.06724663e-01, 6.93983145e-01,\n",
       "          2.14113208e-01, 4.52508911e-01, 8.69829155e-02],\n",
       "         [9.91284613e-01, 9.45610991e-01, 5.40435053e-01,\n",
       "          6.22322293e-01, 4.15745071e-03, 6.32651373e-01],\n",
       "         [6.67983147e-01, 2.83439580e-01, 4.65611620e-01,\n",
       "          5.23224849e-02, 2.30270809e-01, 9.68172076e-02]],\n",
       "\n",
       "        [[8.51418202e-01, 3.20164977e-01, 9.10693601e-01,\n",
       "          4.22993755e-01, 1.42429151e-01, 6.00960213e-01],\n",
       "         [2.11678202e-01, 4.53489996e-01, 4.44837109e-01,\n",
       "          6.16166120e-01, 4.36910264e-02, 4.96825174e-01],\n",
       "         [2.80503941e-01, 6.35098181e-01, 4.12271315e-02,\n",
       "          6.10766180e-01, 7.89735577e-01, 8.42495145e-03],\n",
       "         [7.65127485e-01, 6.67633297e-01, 3.72177464e-01,\n",
       "          3.44512696e-01, 5.13046873e-02, 5.97301995e-01],\n",
       "         [1.49552516e-02, 6.15443567e-01, 9.08625524e-01,\n",
       "          7.64724919e-01, 5.65356471e-01, 9.18776927e-01]]]])"
      ]
     },
     "execution_count": 126,
     "metadata": {},
     "output_type": "execute_result"
    }
   ],
   "source": [
    "RRR3"
   ]
  },
  {
   "cell_type": "code",
   "execution_count": 127,
   "id": "f64cb0d4",
   "metadata": {},
   "outputs": [],
   "source": [
    "DD=np.arange(100).reshape(4,25)"
   ]
  },
  {
   "cell_type": "code",
   "execution_count": 128,
   "id": "b5201e3c",
   "metadata": {},
   "outputs": [
    {
     "data": {
      "text/plain": [
       "(4, 25)"
      ]
     },
     "execution_count": 128,
     "metadata": {},
     "output_type": "execute_result"
    }
   ],
   "source": [
    "DD.shape"
   ]
  },
  {
   "cell_type": "code",
   "execution_count": 130,
   "id": "7df2259c",
   "metadata": {},
   "outputs": [],
   "source": [
    "DD=np.arange(100).reshape(4,5,5)"
   ]
  },
  {
   "cell_type": "code",
   "execution_count": 131,
   "id": "239b324c",
   "metadata": {},
   "outputs": [
    {
     "data": {
      "text/plain": [
       "(4, 5, 5)"
      ]
     },
     "execution_count": 131,
     "metadata": {},
     "output_type": "execute_result"
    }
   ],
   "source": [
    "DD.shape"
   ]
  },
  {
   "cell_type": "code",
   "execution_count": 133,
   "id": "0c024288",
   "metadata": {},
   "outputs": [
    {
     "data": {
      "text/plain": [
       "array([[[ 0,  1,  2,  3,  4],\n",
       "        [ 5,  6,  7,  8,  9],\n",
       "        [10, 11, 12, 13, 14],\n",
       "        [15, 16, 17, 18, 19],\n",
       "        [20, 21, 22, 23, 24]],\n",
       "\n",
       "       [[25, 26, 27, 28, 29],\n",
       "        [30, 31, 32, 33, 34],\n",
       "        [35, 36, 37, 38, 39],\n",
       "        [40, 41, 42, 43, 44],\n",
       "        [45, 46, 47, 48, 49]],\n",
       "\n",
       "       [[50, 51, 52, 53, 54],\n",
       "        [55, 56, 57, 58, 59],\n",
       "        [60, 61, 62, 63, 64],\n",
       "        [65, 66, 67, 68, 69],\n",
       "        [70, 71, 72, 73, 74]],\n",
       "\n",
       "       [[75, 76, 77, 78, 79],\n",
       "        [80, 81, 82, 83, 84],\n",
       "        [85, 86, 87, 88, 89],\n",
       "        [90, 91, 92, 93, 94],\n",
       "        [95, 96, 97, 98, 99]]])"
      ]
     },
     "execution_count": 133,
     "metadata": {},
     "output_type": "execute_result"
    }
   ],
   "source": [
    "DD"
   ]
  },
  {
   "cell_type": "code",
   "execution_count": 137,
   "id": "390fd11d",
   "metadata": {},
   "outputs": [
    {
     "data": {
      "text/plain": [
       "array([0, 0, 0])"
      ]
     },
     "execution_count": 137,
     "metadata": {},
     "output_type": "execute_result"
    }
   ],
   "source": [
    "np.zeros(3,int)"
   ]
  },
  {
   "cell_type": "code",
   "execution_count": 142,
   "id": "948a49ba",
   "metadata": {},
   "outputs": [
    {
     "data": {
      "text/plain": [
       "array([0., 0., 0.])"
      ]
     },
     "execution_count": 142,
     "metadata": {},
     "output_type": "execute_result"
    }
   ],
   "source": [
    "np.zeros(3)"
   ]
  },
  {
   "cell_type": "code",
   "execution_count": 143,
   "id": "3f33bd5a",
   "metadata": {},
   "outputs": [
    {
     "data": {
      "text/plain": [
       "array([[0., 0.],\n",
       "       [0., 0.],\n",
       "       [0., 0.]])"
      ]
     },
     "execution_count": 143,
     "metadata": {},
     "output_type": "execute_result"
    }
   ],
   "source": [
    "np.zeros((3,2))"
   ]
  },
  {
   "cell_type": "code",
   "execution_count": 144,
   "id": "c25d84aa",
   "metadata": {},
   "outputs": [
    {
     "data": {
      "text/plain": [
       "array([1, 1, 1, 1])"
      ]
     },
     "execution_count": 144,
     "metadata": {},
     "output_type": "execute_result"
    }
   ],
   "source": [
    "np.ones(4,int)"
   ]
  },
  {
   "cell_type": "code",
   "execution_count": 145,
   "id": "5c52137d",
   "metadata": {},
   "outputs": [
    {
     "data": {
      "text/plain": [
       "array([1., 1., 1., 1., 1., 1.])"
      ]
     },
     "execution_count": 145,
     "metadata": {},
     "output_type": "execute_result"
    }
   ],
   "source": [
    "np.ones(6)"
   ]
  },
  {
   "cell_type": "code",
   "execution_count": 146,
   "id": "136612cd",
   "metadata": {},
   "outputs": [
    {
     "data": {
      "text/plain": [
       "array([[1., 1., 1., 1., 1., 1., 1., 1.],\n",
       "       [1., 1., 1., 1., 1., 1., 1., 1.],\n",
       "       [1., 1., 1., 1., 1., 1., 1., 1.],\n",
       "       [1., 1., 1., 1., 1., 1., 1., 1.],\n",
       "       [1., 1., 1., 1., 1., 1., 1., 1.],\n",
       "       [1., 1., 1., 1., 1., 1., 1., 1.]])"
      ]
     },
     "execution_count": 146,
     "metadata": {},
     "output_type": "execute_result"
    }
   ],
   "source": [
    "np.ones((6,8))"
   ]
  },
  {
   "cell_type": "code",
   "execution_count": 147,
   "id": "b022f2ad",
   "metadata": {},
   "outputs": [
    {
     "data": {
      "text/plain": [
       "array([1., 1., 1., 1., 1.])"
      ]
     },
     "execution_count": 147,
     "metadata": {},
     "output_type": "execute_result"
    }
   ],
   "source": [
    "np.ones(5)#5elemets"
   ]
  },
  {
   "cell_type": "code",
   "execution_count": 148,
   "id": "fd98b959",
   "metadata": {},
   "outputs": [
    {
     "data": {
      "text/plain": [
       "array([[1, 1, 1, 1, 1],\n",
       "       [1, 1, 1, 1, 1],\n",
       "       [1, 1, 1, 1, 1],\n",
       "       [1, 1, 1, 1, 1]])"
      ]
     },
     "execution_count": 148,
     "metadata": {},
     "output_type": "execute_result"
    }
   ],
   "source": [
    "np.ones((4,5),int)#4arrays of 5elemets"
   ]
  },
  {
   "cell_type": "code",
   "execution_count": 149,
   "id": "7f6de7a0",
   "metadata": {},
   "outputs": [
    {
     "data": {
      "text/plain": [
       "array([[[1, 1, 1, 1, 1],\n",
       "        [1, 1, 1, 1, 1],\n",
       "        [1, 1, 1, 1, 1],\n",
       "        [1, 1, 1, 1, 1]],\n",
       "\n",
       "       [[1, 1, 1, 1, 1],\n",
       "        [1, 1, 1, 1, 1],\n",
       "        [1, 1, 1, 1, 1],\n",
       "        [1, 1, 1, 1, 1]],\n",
       "\n",
       "       [[1, 1, 1, 1, 1],\n",
       "        [1, 1, 1, 1, 1],\n",
       "        [1, 1, 1, 1, 1],\n",
       "        [1, 1, 1, 1, 1]]])"
      ]
     },
     "execution_count": 149,
     "metadata": {},
     "output_type": "execute_result"
    }
   ],
   "source": [
    "np.ones((3,4,5),int)#3d array of 4arrays with 5 elemets"
   ]
  },
  {
   "cell_type": "code",
   "execution_count": 150,
   "id": "3824a955",
   "metadata": {},
   "outputs": [
    {
     "data": {
      "text/plain": [
       "array([[[[1, 1, 1, 1, 1],\n",
       "         [1, 1, 1, 1, 1],\n",
       "         [1, 1, 1, 1, 1],\n",
       "         [1, 1, 1, 1, 1]],\n",
       "\n",
       "        [[1, 1, 1, 1, 1],\n",
       "         [1, 1, 1, 1, 1],\n",
       "         [1, 1, 1, 1, 1],\n",
       "         [1, 1, 1, 1, 1]],\n",
       "\n",
       "        [[1, 1, 1, 1, 1],\n",
       "         [1, 1, 1, 1, 1],\n",
       "         [1, 1, 1, 1, 1],\n",
       "         [1, 1, 1, 1, 1]]],\n",
       "\n",
       "\n",
       "       [[[1, 1, 1, 1, 1],\n",
       "         [1, 1, 1, 1, 1],\n",
       "         [1, 1, 1, 1, 1],\n",
       "         [1, 1, 1, 1, 1]],\n",
       "\n",
       "        [[1, 1, 1, 1, 1],\n",
       "         [1, 1, 1, 1, 1],\n",
       "         [1, 1, 1, 1, 1],\n",
       "         [1, 1, 1, 1, 1]],\n",
       "\n",
       "        [[1, 1, 1, 1, 1],\n",
       "         [1, 1, 1, 1, 1],\n",
       "         [1, 1, 1, 1, 1],\n",
       "         [1, 1, 1, 1, 1]]]])"
      ]
     },
     "execution_count": 150,
     "metadata": {},
     "output_type": "execute_result"
    }
   ],
   "source": [
    "np.ones((2,3,4,5),int)#3d array of 4arrays with 5 elemets"
   ]
  },
  {
   "cell_type": "code",
   "execution_count": 156,
   "id": "3d14fe9a",
   "metadata": {},
   "outputs": [],
   "source": [
    "NS=np.arange(100)"
   ]
  },
  {
   "cell_type": "code",
   "execution_count": 157,
   "id": "fb97103f",
   "metadata": {},
   "outputs": [
    {
     "name": "stdout",
     "output_type": "stream",
     "text": [
      "[3 4 5 6 7 8 9]\n"
     ]
    }
   ],
   "source": [
    "ns=NS[3:10] #no copy is created it both referse to the same data address ns is a view to same array NS\n",
    "print(ns)"
   ]
  },
  {
   "cell_type": "code",
   "execution_count": 158,
   "id": "f9d76a91",
   "metadata": {},
   "outputs": [],
   "source": [
    "ns[0]=-45 #NS is also changed"
   ]
  },
  {
   "cell_type": "code",
   "execution_count": 159,
   "id": "b9d9b7ff",
   "metadata": {},
   "outputs": [
    {
     "data": {
      "text/plain": [
       "array([  0,   1,   2, -45,   4,   5,   6,   7,   8,   9,  10,  11,  12,\n",
       "        13,  14,  15,  16,  17,  18,  19,  20,  21,  22,  23,  24,  25,\n",
       "        26,  27,  28,  29,  30,  31,  32,  33,  34,  35,  36,  37,  38,\n",
       "        39,  40,  41,  42,  43,  44,  45,  46,  47,  48,  49,  50,  51,\n",
       "        52,  53,  54,  55,  56,  57,  58,  59,  60,  61,  62,  63,  64,\n",
       "        65,  66,  67,  68,  69,  70,  71,  72,  73,  74,  75,  76,  77,\n",
       "        78,  79,  80,  81,  82,  83,  84,  85,  86,  87,  88,  89,  90,\n",
       "        91,  92,  93,  94,  95,  96,  97,  98,  99])"
      ]
     },
     "execution_count": 159,
     "metadata": {},
     "output_type": "execute_result"
    }
   ],
   "source": [
    "NS"
   ]
  },
  {
   "cell_type": "code",
   "execution_count": 163,
   "id": "105bb55f",
   "metadata": {},
   "outputs": [],
   "source": [
    "ns1=NS[10:20].copy() #will created seperate copy then NS"
   ]
  },
  {
   "cell_type": "code",
   "execution_count": 164,
   "id": "7d6aa0da",
   "metadata": {},
   "outputs": [
    {
     "data": {
      "text/plain": [
       "array([10, 11, 12, 13, 14, 15, 16, 17, 18, 19])"
      ]
     },
     "execution_count": 164,
     "metadata": {},
     "output_type": "execute_result"
    }
   ],
   "source": [
    "ns1"
   ]
  },
  {
   "cell_type": "code",
   "execution_count": 165,
   "id": "233d0db8",
   "metadata": {},
   "outputs": [],
   "source": [
    "ns1[2]=-12 # this change will not be reflected in NS"
   ]
  },
  {
   "cell_type": "code",
   "execution_count": 166,
   "id": "449852ac",
   "metadata": {},
   "outputs": [
    {
     "data": {
      "text/plain": [
       "array([ 10,  11, -12,  13,  14,  15,  16,  17,  18,  19])"
      ]
     },
     "execution_count": 166,
     "metadata": {},
     "output_type": "execute_result"
    }
   ],
   "source": [
    "ns1"
   ]
  },
  {
   "cell_type": "code",
   "execution_count": 167,
   "id": "12a4b617",
   "metadata": {},
   "outputs": [
    {
     "data": {
      "text/plain": [
       "array([  0,   1,   2, -45,   4,   5,   6,   7,   8,   9,  10,  11,  12,\n",
       "        13,  14,  15,  16,  17,  18,  19,  20,  21,  22,  23,  24,  25,\n",
       "        26,  27,  28,  29,  30,  31,  32,  33,  34,  35,  36,  37,  38,\n",
       "        39,  40,  41,  42,  43,  44,  45,  46,  47,  48,  49,  50,  51,\n",
       "        52,  53,  54,  55,  56,  57,  58,  59,  60,  61,  62,  63,  64,\n",
       "        65,  66,  67,  68,  69,  70,  71,  72,  73,  74,  75,  76,  77,\n",
       "        78,  79,  80,  81,  82,  83,  84,  85,  86,  87,  88,  89,  90,\n",
       "        91,  92,  93,  94,  95,  96,  97,  98,  99])"
      ]
     },
     "execution_count": 167,
     "metadata": {},
     "output_type": "execute_result"
    }
   ],
   "source": [
    "NS"
   ]
  },
  {
   "cell_type": "code",
   "execution_count": 168,
   "id": "306d2426",
   "metadata": {},
   "outputs": [],
   "source": [
    "# to get index of a particuler element in a array\n",
    "index=np.argwhere(NS==-45)"
   ]
  },
  {
   "cell_type": "code",
   "execution_count": 169,
   "id": "ad1a1e29",
   "metadata": {},
   "outputs": [
    {
     "data": {
      "text/plain": [
       "array([[3]], dtype=int64)"
      ]
     },
     "execution_count": 169,
     "metadata": {},
     "output_type": "execute_result"
    }
   ],
   "source": [
    "index"
   ]
  },
  {
   "cell_type": "code",
   "execution_count": 170,
   "id": "68059793",
   "metadata": {},
   "outputs": [],
   "source": [
    "index=np.argwhere(NS==-45)[0][0]"
   ]
  },
  {
   "cell_type": "code",
   "execution_count": 171,
   "id": "32cf9ec6",
   "metadata": {},
   "outputs": [
    {
     "data": {
      "text/plain": [
       "3"
      ]
     },
     "execution_count": 171,
     "metadata": {},
     "output_type": "execute_result"
    }
   ],
   "source": [
    "index"
   ]
  },
  {
   "cell_type": "code",
   "execution_count": 172,
   "id": "bd889d55",
   "metadata": {},
   "outputs": [],
   "source": [
    "NS[index]=3"
   ]
  },
  {
   "cell_type": "code",
   "execution_count": 173,
   "id": "31021e99",
   "metadata": {},
   "outputs": [
    {
     "data": {
      "text/plain": [
       "array([ 0,  1,  2,  3,  4,  5,  6,  7,  8,  9, 10, 11, 12, 13, 14, 15, 16,\n",
       "       17, 18, 19, 20, 21, 22, 23, 24, 25, 26, 27, 28, 29, 30, 31, 32, 33,\n",
       "       34, 35, 36, 37, 38, 39, 40, 41, 42, 43, 44, 45, 46, 47, 48, 49, 50,\n",
       "       51, 52, 53, 54, 55, 56, 57, 58, 59, 60, 61, 62, 63, 64, 65, 66, 67,\n",
       "       68, 69, 70, 71, 72, 73, 74, 75, 76, 77, 78, 79, 80, 81, 82, 83, 84,\n",
       "       85, 86, 87, 88, 89, 90, 91, 92, 93, 94, 95, 96, 97, 98, 99])"
      ]
     },
     "execution_count": 173,
     "metadata": {},
     "output_type": "execute_result"
    }
   ],
   "source": [
    "NS"
   ]
  },
  {
   "cell_type": "code",
   "execution_count": 174,
   "id": "b99d9a04",
   "metadata": {},
   "outputs": [
    {
     "data": {
      "text/plain": [
       "array([3, 4, 5, 6, 7, 8, 9])"
      ]
     },
     "execution_count": 174,
     "metadata": {},
     "output_type": "execute_result"
    }
   ],
   "source": [
    "ns"
   ]
  },
  {
   "cell_type": "code",
   "execution_count": 175,
   "id": "55ca2c98",
   "metadata": {},
   "outputs": [],
   "source": [
    "T=np.round(10*np.random.rand(5,4)) #* by 10 and then rount it"
   ]
  },
  {
   "cell_type": "code",
   "execution_count": 176,
   "id": "bfea1291",
   "metadata": {},
   "outputs": [
    {
     "data": {
      "text/plain": [
       "array([[ 5.,  4.,  2.,  4.],\n",
       "       [ 3.,  1.,  3.,  9.],\n",
       "       [ 9.,  1.,  6.,  4.],\n",
       "       [ 4.,  3., 10.,  4.],\n",
       "       [10.,  2.,  3.,  5.]])"
      ]
     },
     "execution_count": 176,
     "metadata": {},
     "output_type": "execute_result"
    }
   ],
   "source": [
    "T"
   ]
  },
  {
   "cell_type": "code",
   "execution_count": 178,
   "id": "7ed56580",
   "metadata": {},
   "outputs": [
    {
     "data": {
      "text/plain": [
       "6.0"
      ]
     },
     "execution_count": 178,
     "metadata": {},
     "output_type": "execute_result"
    }
   ],
   "source": [
    "T[2,2]"
   ]
  },
  {
   "cell_type": "code",
   "execution_count": 187,
   "id": "fad9f4c3",
   "metadata": {},
   "outputs": [
    {
     "data": {
      "text/plain": [
       "array([[ 9.,  1.,  6.,  4.],\n",
       "       [ 4.,  3., 10.,  4.],\n",
       "       [10.,  2.,  3.,  5.]])"
      ]
     },
     "execution_count": 187,
     "metadata": {},
     "output_type": "execute_result"
    }
   ],
   "source": [
    "T[2:]"
   ]
  },
  {
   "cell_type": "code",
   "execution_count": 189,
   "id": "7ec1bed3",
   "metadata": {},
   "outputs": [
    {
     "data": {
      "text/plain": [
       "array([[5., 4., 2., 4.],\n",
       "       [3., 1., 3., 9.],\n",
       "       [9., 1., 6., 4.]])"
      ]
     },
     "execution_count": 189,
     "metadata": {},
     "output_type": "execute_result"
    }
   ],
   "source": [
    "T[:3]"
   ]
  },
  {
   "cell_type": "code",
   "execution_count": 188,
   "id": "d78f1fc8",
   "metadata": {},
   "outputs": [
    {
     "data": {
      "text/plain": [
       "array([9., 1., 6., 4.])"
      ]
     },
     "execution_count": 188,
     "metadata": {},
     "output_type": "execute_result"
    }
   ],
   "source": [
    "T[2,:] #the whole 2nd row only"
   ]
  },
  {
   "cell_type": "code",
   "execution_count": 197,
   "id": "f0087abe",
   "metadata": {},
   "outputs": [
    {
     "data": {
      "text/plain": [
       "array([4., 9., 4., 4., 5.])"
      ]
     },
     "execution_count": 197,
     "metadata": {},
     "output_type": "execute_result"
    }
   ],
   "source": [
    "T[:,3]# the whole 3rd column only"
   ]
  },
  {
   "cell_type": "code",
   "execution_count": 195,
   "id": "9da58da7",
   "metadata": {},
   "outputs": [
    {
     "data": {
      "text/plain": [
       "array([[3., 9.],\n",
       "       [6., 4.]])"
      ]
     },
     "execution_count": 195,
     "metadata": {},
     "output_type": "execute_result"
    }
   ],
   "source": [
    "T[1:3,2:4]# to pick sub columns"
   ]
  },
  {
   "cell_type": "code",
   "execution_count": 196,
   "id": "897215b5",
   "metadata": {},
   "outputs": [
    {
     "data": {
      "text/plain": [
       "array([[ 5.,  3.,  9.,  4., 10.],\n",
       "       [ 4.,  1.,  1.,  3.,  2.],\n",
       "       [ 2.,  3.,  6., 10.,  3.],\n",
       "       [ 4.,  9.,  4.,  4.,  5.]])"
      ]
     },
     "execution_count": 196,
     "metadata": {},
     "output_type": "execute_result"
    }
   ],
   "source": [
    "T.T #T is for transporse conver rows o columns"
   ]
  },
  {
   "cell_type": "code",
   "execution_count": 198,
   "id": "fe69121d",
   "metadata": {},
   "outputs": [],
   "source": [
    "import numpy.linalg as la"
   ]
  },
  {
   "cell_type": "code",
   "execution_count": 199,
   "id": "56cf3bd6",
   "metadata": {},
   "outputs": [
    {
     "data": {
      "text/plain": [
       "array([[ 12.08642326, -10.03299925,  -9.99249455],\n",
       "       [ -0.45121334,  -2.74289848,   1.84717033],\n",
       "       [ -8.32725111,  11.59486957,   6.45379668]])"
      ]
     },
     "execution_count": 199,
     "metadata": {},
     "output_type": "execute_result"
    }
   ],
   "source": [
    "la.inv(np.random.rand(3,3))"
   ]
  },
  {
   "cell_type": "code",
   "execution_count": 200,
   "id": "80ca6947",
   "metadata": {},
   "outputs": [],
   "source": [
    "T.sort(axis=1) #Ascending"
   ]
  },
  {
   "cell_type": "code",
   "execution_count": 201,
   "id": "53b8382b",
   "metadata": {},
   "outputs": [
    {
     "data": {
      "text/plain": [
       "array([[ 2.,  4.,  4.,  5.],\n",
       "       [ 1.,  3.,  3.,  9.],\n",
       "       [ 1.,  4.,  6.,  9.],\n",
       "       [ 3.,  4.,  4., 10.],\n",
       "       [ 2.,  3.,  5., 10.]])"
      ]
     },
     "execution_count": 201,
     "metadata": {},
     "output_type": "execute_result"
    }
   ],
   "source": [
    "T"
   ]
  },
  {
   "cell_type": "code",
   "execution_count": 206,
   "id": "b07ad9c2",
   "metadata": {},
   "outputs": [],
   "source": [
    "A=np.arange(100)"
   ]
  },
  {
   "cell_type": "code",
   "execution_count": 207,
   "id": "ff410f44",
   "metadata": {},
   "outputs": [
    {
     "data": {
      "text/plain": [
       "array([ 0,  1,  2,  3,  4,  5,  6,  7,  8,  9, 10, 11, 12, 13, 14, 15, 16,\n",
       "       17, 18, 19, 20, 21, 22, 23, 24, 25, 26, 27, 28, 29, 30, 31, 32, 33,\n",
       "       34, 35, 36, 37, 38, 39, 40, 41, 42, 43, 44, 45, 46, 47, 48, 49, 50,\n",
       "       51, 52, 53, 54, 55, 56, 57, 58, 59, 60, 61, 62, 63, 64, 65, 66, 67,\n",
       "       68, 69, 70, 71, 72, 73, 74, 75, 76, 77, 78, 79, 80, 81, 82, 83, 84,\n",
       "       85, 86, 87, 88, 89, 90, 91, 92, 93, 94, 95, 96, 97, 98, 99])"
      ]
     },
     "execution_count": 207,
     "metadata": {},
     "output_type": "execute_result"
    }
   ],
   "source": [
    "A"
   ]
  },
  {
   "cell_type": "code",
   "execution_count": 208,
   "id": "7c074d03",
   "metadata": {},
   "outputs": [],
   "source": [
    "B=A[[5,9,8,12,78,54,99]] #Get only the given index values"
   ]
  },
  {
   "cell_type": "code",
   "execution_count": 209,
   "id": "42b5fc6c",
   "metadata": {},
   "outputs": [
    {
     "data": {
      "text/plain": [
       "array([ 5,  9,  8, 12, 78, 54, 99])"
      ]
     },
     "execution_count": 209,
     "metadata": {},
     "output_type": "execute_result"
    }
   ],
   "source": [
    "B"
   ]
  },
  {
   "cell_type": "code",
   "execution_count": 210,
   "id": "bfc5797a",
   "metadata": {},
   "outputs": [],
   "source": [
    "B[3]=-9090"
   ]
  },
  {
   "cell_type": "code",
   "execution_count": 213,
   "id": "794a1c56",
   "metadata": {},
   "outputs": [
    {
     "data": {
      "text/plain": [
       "array([    5,     9,     8, -9090,    78,    54,    99])"
      ]
     },
     "execution_count": 213,
     "metadata": {},
     "output_type": "execute_result"
    }
   ],
   "source": [
    "B# this is not like B[4:5] where it referes the same array. Here by default different copy is created so A will not be changed"
   ]
  },
  {
   "cell_type": "code",
   "execution_count": 212,
   "id": "762d73a2",
   "metadata": {},
   "outputs": [
    {
     "data": {
      "text/plain": [
       "array([ 0,  1,  2,  3,  4,  5,  6,  7,  8,  9, 10, 11, 12, 13, 14, 15, 16,\n",
       "       17, 18, 19, 20, 21, 22, 23, 24, 25, 26, 27, 28, 29, 30, 31, 32, 33,\n",
       "       34, 35, 36, 37, 38, 39, 40, 41, 42, 43, 44, 45, 46, 47, 48, 49, 50,\n",
       "       51, 52, 53, 54, 55, 56, 57, 58, 59, 60, 61, 62, 63, 64, 65, 66, 67,\n",
       "       68, 69, 70, 71, 72, 73, 74, 75, 76, 77, 78, 79, 80, 81, 82, 83, 84,\n",
       "       85, 86, 87, 88, 89, 90, 91, 92, 93, 94, 95, 96, 97, 98, 99])"
      ]
     },
     "execution_count": 212,
     "metadata": {},
     "output_type": "execute_result"
    }
   ],
   "source": [
    "A"
   ]
  },
  {
   "cell_type": "code",
   "execution_count": 214,
   "id": "b087fe2b",
   "metadata": {},
   "outputs": [],
   "source": [
    "C=A[A<40] # all elements <40"
   ]
  },
  {
   "cell_type": "code",
   "execution_count": 215,
   "id": "afb281a7",
   "metadata": {},
   "outputs": [
    {
     "data": {
      "text/plain": [
       "array([ 0,  1,  2,  3,  4,  5,  6,  7,  8,  9, 10, 11, 12, 13, 14, 15, 16,\n",
       "       17, 18, 19, 20, 21, 22, 23, 24, 25, 26, 27, 28, 29, 30, 31, 32, 33,\n",
       "       34, 35, 36, 37, 38, 39])"
      ]
     },
     "execution_count": 215,
     "metadata": {},
     "output_type": "execute_result"
    }
   ],
   "source": [
    "C"
   ]
  },
  {
   "cell_type": "code",
   "execution_count": 219,
   "id": "77546518",
   "metadata": {},
   "outputs": [
    {
     "ename": "ValueError",
     "evalue": "The truth value of an array with more than one element is ambiguous. Use a.any() or a.all()",
     "output_type": "error",
     "traceback": [
      "\u001b[1;31m---------------------------------------------------------------------------\u001b[0m",
      "\u001b[1;31mValueError\u001b[0m                                Traceback (most recent call last)",
      "Cell \u001b[1;32mIn[219], line 1\u001b[0m\n\u001b[1;32m----> 1\u001b[0m D\u001b[38;5;241m=\u001b[39mA[(A\u001b[38;5;241m<\u001b[39m\u001b[38;5;241m40\u001b[39m) \u001b[38;5;129;01mand\u001b[39;00m (A\u001b[38;5;241m>\u001b[39m\u001b[38;5;241m30\u001b[39m)]\n",
      "\u001b[1;31mValueError\u001b[0m: The truth value of an array with more than one element is ambiguous. Use a.any() or a.all()"
     ]
    }
   ],
   "source": [
    "D=A[(A<40) and (A>30)] #and cannot be used for arrays it is used for single object"
   ]
  },
  {
   "cell_type": "code",
   "execution_count": 220,
   "id": "f1a0717e",
   "metadata": {},
   "outputs": [],
   "source": [
    "D=A[(A<40) & (A>30)]"
   ]
  },
  {
   "cell_type": "code",
   "execution_count": 221,
   "id": "6f3fbdd5",
   "metadata": {},
   "outputs": [
    {
     "data": {
      "text/plain": [
       "array([31, 32, 33, 34, 35, 36, 37, 38, 39])"
      ]
     },
     "execution_count": 221,
     "metadata": {},
     "output_type": "execute_result"
    }
   ],
   "source": [
    "D"
   ]
  },
  {
   "cell_type": "code",
   "execution_count": 222,
   "id": "aac6bc04",
   "metadata": {},
   "outputs": [],
   "source": [
    "#single object   Array\n",
    "# and              &\n",
    "# or               |\n",
    "#not               ~"
   ]
  },
  {
   "cell_type": "code",
   "execution_count": 223,
   "id": "4d4477b8",
   "metadata": {},
   "outputs": [],
   "source": [
    "EE=np.round(10*np.random.rand(2,3))"
   ]
  },
  {
   "cell_type": "code",
   "execution_count": 224,
   "id": "c8a4ddcd",
   "metadata": {},
   "outputs": [
    {
     "data": {
      "text/plain": [
       "array([[7., 3., 4.],\n",
       "       [0., 1., 8.]])"
      ]
     },
     "execution_count": 224,
     "metadata": {},
     "output_type": "execute_result"
    }
   ],
   "source": [
    "EE"
   ]
  },
  {
   "cell_type": "code",
   "execution_count": 225,
   "id": "be0a238c",
   "metadata": {},
   "outputs": [
    {
     "data": {
      "text/plain": [
       "array([[10.,  6.,  7.],\n",
       "       [ 3.,  4., 11.]])"
      ]
     },
     "execution_count": 225,
     "metadata": {},
     "output_type": "execute_result"
    }
   ],
   "source": [
    "EE+3"
   ]
  },
  {
   "cell_type": "code",
   "execution_count": 227,
   "id": "6596f4e4",
   "metadata": {},
   "outputs": [
    {
     "data": {
      "text/plain": [
       "array([[7., 3., 4.],\n",
       "       [1., 2., 9.]])"
      ]
     },
     "execution_count": 227,
     "metadata": {},
     "output_type": "execute_result"
    }
   ],
   "source": [
    "EE+(np.arange(2).reshape(2,1))"
   ]
  },
  {
   "cell_type": "code",
   "execution_count": 228,
   "id": "8aedd22b",
   "metadata": {},
   "outputs": [],
   "source": [
    "S=np.arange(2).reshape(2,1)"
   ]
  },
  {
   "cell_type": "code",
   "execution_count": 229,
   "id": "c621bf77",
   "metadata": {},
   "outputs": [
    {
     "data": {
      "text/plain": [
       "array([[0],\n",
       "       [1]])"
      ]
     },
     "execution_count": 229,
     "metadata": {},
     "output_type": "execute_result"
    }
   ],
   "source": [
    "S"
   ]
  },
  {
   "cell_type": "code",
   "execution_count": 231,
   "id": "9b49f436",
   "metadata": {},
   "outputs": [],
   "source": [
    "B=np.round(10*np.random.rand(2,2))"
   ]
  },
  {
   "cell_type": "code",
   "execution_count": 232,
   "id": "2bce5b19",
   "metadata": {},
   "outputs": [
    {
     "data": {
      "text/plain": [
       "array([[10.,  4.],\n",
       "       [ 4.,  4.]])"
      ]
     },
     "execution_count": 232,
     "metadata": {},
     "output_type": "execute_result"
    }
   ],
   "source": [
    "B"
   ]
  },
  {
   "cell_type": "code",
   "execution_count": 233,
   "id": "7d07d48e",
   "metadata": {},
   "outputs": [],
   "source": [
    "c=np.hstack((EE,B))"
   ]
  },
  {
   "cell_type": "code",
   "execution_count": 234,
   "id": "881c72cb",
   "metadata": {},
   "outputs": [
    {
     "data": {
      "text/plain": [
       "array([[ 7.,  3.,  4., 10.,  4.],\n",
       "       [ 0.,  1.,  8.,  4.,  4.]])"
      ]
     },
     "execution_count": 234,
     "metadata": {},
     "output_type": "execute_result"
    }
   ],
   "source": [
    "c"
   ]
  },
  {
   "cell_type": "code",
   "execution_count": 235,
   "id": "287e1f6d",
   "metadata": {},
   "outputs": [
    {
     "ename": "ValueError",
     "evalue": "all the input array dimensions except for the concatenation axis must match exactly, but along dimension 1, the array at index 0 has size 3 and the array at index 1 has size 2",
     "output_type": "error",
     "traceback": [
      "\u001b[1;31m---------------------------------------------------------------------------\u001b[0m",
      "\u001b[1;31mValueError\u001b[0m                                Traceback (most recent call last)",
      "Cell \u001b[1;32mIn[235], line 1\u001b[0m\n\u001b[1;32m----> 1\u001b[0m d\u001b[38;5;241m=\u001b[39mnp\u001b[38;5;241m.\u001b[39mvstack((EE,B))\n",
      "File \u001b[1;32m<__array_function__ internals>:200\u001b[0m, in \u001b[0;36mvstack\u001b[1;34m(*args, **kwargs)\u001b[0m\n",
      "File \u001b[1;32m~\\anaconda3\\Lib\\site-packages\\numpy\\core\\shape_base.py:296\u001b[0m, in \u001b[0;36mvstack\u001b[1;34m(tup, dtype, casting)\u001b[0m\n\u001b[0;32m    294\u001b[0m \u001b[38;5;28;01mif\u001b[39;00m \u001b[38;5;129;01mnot\u001b[39;00m \u001b[38;5;28misinstance\u001b[39m(arrs, \u001b[38;5;28mlist\u001b[39m):\n\u001b[0;32m    295\u001b[0m     arrs \u001b[38;5;241m=\u001b[39m [arrs]\n\u001b[1;32m--> 296\u001b[0m \u001b[38;5;28;01mreturn\u001b[39;00m _nx\u001b[38;5;241m.\u001b[39mconcatenate(arrs, \u001b[38;5;241m0\u001b[39m, dtype\u001b[38;5;241m=\u001b[39mdtype, casting\u001b[38;5;241m=\u001b[39mcasting)\n",
      "File \u001b[1;32m<__array_function__ internals>:200\u001b[0m, in \u001b[0;36mconcatenate\u001b[1;34m(*args, **kwargs)\u001b[0m\n",
      "\u001b[1;31mValueError\u001b[0m: all the input array dimensions except for the concatenation axis must match exactly, but along dimension 1, the array at index 0 has size 3 and the array at index 1 has size 2"
     ]
    }
   ],
   "source": [
    "d=np.vstack((EE,B)) # it should be of same dimention "
   ]
  },
  {
   "cell_type": "code",
   "execution_count": 246,
   "id": "266b1478",
   "metadata": {},
   "outputs": [],
   "source": [
    "A=np.random.permutation(np.arange(10))"
   ]
  },
  {
   "cell_type": "code",
   "execution_count": 247,
   "id": "d0405254",
   "metadata": {},
   "outputs": [
    {
     "data": {
      "text/plain": [
       "array([1, 5, 6, 2, 4, 9, 0, 3, 7, 8])"
      ]
     },
     "execution_count": 247,
     "metadata": {},
     "output_type": "execute_result"
    }
   ],
   "source": [
    "A"
   ]
  },
  {
   "cell_type": "code",
   "execution_count": 248,
   "id": "9eea7dcf",
   "metadata": {},
   "outputs": [],
   "source": [
    "A.sort()"
   ]
  },
  {
   "cell_type": "code",
   "execution_count": 249,
   "id": "fa330e95",
   "metadata": {},
   "outputs": [
    {
     "data": {
      "text/plain": [
       "array([0, 1, 2, 3, 4, 5, 6, 7, 8, 9])"
      ]
     },
     "execution_count": 249,
     "metadata": {},
     "output_type": "execute_result"
    }
   ],
   "source": [
    "A "
   ]
  },
  {
   "cell_type": "code",
   "execution_count": 250,
   "id": "626eb8a9",
   "metadata": {},
   "outputs": [
    {
     "data": {
      "text/plain": [
       "array([0, 1, 2, 3, 4, 5, 6, 7, 8, 9])"
      ]
     },
     "execution_count": 250,
     "metadata": {},
     "output_type": "execute_result"
    }
   ],
   "source": [
    "np.sort(A)"
   ]
  },
  {
   "cell_type": "code",
   "execution_count": 251,
   "id": "b5edbdef",
   "metadata": {},
   "outputs": [],
   "source": [
    "A=A[::-1] #sort in decending order"
   ]
  },
  {
   "cell_type": "code",
   "execution_count": 252,
   "id": "51804776",
   "metadata": {},
   "outputs": [
    {
     "data": {
      "text/plain": [
       "array([9, 8, 7, 6, 5, 4, 3, 2, 1, 0])"
      ]
     },
     "execution_count": 252,
     "metadata": {},
     "output_type": "execute_result"
    }
   ],
   "source": [
    "A"
   ]
  },
  {
   "cell_type": "code",
   "execution_count": 255,
   "id": "b37c23c7",
   "metadata": {},
   "outputs": [],
   "source": [
    "Y=np.array([\"abc\",\"tyr\",\"how\",\"zxc\",23,78])"
   ]
  },
  {
   "cell_type": "code",
   "execution_count": 256,
   "id": "156f1658",
   "metadata": {},
   "outputs": [
    {
     "data": {
      "text/plain": [
       "array(['abc', 'tyr', 'how', 'zxc', '23', '78'], dtype='<U11')"
      ]
     },
     "execution_count": 256,
     "metadata": {},
     "output_type": "execute_result"
    }
   ],
   "source": [
    "Y"
   ]
  },
  {
   "cell_type": "code",
   "execution_count": 257,
   "id": "63084fa4",
   "metadata": {},
   "outputs": [],
   "source": [
    "Y.sort()"
   ]
  },
  {
   "cell_type": "code",
   "execution_count": 258,
   "id": "3992e3a3",
   "metadata": {},
   "outputs": [
    {
     "data": {
      "text/plain": [
       "array(['23', '78', 'abc', 'how', 'tyr', 'zxc'], dtype='<U11')"
      ]
     },
     "execution_count": 258,
     "metadata": {},
     "output_type": "execute_result"
    }
   ],
   "source": [
    "Y"
   ]
  },
  {
   "cell_type": "code",
   "execution_count": 259,
   "id": "84418f9c",
   "metadata": {},
   "outputs": [
    {
     "name": "stdout",
     "output_type": "stream",
     "text": [
      "86.2 ms ± 4.82 ms per loop (mean ± std. dev. of 7 runs, 10 loops each)\n",
      "5.23 µs ± 1.66 µs per loop (mean ± std. dev. of 7 runs, 100,000 loops each)\n"
     ]
    }
   ],
   "source": [
    "BBB=np.random.rand(1000000)\n",
    "%timeit #will give the time it took to execute sum(BBB)\n",
    "%timeit np.sum(B) #B.sum()"
   ]
  },
  {
   "cell_type": "code",
   "execution_count": 260,
   "id": "b5db0bc6",
   "metadata": {},
   "outputs": [],
   "source": [
    "def mysum(G):\n",
    "    s=0\n",
    "    for x in G:\n",
    "        s+=x\n",
    "    return s   "
   ]
  },
  {
   "cell_type": "code",
   "execution_count": 264,
   "id": "9f2b537e",
   "metadata": {},
   "outputs": [
    {
     "name": "stdout",
     "output_type": "stream",
     "text": [
      "136 ms ± 19.1 ms per loop (mean ± std. dev. of 7 runs, 10 loops each)\n"
     ]
    }
   ],
   "source": [
    "%timeit mysum(BBB)"
   ]
  },
  {
   "cell_type": "code",
   "execution_count": 266,
   "id": "a61cbeab",
   "metadata": {},
   "outputs": [
    {
     "data": {
      "text/plain": [
       "4"
      ]
     },
     "execution_count": 266,
     "metadata": {},
     "output_type": "execute_result"
    }
   ],
   "source": [
    "LL=[1,2,34,56,7]\n",
    "len(LL)-1"
   ]
  },
  {
   "cell_type": "code",
   "execution_count": 275,
   "id": "e95e14ae",
   "metadata": {},
   "outputs": [
    {
     "ename": "NameError",
     "evalue": "name 'y' is not defined",
     "output_type": "error",
     "traceback": [
      "\u001b[1;31m---------------------------------------------------------------------------\u001b[0m",
      "\u001b[1;31mNameError\u001b[0m                                 Traceback (most recent call last)",
      "Cell \u001b[1;32mIn[275], line 3\u001b[0m\n\u001b[0;32m      1\u001b[0m i\u001b[38;5;241m=\u001b[39m\u001b[38;5;241m0\u001b[39m\n\u001b[0;32m      2\u001b[0m j\u001b[38;5;241m=\u001b[39m\u001b[38;5;241m1\u001b[39m\n\u001b[1;32m----> 3\u001b[0m \u001b[38;5;28;01mfor\u001b[39;00m x \u001b[38;5;129;01min\u001b[39;00m LL[i] \u001b[38;5;129;01mand\u001b[39;00m (y \u001b[38;5;129;01min\u001b[39;00m LL[j]):\n\u001b[0;32m      4\u001b[0m     \u001b[38;5;28mprint\u001b[39m(x,y)\n",
      "\u001b[1;31mNameError\u001b[0m: name 'y' is not defined"
     ]
    }
   ],
   "source": [
    "i=0\n",
    "j=1\n",
    "for x in LL[i]\n",
    "    print(x,y)"
   ]
  },
  {
   "cell_type": "code",
   "execution_count": 3,
   "id": "82558c8d",
   "metadata": {},
   "outputs": [],
   "source": [
    "    def twoSum(nums,target):\n",
    "        n = len(nums)\n",
    "        for i in range(n-1):\n",
    "            for j in range(i+1, n):\n",
    "                if nums[i]+nums[j] == target:\n",
    "                    return [i,j]\n",
    "        return []"
   ]
  },
  {
   "cell_type": "code",
   "execution_count": 8,
   "id": "e980221f",
   "metadata": {},
   "outputs": [
    {
     "name": "stdout",
     "output_type": "stream",
     "text": [
      "[1, 8]\n"
     ]
    }
   ],
   "source": [
    "print(twoSum((5,6,3,4,6,7,8,9,30,87),36))"
   ]
  },
  {
   "cell_type": "code",
   "execution_count": 62,
   "id": "c0f4df02",
   "metadata": {},
   "outputs": [
    {
     "name": "stdout",
     "output_type": "stream",
     "text": [
      "2\n",
      "243\n",
      "5\n",
      "564\n",
      "<class 'int'>\n",
      "<class 'int'>\n",
      "807\n",
      "[7, 0, 8]\n"
     ]
    }
   ],
   "source": [
    "import numpy as np\n",
    "L1=[2,4,3]\n",
    "L2 = [str(x) for x in L1]\n",
    "print(L2[0])\n",
    "#Con=L2[0]+L2[1]+L2[2]\n",
    "Con=\"\".join(L2)\n",
    "print(Con)\n",
    "L3=[5,6,4]\n",
    "L4 = [str(x) for x in L3]\n",
    "print(L4[0])\n",
    "#Con1=L4[0]+L4[1]+L4[2]\n",
    "Con1=\"\".join(L4)\n",
    "print(Con1)\n",
    "New=int(Con)\n",
    "print(type(New))\n",
    "New1=int(Con1)\n",
    "print(type(New1))\n",
    "final=New+New1\n",
    "print(final)\n",
    "new_list= [int(x) for x in str(final)]\n",
    "print(new_list[::-1])\n",
    "\n",
    "\n",
    "\n",
    "#New=[str.replace(',','') for str in L2]\n",
    "#print(New)\n",
    "#print(New[0])\n",
    "\n",
    "\n",
    "\n",
    "\n",
    "\n",
    "\n",
    "\n",
    "#L2=[564]\n",
    "#L1[0]+L2[0]"
   ]
  },
  {
   "cell_type": "code",
   "execution_count": 67,
   "id": "8bb5df87",
   "metadata": {},
   "outputs": [
    {
     "name": "stdout",
     "output_type": "stream",
     "text": [
      "<class 'list'>\n",
      "9999999\n",
      "9999\n",
      "[8, 9, 9, 9, 0, 0, 0, 1]\n",
      "[8, 9, 9, 9, 0, 0, 0, 1]\n"
     ]
    }
   ],
   "source": [
    "def addnumbers(l1,l2):\n",
    "        l1new=[str(x) for x in l1]\n",
    "        Conl1=\"\".join(l1new)\n",
    "        print(Conl1)\n",
    "        l2new=[str(x) for x in l2]\n",
    "        Conl2=\"\".join(l2new)\n",
    "        print(Conl2)\n",
    "        intConl1=int(Conl1)\n",
    "        intConl2=int(Conl2)\n",
    "        Final=intConl1+intConl2\n",
    "        Add_list= [int(x) for x in str(Final)]\n",
    "        Final_list=Add_list[::-1]\n",
    "        print(Final_list)\n",
    "        return(Final_list)\n",
    "\n",
    "L1=[9,9,9,9,9,9,9]\n",
    "print(type(L1))\n",
    "L2=[9,9,9,9]\n",
    "print(addnumbers(L1,L2))"
   ]
  },
  {
   "cell_type": "code",
   "execution_count": 90,
   "id": "7ec67837",
   "metadata": {},
   "outputs": [
    {
     "name": "stdout",
     "output_type": "stream",
     "text": [
      "digit 1\n",
      "R 1\n",
      "x 12\n",
      "digit 2\n",
      "R 12\n",
      "x 1\n",
      "digit 1\n",
      "R 121\n",
      "x 0\n",
      "True\n"
     ]
    }
   ],
   "source": [
    "x=121\n",
    "x1=x\n",
    "R=0\n",
    "digit=0\n",
    "while x1!=0:\n",
    "    digit=x1 %10\n",
    "    print(\"digit\",digit)\n",
    "    R=R*10+digit\n",
    "    print(\"R\",R)\n",
    "    x1//=10\n",
    "    print(\"x\",x1)\n",
    "if R==x:\n",
    "    print(True)\n",
    "else:\n",
    "    print(False)"
   ]
  },
  {
   "cell_type": "code",
   "execution_count": 79,
   "id": "c7bcaaa8",
   "metadata": {},
   "outputs": [
    {
     "data": {
      "text/plain": [
       "1"
      ]
     },
     "execution_count": 79,
     "metadata": {},
     "output_type": "execute_result"
    }
   ],
   "source": [
    "x=121\n",
    "m=x%10\n",
    "m"
   ]
  },
  {
   "cell_type": "code",
   "execution_count": 91,
   "id": "57906135",
   "metadata": {},
   "outputs": [
    {
     "data": {
      "text/plain": [
       "12.1"
      ]
     },
     "execution_count": 91,
     "metadata": {},
     "output_type": "execute_result"
    }
   ],
   "source": [
    "121/10"
   ]
  },
  {
   "cell_type": "code",
   "execution_count": 92,
   "id": "6a04240d",
   "metadata": {},
   "outputs": [
    {
     "data": {
      "text/plain": [
       "12"
      ]
     },
     "execution_count": 92,
     "metadata": {},
     "output_type": "execute_result"
    }
   ],
   "source": [
    "121//10"
   ]
  },
  {
   "cell_type": "code",
   "execution_count": 94,
   "id": "e8af3efe",
   "metadata": {},
   "outputs": [
    {
     "name": "stdout",
     "output_type": "stream",
     "text": [
      "True\n"
     ]
    }
   ],
   "source": [
    "x=121\n",
    "print(str(x)==str(x)[::-1])"
   ]
  },
  {
   "cell_type": "code",
   "execution_count": null,
   "id": "41531b66",
   "metadata": {},
   "outputs": [],
   "source": []
  }
 ],
 "metadata": {
  "kernelspec": {
   "display_name": "Python 3 (ipykernel)",
   "language": "python",
   "name": "python3"
  },
  "language_info": {
   "codemirror_mode": {
    "name": "ipython",
    "version": 3
   },
   "file_extension": ".py",
   "mimetype": "text/x-python",
   "name": "python",
   "nbconvert_exporter": "python",
   "pygments_lexer": "ipython3",
   "version": "3.11.5"
  }
 },
 "nbformat": 4,
 "nbformat_minor": 5
}
